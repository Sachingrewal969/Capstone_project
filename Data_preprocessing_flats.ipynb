{
 "cells": [
  {
   "cell_type": "code",
   "execution_count": 1,
   "id": "662222d0-7bf0-4b67-b8f0-708121b69cf1",
   "metadata": {
    "tags": []
   },
   "outputs": [],
   "source": [
    "import pandas as pd\n",
    "import numpy as np"
   ]
  },
  {
   "cell_type": "code",
   "execution_count": 2,
   "id": "fd39499a-9dac-4a18-84c7-bd88931c323f",
   "metadata": {
    "tags": []
   },
   "outputs": [],
   "source": [
    "pd.set_option('display.max_rows',None)\n",
    "pd.set_option('display.max_columns',None)"
   ]
  },
  {
   "cell_type": "code",
   "execution_count": 3,
   "id": "96961713-ac67-406e-8747-3be42f371b06",
   "metadata": {
    "tags": []
   },
   "outputs": [],
   "source": [
    "df = pd.read_csv('flats.csv')"
   ]
  },
  {
   "cell_type": "code",
   "execution_count": 4,
   "id": "e94f22e1-b381-4274-82f7-5081a9a386f9",
   "metadata": {
    "tags": []
   },
   "outputs": [
    {
     "data": {
      "text/html": [
       "<div>\n",
       "<style scoped>\n",
       "    .dataframe tbody tr th:only-of-type {\n",
       "        vertical-align: middle;\n",
       "    }\n",
       "\n",
       "    .dataframe tbody tr th {\n",
       "        vertical-align: top;\n",
       "    }\n",
       "\n",
       "    .dataframe thead th {\n",
       "        text-align: right;\n",
       "    }\n",
       "</style>\n",
       "<table border=\"1\" class=\"dataframe\">\n",
       "  <thead>\n",
       "    <tr style=\"text-align: right;\">\n",
       "      <th></th>\n",
       "      <th>property_name</th>\n",
       "      <th>link</th>\n",
       "      <th>society</th>\n",
       "      <th>price</th>\n",
       "      <th>area</th>\n",
       "      <th>areaWithType</th>\n",
       "      <th>bedRoom</th>\n",
       "      <th>bathroom</th>\n",
       "      <th>balcony</th>\n",
       "      <th>additionalRoom</th>\n",
       "      <th>address</th>\n",
       "      <th>floorNum</th>\n",
       "      <th>facing</th>\n",
       "      <th>agePossession</th>\n",
       "      <th>nearbyLocations</th>\n",
       "      <th>description</th>\n",
       "      <th>furnishDetails</th>\n",
       "      <th>features</th>\n",
       "      <th>rating</th>\n",
       "      <th>property_id</th>\n",
       "    </tr>\n",
       "  </thead>\n",
       "  <tbody>\n",
       "    <tr>\n",
       "      <th>908</th>\n",
       "      <td>3 BHK Flat in Sector 85 Gurgaon</td>\n",
       "      <td>https://www.99acres.com/3-bhk-bedroom-apartmen...</td>\n",
       "      <td>SS The Leaf3.8 ★</td>\n",
       "      <td>1.98 Crore</td>\n",
       "      <td>₹ 8,256/sq.ft.</td>\n",
       "      <td>Super Built up area 2408(223.71 sq.m.)Built Up...</td>\n",
       "      <td>3 Bedrooms</td>\n",
       "      <td>4 Bathrooms</td>\n",
       "      <td>3 Balconies</td>\n",
       "      <td>Store Room</td>\n",
       "      <td>Nnbbbbbbbbbb, Sector 85 Gurgaon, Gurgaon, Haryana</td>\n",
       "      <td>12nd   of 26 Floors</td>\n",
       "      <td>West</td>\n",
       "      <td>1 to 5 Year Old</td>\n",
       "      <td>['Sapphire 83 Mall', 'Dwarka Expressway', 'Cen...</td>\n",
       "      <td>This 3 bhk apartment is available for sale in ...</td>\n",
       "      <td>['3 Fan', '3 Light', 'No AC', 'No Bed', 'No Ch...</td>\n",
       "      <td>['Centrally Air Conditioned', 'Water purifier'...</td>\n",
       "      <td>['Green Area4.5 out of 5', 'Construction4.5 ou...</td>\n",
       "      <td>D67564426</td>\n",
       "    </tr>\n",
       "    <tr>\n",
       "      <th>708</th>\n",
       "      <td>4 BHK Flat in Sector 111 Gurgaon</td>\n",
       "      <td>https://www.99acres.com/4-bhk-bedroom-apartmen...</td>\n",
       "      <td>Puri Diplomatic Greens4.0 ★</td>\n",
       "      <td>3.45 Crore</td>\n",
       "      <td>₹ 11,694/sq.ft.</td>\n",
       "      <td>Super Built up area 2950(274.06 sq.m.)</td>\n",
       "      <td>4 Bedrooms</td>\n",
       "      <td>5 Bathrooms</td>\n",
       "      <td>3+ Balconies</td>\n",
       "      <td>Servant Room</td>\n",
       "      <td>N/a, Sector 111 Gurgaon, Gurgaon, Haryana</td>\n",
       "      <td>10th   of 21 Floors</td>\n",
       "      <td>North</td>\n",
       "      <td>1 to 5 Year Old</td>\n",
       "      <td>['Dwarka Sector 21 Metro Station', 'Gurgaon Dr...</td>\n",
       "      <td>Check out this 4 bhk apartment for sale in pur...</td>\n",
       "      <td>[]</td>\n",
       "      <td>['Security / Fire Alarm', 'Power Back-up', 'Fe...</td>\n",
       "      <td>['Green Area5 out of 5', 'Construction5 out of...</td>\n",
       "      <td>T69579124</td>\n",
       "    </tr>\n",
       "    <tr>\n",
       "      <th>1929</th>\n",
       "      <td>3 BHK Flat in Sohna</td>\n",
       "      <td>https://www.99acres.com/3-bhk-bedroom-apartmen...</td>\n",
       "      <td>Signature Global Park4.0 ★</td>\n",
       "      <td>94.99 Lac</td>\n",
       "      <td>₹ 7,850/sq.ft.</td>\n",
       "      <td>Built Up area: 1210 (112.41 sq.m.)</td>\n",
       "      <td>3 Bedrooms</td>\n",
       "      <td>2 Bathrooms</td>\n",
       "      <td>3+ Balconies</td>\n",
       "      <td>NaN</td>\n",
       "      <td>P10 3rd Floor, Sohna, Gurgaon, Haryana</td>\n",
       "      <td>3rd   of 4 Floors</td>\n",
       "      <td>East</td>\n",
       "      <td>0 to 1 Year Old</td>\n",
       "      <td>['Sector 55-56 metro', 'Global city centre', '...</td>\n",
       "      <td>This is on the sohna main elevated road, ready...</td>\n",
       "      <td>[]</td>\n",
       "      <td>['Security / Fire Alarm', 'Lift(s)', 'Maintena...</td>\n",
       "      <td>['Green Area5 out of 5', 'Construction5 out of...</td>\n",
       "      <td>V70169280</td>\n",
       "    </tr>\n",
       "    <tr>\n",
       "      <th>2822</th>\n",
       "      <td>1 BHK Flat in Sector 80 Gurgaon</td>\n",
       "      <td>https://www.99acres.com/1-bhk-bedroom-apartmen...</td>\n",
       "      <td>Elan Mercado</td>\n",
       "      <td>85 Lac</td>\n",
       "      <td>₹ 12,408/sq.ft.</td>\n",
       "      <td>Carpet area: 685 (63.64 sq.m.)</td>\n",
       "      <td>1 Bedroom</td>\n",
       "      <td>1 Bathroom</td>\n",
       "      <td>1 Balcony</td>\n",
       "      <td>NaN</td>\n",
       "      <td>Sector 80 Gurgaon, Gurgaon, Haryana</td>\n",
       "      <td>15th   of 25 Floors</td>\n",
       "      <td>NaN</td>\n",
       "      <td>1 to 5 Year Old</td>\n",
       "      <td>['Sapphire 83', 'Rampura Flyover', 'Laxmi Inte...</td>\n",
       "      <td>Fully serviced service apratment ready to rent...</td>\n",
       "      <td>['1 Wardrobe', '1 Fan', '1 Sofa', '1 Exhaust F...</td>\n",
       "      <td>['Power Back-up', 'Lift(s)', 'Swimming Pool', ...</td>\n",
       "      <td>NaN</td>\n",
       "      <td>A67150216</td>\n",
       "    </tr>\n",
       "    <tr>\n",
       "      <th>1886</th>\n",
       "      <td>3 BHK Flat in Sector 99A Gurgaon</td>\n",
       "      <td>https://www.99acres.com/3-bhk-bedroom-apartmen...</td>\n",
       "      <td>Pareena Coban Residences</td>\n",
       "      <td>1.13 Crore</td>\n",
       "      <td>₹ 5,658/sq.ft.</td>\n",
       "      <td>Super Built up area 1997(185.53 sq.m.)Built Up...</td>\n",
       "      <td>3 Bedrooms</td>\n",
       "      <td>5 Bathrooms</td>\n",
       "      <td>3 Balconies</td>\n",
       "      <td>Servant Room,Others</td>\n",
       "      <td>Sector 99A Gurgaon, Gurgaon, Haryana</td>\n",
       "      <td>5th   of 20 Floors</td>\n",
       "      <td>East</td>\n",
       "      <td>1 to 5 Year Old</td>\n",
       "      <td>['Gopal Super Market', 'Little Need Super Mark...</td>\n",
       "      <td>This lovely 3 bhk apartment/flat in sector 99a...</td>\n",
       "      <td>['2 Light', 'No AC', 'No Bed', 'No Chimney', '...</td>\n",
       "      <td>['Feng Shui / Vaastu Compliant', 'Security / F...</td>\n",
       "      <td>['Environment4 out of 5', 'Lifestyle3 out of 5...</td>\n",
       "      <td>O68920324</td>\n",
       "    </tr>\n",
       "  </tbody>\n",
       "</table>\n",
       "</div>"
      ],
      "text/plain": [
       "                         property_name  \\\n",
       "908    3 BHK Flat in Sector 85 Gurgaon   \n",
       "708   4 BHK Flat in Sector 111 Gurgaon   \n",
       "1929               3 BHK Flat in Sohna   \n",
       "2822   1 BHK Flat in Sector 80 Gurgaon   \n",
       "1886  3 BHK Flat in Sector 99A Gurgaon   \n",
       "\n",
       "                                                   link  \\\n",
       "908   https://www.99acres.com/3-bhk-bedroom-apartmen...   \n",
       "708   https://www.99acres.com/4-bhk-bedroom-apartmen...   \n",
       "1929  https://www.99acres.com/3-bhk-bedroom-apartmen...   \n",
       "2822  https://www.99acres.com/1-bhk-bedroom-apartmen...   \n",
       "1886  https://www.99acres.com/3-bhk-bedroom-apartmen...   \n",
       "\n",
       "                          society       price             area  \\\n",
       "908              SS The Leaf3.8 ★  1.98 Crore   ₹ 8,256/sq.ft.   \n",
       "708   Puri Diplomatic Greens4.0 ★  3.45 Crore  ₹ 11,694/sq.ft.   \n",
       "1929   Signature Global Park4.0 ★   94.99 Lac   ₹ 7,850/sq.ft.   \n",
       "2822                 Elan Mercado      85 Lac  ₹ 12,408/sq.ft.   \n",
       "1886     Pareena Coban Residences  1.13 Crore   ₹ 5,658/sq.ft.   \n",
       "\n",
       "                                           areaWithType     bedRoom  \\\n",
       "908   Super Built up area 2408(223.71 sq.m.)Built Up...  3 Bedrooms   \n",
       "708              Super Built up area 2950(274.06 sq.m.)  4 Bedrooms   \n",
       "1929                 Built Up area: 1210 (112.41 sq.m.)  3 Bedrooms   \n",
       "2822                     Carpet area: 685 (63.64 sq.m.)   1 Bedroom   \n",
       "1886  Super Built up area 1997(185.53 sq.m.)Built Up...  3 Bedrooms   \n",
       "\n",
       "         bathroom       balcony       additionalRoom  \\\n",
       "908   4 Bathrooms   3 Balconies           Store Room   \n",
       "708   5 Bathrooms  3+ Balconies         Servant Room   \n",
       "1929  2 Bathrooms  3+ Balconies                  NaN   \n",
       "2822   1 Bathroom     1 Balcony                  NaN   \n",
       "1886  5 Bathrooms   3 Balconies  Servant Room,Others   \n",
       "\n",
       "                                                address             floorNum  \\\n",
       "908   Nnbbbbbbbbbb, Sector 85 Gurgaon, Gurgaon, Haryana  12nd   of 26 Floors   \n",
       "708           N/a, Sector 111 Gurgaon, Gurgaon, Haryana  10th   of 21 Floors   \n",
       "1929             P10 3rd Floor, Sohna, Gurgaon, Haryana    3rd   of 4 Floors   \n",
       "2822                Sector 80 Gurgaon, Gurgaon, Haryana  15th   of 25 Floors   \n",
       "1886               Sector 99A Gurgaon, Gurgaon, Haryana   5th   of 20 Floors   \n",
       "\n",
       "     facing    agePossession  \\\n",
       "908    West  1 to 5 Year Old   \n",
       "708   North  1 to 5 Year Old   \n",
       "1929   East  0 to 1 Year Old   \n",
       "2822    NaN  1 to 5 Year Old   \n",
       "1886   East  1 to 5 Year Old   \n",
       "\n",
       "                                        nearbyLocations  \\\n",
       "908   ['Sapphire 83 Mall', 'Dwarka Expressway', 'Cen...   \n",
       "708   ['Dwarka Sector 21 Metro Station', 'Gurgaon Dr...   \n",
       "1929  ['Sector 55-56 metro', 'Global city centre', '...   \n",
       "2822  ['Sapphire 83', 'Rampura Flyover', 'Laxmi Inte...   \n",
       "1886  ['Gopal Super Market', 'Little Need Super Mark...   \n",
       "\n",
       "                                            description  \\\n",
       "908   This 3 bhk apartment is available for sale in ...   \n",
       "708   Check out this 4 bhk apartment for sale in pur...   \n",
       "1929  This is on the sohna main elevated road, ready...   \n",
       "2822  Fully serviced service apratment ready to rent...   \n",
       "1886  This lovely 3 bhk apartment/flat in sector 99a...   \n",
       "\n",
       "                                         furnishDetails  \\\n",
       "908   ['3 Fan', '3 Light', 'No AC', 'No Bed', 'No Ch...   \n",
       "708                                                  []   \n",
       "1929                                                 []   \n",
       "2822  ['1 Wardrobe', '1 Fan', '1 Sofa', '1 Exhaust F...   \n",
       "1886  ['2 Light', 'No AC', 'No Bed', 'No Chimney', '...   \n",
       "\n",
       "                                               features  \\\n",
       "908   ['Centrally Air Conditioned', 'Water purifier'...   \n",
       "708   ['Security / Fire Alarm', 'Power Back-up', 'Fe...   \n",
       "1929  ['Security / Fire Alarm', 'Lift(s)', 'Maintena...   \n",
       "2822  ['Power Back-up', 'Lift(s)', 'Swimming Pool', ...   \n",
       "1886  ['Feng Shui / Vaastu Compliant', 'Security / F...   \n",
       "\n",
       "                                                 rating property_id  \n",
       "908   ['Green Area4.5 out of 5', 'Construction4.5 ou...   D67564426  \n",
       "708   ['Green Area5 out of 5', 'Construction5 out of...   T69579124  \n",
       "1929  ['Green Area5 out of 5', 'Construction5 out of...   V70169280  \n",
       "2822                                                NaN   A67150216  \n",
       "1886  ['Environment4 out of 5', 'Lifestyle3 out of 5...   O68920324  "
      ]
     },
     "execution_count": 4,
     "metadata": {},
     "output_type": "execute_result"
    }
   ],
   "source": [
    "df.sample(5)"
   ]
  },
  {
   "cell_type": "code",
   "execution_count": 6,
   "id": "772fc367-d276-494d-9039-62afd3c6581c",
   "metadata": {
    "tags": []
   },
   "outputs": [
    {
     "data": {
      "text/plain": [
       "(3017, 20)"
      ]
     },
     "execution_count": 6,
     "metadata": {},
     "output_type": "execute_result"
    }
   ],
   "source": [
    "df.shape"
   ]
  },
  {
   "cell_type": "code",
   "execution_count": 7,
   "id": "dba67c6c-a556-4fa0-8790-da3716f1c5a1",
   "metadata": {
    "tags": []
   },
   "outputs": [
    {
     "name": "stdout",
     "output_type": "stream",
     "text": [
      "<class 'pandas.core.frame.DataFrame'>\n",
      "RangeIndex: 3017 entries, 0 to 3016\n",
      "Data columns (total 20 columns):\n",
      " #   Column           Non-Null Count  Dtype \n",
      "---  ------           --------------  ----- \n",
      " 0   property_name    3017 non-null   object\n",
      " 1   link             3017 non-null   object\n",
      " 2   society          3016 non-null   object\n",
      " 3   price            3007 non-null   object\n",
      " 4   area             3004 non-null   object\n",
      " 5   areaWithType     3008 non-null   object\n",
      " 6   bedRoom          3008 non-null   object\n",
      " 7   bathroom         3008 non-null   object\n",
      " 8   balcony          3008 non-null   object\n",
      " 9   additionalRoom   1694 non-null   object\n",
      " 10  address          3002 non-null   object\n",
      " 11  floorNum         3006 non-null   object\n",
      " 12  facing           2127 non-null   object\n",
      " 13  agePossession    3007 non-null   object\n",
      " 14  nearbyLocations  2913 non-null   object\n",
      " 15  description      3008 non-null   object\n",
      " 16  furnishDetails   2203 non-null   object\n",
      " 17  features         2594 non-null   object\n",
      " 18  rating           2676 non-null   object\n",
      " 19  property_id      3008 non-null   object\n",
      "dtypes: object(20)\n",
      "memory usage: 471.5+ KB\n"
     ]
    }
   ],
   "source": [
    "df.info()"
   ]
  },
  {
   "cell_type": "code",
   "execution_count": 8,
   "id": "48e229af-fa98-48a9-9cf3-82be89a57cd0",
   "metadata": {
    "tags": []
   },
   "outputs": [
    {
     "data": {
      "text/plain": [
       "0"
      ]
     },
     "execution_count": 8,
     "metadata": {},
     "output_type": "execute_result"
    }
   ],
   "source": [
    "df.duplicated().sum()"
   ]
  },
  {
   "cell_type": "code",
   "execution_count": 9,
   "id": "eff310ab-cb44-4086-9d13-f4dae2739224",
   "metadata": {
    "tags": []
   },
   "outputs": [
    {
     "data": {
      "text/plain": [
       "property_name         0\n",
       "link                  0\n",
       "society               1\n",
       "price                10\n",
       "area                 13\n",
       "areaWithType          9\n",
       "bedRoom               9\n",
       "bathroom              9\n",
       "balcony               9\n",
       "additionalRoom     1323\n",
       "address              15\n",
       "floorNum             11\n",
       "facing              890\n",
       "agePossession        10\n",
       "nearbyLocations     104\n",
       "description           9\n",
       "furnishDetails      814\n",
       "features            423\n",
       "rating              341\n",
       "property_id           9\n",
       "dtype: int64"
      ]
     },
     "execution_count": 9,
     "metadata": {},
     "output_type": "execute_result"
    }
   ],
   "source": [
    "df.isnull().sum()"
   ]
  },
  {
   "cell_type": "code",
   "execution_count": 10,
   "id": "e3389649-8c70-47fc-ad89-55c8ce7f18ee",
   "metadata": {
    "tags": []
   },
   "outputs": [],
   "source": [
    "df.drop(columns=['link','property_id'],inplace=True)"
   ]
  },
  {
   "cell_type": "code",
   "execution_count": 11,
   "id": "39585a7e-b712-4a94-8769-68b90d57b504",
   "metadata": {
    "tags": []
   },
   "outputs": [
    {
     "data": {
      "text/html": [
       "<div>\n",
       "<style scoped>\n",
       "    .dataframe tbody tr th:only-of-type {\n",
       "        vertical-align: middle;\n",
       "    }\n",
       "\n",
       "    .dataframe tbody tr th {\n",
       "        vertical-align: top;\n",
       "    }\n",
       "\n",
       "    .dataframe thead th {\n",
       "        text-align: right;\n",
       "    }\n",
       "</style>\n",
       "<table border=\"1\" class=\"dataframe\">\n",
       "  <thead>\n",
       "    <tr style=\"text-align: right;\">\n",
       "      <th></th>\n",
       "      <th>property_name</th>\n",
       "      <th>society</th>\n",
       "      <th>price</th>\n",
       "      <th>area</th>\n",
       "      <th>areaWithType</th>\n",
       "      <th>bedRoom</th>\n",
       "      <th>bathroom</th>\n",
       "      <th>balcony</th>\n",
       "      <th>additionalRoom</th>\n",
       "      <th>address</th>\n",
       "      <th>floorNum</th>\n",
       "      <th>facing</th>\n",
       "      <th>agePossession</th>\n",
       "      <th>nearbyLocations</th>\n",
       "      <th>description</th>\n",
       "      <th>furnishDetails</th>\n",
       "      <th>features</th>\n",
       "      <th>rating</th>\n",
       "    </tr>\n",
       "  </thead>\n",
       "  <tbody>\n",
       "    <tr>\n",
       "      <th>0</th>\n",
       "      <td>2 BHK Flat in Krishna Colony</td>\n",
       "      <td>maa bhagwati residency</td>\n",
       "      <td>45 Lac</td>\n",
       "      <td>₹ 5,000/sq.ft.</td>\n",
       "      <td>Carpet area: 900 (83.61 sq.m.)</td>\n",
       "      <td>2 Bedrooms</td>\n",
       "      <td>2 Bathrooms</td>\n",
       "      <td>1 Balcony</td>\n",
       "      <td>NaN</td>\n",
       "      <td>Krishna Colony, Gurgaon, Haryana</td>\n",
       "      <td>4th   of 4 Floors</td>\n",
       "      <td>West</td>\n",
       "      <td>1 to 5 Year Old</td>\n",
       "      <td>['Chintapurni Mandir', 'State bank ATM', 'Pear...</td>\n",
       "      <td>So with lift.Maa bhagwati residency is one of ...</td>\n",
       "      <td>['3 Fan', '4 Light', '1 Wardrobe', 'No AC', 'N...</td>\n",
       "      <td>['Feng Shui / Vaastu Compliant', 'Security / F...</td>\n",
       "      <td>['Environment4 out of 5', 'Safety4 out of 5', ...</td>\n",
       "    </tr>\n",
       "    <tr>\n",
       "      <th>1</th>\n",
       "      <td>2 BHK Flat in Ashok Vihar</td>\n",
       "      <td>Apna Enclave</td>\n",
       "      <td>50 Lac</td>\n",
       "      <td>₹ 7,692/sq.ft.</td>\n",
       "      <td>Carpet area: 650 (60.39 sq.m.)</td>\n",
       "      <td>2 Bedrooms</td>\n",
       "      <td>2 Bathrooms</td>\n",
       "      <td>1 Balcony</td>\n",
       "      <td>NaN</td>\n",
       "      <td>46b, Ashok Vihar, Gurgaon, Haryana</td>\n",
       "      <td>1st   of 3 Floors</td>\n",
       "      <td>West</td>\n",
       "      <td>10+ Year Old</td>\n",
       "      <td>['Chintapurni Mandir', 'Sheetla Mata Mandir', ...</td>\n",
       "      <td>Property situated on main road, railway statio...</td>\n",
       "      <td>['3 Wardrobe', '4 Fan', '1 Exhaust Fan', '1 Ge...</td>\n",
       "      <td>['Security / Fire Alarm', 'Maintenance Staff',...</td>\n",
       "      <td>['Environment4 out of 5', 'Safety4 out of 5', ...</td>\n",
       "    </tr>\n",
       "    <tr>\n",
       "      <th>2</th>\n",
       "      <td>2 BHK Flat in Sohna</td>\n",
       "      <td>Tulsiani Easy in Homes</td>\n",
       "      <td>40 Lac</td>\n",
       "      <td>₹ 6,722/sq.ft.</td>\n",
       "      <td>Carpet area: 595 (55.28 sq.m.)</td>\n",
       "      <td>2 Bedrooms</td>\n",
       "      <td>2 Bathrooms</td>\n",
       "      <td>3 Balconies</td>\n",
       "      <td>NaN</td>\n",
       "      <td>Sohna, Gurgaon, Haryana</td>\n",
       "      <td>12nd   of 14 Floors</td>\n",
       "      <td>NaN</td>\n",
       "      <td>0 to 1 Year Old</td>\n",
       "      <td>['Huda City Metro', 'Golf Course extn road', '...</td>\n",
       "      <td>This property is 15 km away from badshapur, gu...</td>\n",
       "      <td>NaN</td>\n",
       "      <td>['Power Back-up', 'Feng Shui / Vaastu Complian...</td>\n",
       "      <td>['Environment4 out of 5', 'Safety4 out of 5', ...</td>\n",
       "    </tr>\n",
       "    <tr>\n",
       "      <th>3</th>\n",
       "      <td>2 BHK Flat in Sector 61 Gurgaon</td>\n",
       "      <td>Smart World Orchard</td>\n",
       "      <td>1.47 Crore</td>\n",
       "      <td>₹ 12,250/sq.ft.</td>\n",
       "      <td>Carpet area: 1200 (111.48 sq.m.)</td>\n",
       "      <td>2 Bedrooms</td>\n",
       "      <td>2 Bathrooms</td>\n",
       "      <td>2 Balconies</td>\n",
       "      <td>Study Room</td>\n",
       "      <td>Sector 61 Gurgaon, Gurgaon, Haryana</td>\n",
       "      <td>2nd   of 4 Floors</td>\n",
       "      <td>NaN</td>\n",
       "      <td>Dec 2023</td>\n",
       "      <td>['Sector 55-56 Metro station', 'Bestech Centra...</td>\n",
       "      <td>Near to metro station of sector 56 and opposit...</td>\n",
       "      <td>NaN</td>\n",
       "      <td>['Security / Fire Alarm', 'Private Garden / Te...</td>\n",
       "      <td>NaN</td>\n",
       "    </tr>\n",
       "    <tr>\n",
       "      <th>4</th>\n",
       "      <td>2 BHK Flat in Sector 92 Gurgaon</td>\n",
       "      <td>Parkwood Westend</td>\n",
       "      <td>70 Lac</td>\n",
       "      <td>₹ 5,204/sq.ft.</td>\n",
       "      <td>Super Built up area 1345(124.95 sq.m.)</td>\n",
       "      <td>2 Bedrooms</td>\n",
       "      <td>2 Bathrooms</td>\n",
       "      <td>3 Balconies</td>\n",
       "      <td>Study Room</td>\n",
       "      <td>Sector 92 Gurgaon, Gurgaon, Haryana</td>\n",
       "      <td>5th   of 8 Floors</td>\n",
       "      <td>NaN</td>\n",
       "      <td>Under Construction</td>\n",
       "      <td>['Yadav Clinic', 'Bangali Clinic', 'Dr. J. S. ...</td>\n",
       "      <td>We are the proud owners of this 2 bhk alongwit...</td>\n",
       "      <td>[]</td>\n",
       "      <td>NaN</td>\n",
       "      <td>['Environment5 out of 5', 'Safety3 out of 5', ...</td>\n",
       "    </tr>\n",
       "  </tbody>\n",
       "</table>\n",
       "</div>"
      ],
      "text/plain": [
       "                     property_name                 society       price  \\\n",
       "0     2 BHK Flat in Krishna Colony  maa bhagwati residency      45 Lac   \n",
       "1        2 BHK Flat in Ashok Vihar            Apna Enclave      50 Lac   \n",
       "2              2 BHK Flat in Sohna  Tulsiani Easy in Homes      40 Lac   \n",
       "3  2 BHK Flat in Sector 61 Gurgaon     Smart World Orchard  1.47 Crore   \n",
       "4  2 BHK Flat in Sector 92 Gurgaon        Parkwood Westend      70 Lac   \n",
       "\n",
       "              area                            areaWithType     bedRoom  \\\n",
       "0   ₹ 5,000/sq.ft.          Carpet area: 900 (83.61 sq.m.)  2 Bedrooms   \n",
       "1   ₹ 7,692/sq.ft.          Carpet area: 650 (60.39 sq.m.)  2 Bedrooms   \n",
       "2   ₹ 6,722/sq.ft.          Carpet area: 595 (55.28 sq.m.)  2 Bedrooms   \n",
       "3  ₹ 12,250/sq.ft.        Carpet area: 1200 (111.48 sq.m.)  2 Bedrooms   \n",
       "4   ₹ 5,204/sq.ft.  Super Built up area 1345(124.95 sq.m.)  2 Bedrooms   \n",
       "\n",
       "      bathroom      balcony additionalRoom  \\\n",
       "0  2 Bathrooms    1 Balcony            NaN   \n",
       "1  2 Bathrooms    1 Balcony            NaN   \n",
       "2  2 Bathrooms  3 Balconies            NaN   \n",
       "3  2 Bathrooms  2 Balconies     Study Room   \n",
       "4  2 Bathrooms  3 Balconies     Study Room   \n",
       "\n",
       "                               address             floorNum facing  \\\n",
       "0     Krishna Colony, Gurgaon, Haryana    4th   of 4 Floors   West   \n",
       "1   46b, Ashok Vihar, Gurgaon, Haryana    1st   of 3 Floors   West   \n",
       "2              Sohna, Gurgaon, Haryana  12nd   of 14 Floors    NaN   \n",
       "3  Sector 61 Gurgaon, Gurgaon, Haryana    2nd   of 4 Floors    NaN   \n",
       "4  Sector 92 Gurgaon, Gurgaon, Haryana    5th   of 8 Floors    NaN   \n",
       "\n",
       "        agePossession                                    nearbyLocations  \\\n",
       "0     1 to 5 Year Old  ['Chintapurni Mandir', 'State bank ATM', 'Pear...   \n",
       "1        10+ Year Old  ['Chintapurni Mandir', 'Sheetla Mata Mandir', ...   \n",
       "2     0 to 1 Year Old  ['Huda City Metro', 'Golf Course extn road', '...   \n",
       "3            Dec 2023  ['Sector 55-56 Metro station', 'Bestech Centra...   \n",
       "4  Under Construction  ['Yadav Clinic', 'Bangali Clinic', 'Dr. J. S. ...   \n",
       "\n",
       "                                         description  \\\n",
       "0  So with lift.Maa bhagwati residency is one of ...   \n",
       "1  Property situated on main road, railway statio...   \n",
       "2  This property is 15 km away from badshapur, gu...   \n",
       "3  Near to metro station of sector 56 and opposit...   \n",
       "4  We are the proud owners of this 2 bhk alongwit...   \n",
       "\n",
       "                                      furnishDetails  \\\n",
       "0  ['3 Fan', '4 Light', '1 Wardrobe', 'No AC', 'N...   \n",
       "1  ['3 Wardrobe', '4 Fan', '1 Exhaust Fan', '1 Ge...   \n",
       "2                                                NaN   \n",
       "3                                                NaN   \n",
       "4                                                 []   \n",
       "\n",
       "                                            features  \\\n",
       "0  ['Feng Shui / Vaastu Compliant', 'Security / F...   \n",
       "1  ['Security / Fire Alarm', 'Maintenance Staff',...   \n",
       "2  ['Power Back-up', 'Feng Shui / Vaastu Complian...   \n",
       "3  ['Security / Fire Alarm', 'Private Garden / Te...   \n",
       "4                                                NaN   \n",
       "\n",
       "                                              rating  \n",
       "0  ['Environment4 out of 5', 'Safety4 out of 5', ...  \n",
       "1  ['Environment4 out of 5', 'Safety4 out of 5', ...  \n",
       "2  ['Environment4 out of 5', 'Safety4 out of 5', ...  \n",
       "3                                                NaN  \n",
       "4  ['Environment5 out of 5', 'Safety3 out of 5', ...  "
      ]
     },
     "execution_count": 11,
     "metadata": {},
     "output_type": "execute_result"
    }
   ],
   "source": [
    "df.head()"
   ]
  },
  {
   "cell_type": "code",
   "execution_count": 12,
   "id": "8ca1156b-7ee3-49a4-8849-b3c04b728428",
   "metadata": {
    "tags": []
   },
   "outputs": [
    {
     "data": {
      "text/html": [
       "<div>\n",
       "<style scoped>\n",
       "    .dataframe tbody tr th:only-of-type {\n",
       "        vertical-align: middle;\n",
       "    }\n",
       "\n",
       "    .dataframe tbody tr th {\n",
       "        vertical-align: top;\n",
       "    }\n",
       "\n",
       "    .dataframe thead th {\n",
       "        text-align: right;\n",
       "    }\n",
       "</style>\n",
       "<table border=\"1\" class=\"dataframe\">\n",
       "  <thead>\n",
       "    <tr style=\"text-align: right;\">\n",
       "      <th></th>\n",
       "      <th>property_name</th>\n",
       "      <th>society</th>\n",
       "      <th>price</th>\n",
       "      <th>price_per_sqft</th>\n",
       "      <th>areaWithType</th>\n",
       "      <th>bedRoom</th>\n",
       "      <th>bathroom</th>\n",
       "      <th>balcony</th>\n",
       "      <th>additionalRoom</th>\n",
       "      <th>address</th>\n",
       "      <th>floorNum</th>\n",
       "      <th>facing</th>\n",
       "      <th>agePossession</th>\n",
       "      <th>nearbyLocations</th>\n",
       "      <th>description</th>\n",
       "      <th>furnishDetails</th>\n",
       "      <th>features</th>\n",
       "      <th>rating</th>\n",
       "    </tr>\n",
       "  </thead>\n",
       "  <tbody>\n",
       "    <tr>\n",
       "      <th>0</th>\n",
       "      <td>2 BHK Flat in Krishna Colony</td>\n",
       "      <td>maa bhagwati residency</td>\n",
       "      <td>45 Lac</td>\n",
       "      <td>₹ 5,000/sq.ft.</td>\n",
       "      <td>Carpet area: 900 (83.61 sq.m.)</td>\n",
       "      <td>2 Bedrooms</td>\n",
       "      <td>2 Bathrooms</td>\n",
       "      <td>1 Balcony</td>\n",
       "      <td>NaN</td>\n",
       "      <td>Krishna Colony, Gurgaon, Haryana</td>\n",
       "      <td>4th   of 4 Floors</td>\n",
       "      <td>West</td>\n",
       "      <td>1 to 5 Year Old</td>\n",
       "      <td>['Chintapurni Mandir', 'State bank ATM', 'Pear...</td>\n",
       "      <td>So with lift.Maa bhagwati residency is one of ...</td>\n",
       "      <td>['3 Fan', '4 Light', '1 Wardrobe', 'No AC', 'N...</td>\n",
       "      <td>['Feng Shui / Vaastu Compliant', 'Security / F...</td>\n",
       "      <td>['Environment4 out of 5', 'Safety4 out of 5', ...</td>\n",
       "    </tr>\n",
       "  </tbody>\n",
       "</table>\n",
       "</div>"
      ],
      "text/plain": [
       "                  property_name                 society   price  \\\n",
       "0  2 BHK Flat in Krishna Colony  maa bhagwati residency  45 Lac   \n",
       "\n",
       "   price_per_sqft                    areaWithType     bedRoom     bathroom  \\\n",
       "0  ₹ 5,000/sq.ft.  Carpet area: 900 (83.61 sq.m.)  2 Bedrooms  2 Bathrooms   \n",
       "\n",
       "     balcony additionalRoom                           address  \\\n",
       "0  1 Balcony            NaN  Krishna Colony, Gurgaon, Haryana   \n",
       "\n",
       "            floorNum facing    agePossession  \\\n",
       "0  4th   of 4 Floors   West  1 to 5 Year Old   \n",
       "\n",
       "                                     nearbyLocations  \\\n",
       "0  ['Chintapurni Mandir', 'State bank ATM', 'Pear...   \n",
       "\n",
       "                                         description  \\\n",
       "0  So with lift.Maa bhagwati residency is one of ...   \n",
       "\n",
       "                                      furnishDetails  \\\n",
       "0  ['3 Fan', '4 Light', '1 Wardrobe', 'No AC', 'N...   \n",
       "\n",
       "                                            features  \\\n",
       "0  ['Feng Shui / Vaastu Compliant', 'Security / F...   \n",
       "\n",
       "                                              rating  \n",
       "0  ['Environment4 out of 5', 'Safety4 out of 5', ...  "
      ]
     },
     "execution_count": 12,
     "metadata": {},
     "output_type": "execute_result"
    }
   ],
   "source": [
    "df.rename(columns={'area':'price_per_sqft'},inplace=True)\n",
    "df.head(1)"
   ]
  },
  {
   "cell_type": "code",
   "execution_count": 15,
   "id": "d4199252-adef-4b97-8b26-3a5a509ea851",
   "metadata": {
    "tags": []
   },
   "outputs": [
    {
     "data": {
      "text/plain": [
       "society\n",
       "SS The Leaf3.8 ★                             73\n",
       "Tulip Violet4.3 ★                            40\n",
       "Shapoorji Pallonji Joyville Gurugram4.0 ★    39\n",
       "Signature Global Park4.0 ★                   36\n",
       "Shree Vardhman Victoria3.8 ★                 35\n",
       "Name: count, dtype: int64"
      ]
     },
     "execution_count": 15,
     "metadata": {},
     "output_type": "execute_result"
    }
   ],
   "source": [
    "df['society'].value_counts().head(5)"
   ]
  },
  {
   "cell_type": "code",
   "execution_count": 16,
   "id": "90250781-09eb-4486-8a6b-fedbad880bbc",
   "metadata": {
    "tags": []
   },
   "outputs": [
    {
     "data": {
      "text/plain": [
       "(638,)"
      ]
     },
     "execution_count": 16,
     "metadata": {},
     "output_type": "execute_result"
    }
   ],
   "source": [
    "df['society'].value_counts().shape"
   ]
  },
  {
   "cell_type": "code",
   "execution_count": 17,
   "id": "7ace8af9-1f58-4970-89b3-4e2d670aac05",
   "metadata": {
    "tags": []
   },
   "outputs": [],
   "source": [
    "import re\n",
    "df['society'] = df['society'].apply(lambda name: re.sub(r'\\d+(\\.\\d+)?\\s?★', '',str(name)).strip()).str.lower()"
   ]
  },
  {
   "cell_type": "code",
   "execution_count": 19,
   "id": "b9393bd5-285a-46bf-8508-b7945b7a7d13",
   "metadata": {
    "tags": []
   },
   "outputs": [
    {
     "data": {
      "text/plain": [
       "society\n",
       "tulip violet                            75\n",
       "ss the leaf                             74\n",
       "shapoorji pallonji joyville gurugram    45\n",
       "dlf new town heights                    38\n",
       "signature global park                   36\n",
       "Name: count, dtype: int64"
      ]
     },
     "execution_count": 19,
     "metadata": {},
     "output_type": "execute_result"
    }
   ],
   "source": [
    "df['society'].value_counts().head(5)"
   ]
  },
  {
   "cell_type": "code",
   "execution_count": 21,
   "id": "5f5eca29-5cb9-4070-9cc7-9fdc43eaf843",
   "metadata": {
    "tags": []
   },
   "outputs": [
    {
     "data": {
      "text/plain": [
       "price\n",
       "62.5 Lac      1\n",
       "85.75 Lac     1\n",
       "52 Lac        3\n",
       "2.34 Crore    1\n",
       "26.5 Lac      1\n",
       "Name: count, dtype: int64"
      ]
     },
     "execution_count": 21,
     "metadata": {},
     "output_type": "execute_result"
    }
   ],
   "source": [
    "# price\n",
    "df['price'].value_counts().sample(5)"
   ]
  },
  {
   "cell_type": "code",
   "execution_count": 22,
   "id": "b1b49fa4-650d-4157-8e8c-1ca63de8ba08",
   "metadata": {
    "tags": []
   },
   "outputs": [],
   "source": [
    "df = df[df['price'] != 'Price on Request']"
   ]
  },
  {
   "cell_type": "code",
   "execution_count": 23,
   "id": "1a4851b8-97b4-434b-9259-19267cffa40c",
   "metadata": {
    "tags": []
   },
   "outputs": [],
   "source": [
    "def treat_price(x):\n",
    "    if type(x) == float:\n",
    "        return x\n",
    "    else:\n",
    "        if x[1] == 'Lac':\n",
    "            return round(float(x[0])/100,2)\n",
    "        else:\n",
    "            return round(float(x[0]),2)"
   ]
  },
  {
   "cell_type": "code",
   "execution_count": 24,
   "id": "c941d22f-b6e2-47ec-b975-431396ed4264",
   "metadata": {
    "tags": []
   },
   "outputs": [],
   "source": [
    "df['price'] = df['price'].str.split(' ').apply(treat_price)"
   ]
  },
  {
   "cell_type": "code",
   "execution_count": 26,
   "id": "1a996762-4722-446f-af3d-15b04e13e30a",
   "metadata": {
    "tags": []
   },
   "outputs": [
    {
     "data": {
      "text/html": [
       "<div>\n",
       "<style scoped>\n",
       "    .dataframe tbody tr th:only-of-type {\n",
       "        vertical-align: middle;\n",
       "    }\n",
       "\n",
       "    .dataframe tbody tr th {\n",
       "        vertical-align: top;\n",
       "    }\n",
       "\n",
       "    .dataframe thead th {\n",
       "        text-align: right;\n",
       "    }\n",
       "</style>\n",
       "<table border=\"1\" class=\"dataframe\">\n",
       "  <thead>\n",
       "    <tr style=\"text-align: right;\">\n",
       "      <th></th>\n",
       "      <th>property_name</th>\n",
       "      <th>society</th>\n",
       "      <th>price</th>\n",
       "      <th>price_per_sqft</th>\n",
       "      <th>areaWithType</th>\n",
       "      <th>bedRoom</th>\n",
       "      <th>bathroom</th>\n",
       "      <th>balcony</th>\n",
       "      <th>additionalRoom</th>\n",
       "      <th>address</th>\n",
       "      <th>floorNum</th>\n",
       "      <th>facing</th>\n",
       "      <th>agePossession</th>\n",
       "      <th>nearbyLocations</th>\n",
       "      <th>description</th>\n",
       "      <th>furnishDetails</th>\n",
       "      <th>features</th>\n",
       "      <th>rating</th>\n",
       "    </tr>\n",
       "  </thead>\n",
       "  <tbody>\n",
       "    <tr>\n",
       "      <th>1049</th>\n",
       "      <td>3 BHK Flat in Sector 83 Gurgaon</td>\n",
       "      <td>vatika lifestyle homes</td>\n",
       "      <td>1.04</td>\n",
       "      <td>₹ 5,699/sq.ft.</td>\n",
       "      <td>Super Built up area 1755(163.04 sq.m.)Built Up...</td>\n",
       "      <td>3 Bedrooms</td>\n",
       "      <td>2 Bathrooms</td>\n",
       "      <td>2 Balconies</td>\n",
       "      <td>NaN</td>\n",
       "      <td>Block N, Sector 83 Gurgaon, Gurgaon, Haryana</td>\n",
       "      <td>2nd   of 7 Floors</td>\n",
       "      <td>South-West</td>\n",
       "      <td>5 to 10 Year Old</td>\n",
       "      <td>['Sapphire 83 Mall', 'NH – 08', 'Knowledge Tre...</td>\n",
       "      <td>This is a first-Floor unit the flat is a row u...</td>\n",
       "      <td>NaN</td>\n",
       "      <td>['Security / Fire Alarm', 'Feng Shui / Vaastu ...</td>\n",
       "      <td>['Green Area4.5 out of 5', 'Construction4 out ...</td>\n",
       "    </tr>\n",
       "    <tr>\n",
       "      <th>2510</th>\n",
       "      <td>3 BHK Flat in Sector 92 Gurgaon</td>\n",
       "      <td>apartment</td>\n",
       "      <td>0.75</td>\n",
       "      <td>₹ 4,687/sq.ft.</td>\n",
       "      <td>Carpet area: 1600 (148.64 sq.m.)</td>\n",
       "      <td>3 Bedrooms</td>\n",
       "      <td>4 Bathrooms</td>\n",
       "      <td>3 Balconies</td>\n",
       "      <td>Study Room</td>\n",
       "      <td>Sector 92 Gurgaon, Gurgaon, Haryana</td>\n",
       "      <td>2nd   of 4 Floors</td>\n",
       "      <td>East</td>\n",
       "      <td>5 to 10 Year Old</td>\n",
       "      <td>['Yadav Clinic', 'Bangali Clinic', 'Dr. J. S. ...</td>\n",
       "      <td>Within 2-3 kms schools, malls, hospital are av...</td>\n",
       "      <td>['5 Fan', '7 Light', 'No AC', 'No Bed', 'No Ch...</td>\n",
       "      <td>['Security / Fire Alarm', 'Feng Shui / Vaastu ...</td>\n",
       "      <td>['Environment5 out of 5', 'Lifestyle4 out of 5...</td>\n",
       "    </tr>\n",
       "    <tr>\n",
       "      <th>640</th>\n",
       "      <td>3 BHK Flat in Sector 83 Gurgaon</td>\n",
       "      <td>vatika gurgaon</td>\n",
       "      <td>1.12</td>\n",
       "      <td>₹ 6,455/sq.ft.</td>\n",
       "      <td>Super Built up area 1735(161.19 sq.m.)Built Up...</td>\n",
       "      <td>3 Bedrooms</td>\n",
       "      <td>3 Bathrooms</td>\n",
       "      <td>2 Balconies</td>\n",
       "      <td>NaN</td>\n",
       "      <td>Block E, Sector 83 Gurgaon, Gurgaon, Haryana</td>\n",
       "      <td>17th   of 18 Floors</td>\n",
       "      <td>South</td>\n",
       "      <td>5 to 10 Year Old</td>\n",
       "      <td>['Huda Metro Station (Gurugram)', 'Sapphire 83...</td>\n",
       "      <td>This is bedrooms, 3 bathrooms, and 2 balconies...</td>\n",
       "      <td>['3 Wardrobe', '5 Fan', '1 Exhaust Fan', '1 Ge...</td>\n",
       "      <td>['Security / Fire Alarm', 'Power Back-up', 'Fe...</td>\n",
       "      <td>['Green Area5 out of 5', 'Construction4.5 out ...</td>\n",
       "    </tr>\n",
       "    <tr>\n",
       "      <th>1901</th>\n",
       "      <td>3 BHK Flat in Sector 109 Gurgaon</td>\n",
       "      <td>sbtl caladium</td>\n",
       "      <td>1.30</td>\n",
       "      <td>₹ 6,914/sq.ft.</td>\n",
       "      <td>Super Built up area 1880(174.66 sq.m.)</td>\n",
       "      <td>3 Bedrooms</td>\n",
       "      <td>2 Bathrooms</td>\n",
       "      <td>3 Balconies</td>\n",
       "      <td>NaN</td>\n",
       "      <td>N/a, Sector 109 Gurgaon, Gurgaon, Haryana</td>\n",
       "      <td>16th   of 19 Floors</td>\n",
       "      <td>East</td>\n",
       "      <td>5 to 10 Year Old</td>\n",
       "      <td>['Palam Vihar Vyapar kendra', 'Chirag Hospital...</td>\n",
       "      <td>Sbtl caladium is one of the most popular desti...</td>\n",
       "      <td>NaN</td>\n",
       "      <td>['Security / Fire Alarm', 'Power Back-up', 'Fe...</td>\n",
       "      <td>['Environment5 out of 5', 'Lifestyle4 out of 5...</td>\n",
       "    </tr>\n",
       "    <tr>\n",
       "      <th>2300</th>\n",
       "      <td>3 BHK Flat in Sector 61 Gurgaon</td>\n",
       "      <td>smart world orchard</td>\n",
       "      <td>2.54</td>\n",
       "      <td>₹ 15,500/sq.ft.</td>\n",
       "      <td>Carpet area: 1640 (152.36 sq.m.)</td>\n",
       "      <td>3 Bedrooms</td>\n",
       "      <td>3 Bathrooms</td>\n",
       "      <td>3 Balconies</td>\n",
       "      <td>Store Room</td>\n",
       "      <td>Sector 61 Gurgaon, Gurgaon, Haryana</td>\n",
       "      <td>2nd   of 4 Floors</td>\n",
       "      <td>NaN</td>\n",
       "      <td>Dec 2023</td>\n",
       "      <td>['Sector 55-56 Metro station', 'Bestech Centra...</td>\n",
       "      <td>Location and build quality and m3m brand</td>\n",
       "      <td>['1 Modular Kitchen', 'No AC', 'No Bed', 'No C...</td>\n",
       "      <td>['Power Back-up', 'Lift(s)', 'Swimming Pool', ...</td>\n",
       "      <td>NaN</td>\n",
       "    </tr>\n",
       "  </tbody>\n",
       "</table>\n",
       "</div>"
      ],
      "text/plain": [
       "                         property_name                 society  price  \\\n",
       "1049   3 BHK Flat in Sector 83 Gurgaon  vatika lifestyle homes   1.04   \n",
       "2510   3 BHK Flat in Sector 92 Gurgaon               apartment   0.75   \n",
       "640    3 BHK Flat in Sector 83 Gurgaon          vatika gurgaon   1.12   \n",
       "1901  3 BHK Flat in Sector 109 Gurgaon           sbtl caladium   1.30   \n",
       "2300   3 BHK Flat in Sector 61 Gurgaon     smart world orchard   2.54   \n",
       "\n",
       "       price_per_sqft                                       areaWithType  \\\n",
       "1049   ₹ 5,699/sq.ft.  Super Built up area 1755(163.04 sq.m.)Built Up...   \n",
       "2510   ₹ 4,687/sq.ft.                   Carpet area: 1600 (148.64 sq.m.)   \n",
       "640    ₹ 6,455/sq.ft.  Super Built up area 1735(161.19 sq.m.)Built Up...   \n",
       "1901   ₹ 6,914/sq.ft.             Super Built up area 1880(174.66 sq.m.)   \n",
       "2300  ₹ 15,500/sq.ft.                   Carpet area: 1640 (152.36 sq.m.)   \n",
       "\n",
       "         bedRoom     bathroom      balcony additionalRoom  \\\n",
       "1049  3 Bedrooms  2 Bathrooms  2 Balconies            NaN   \n",
       "2510  3 Bedrooms  4 Bathrooms  3 Balconies     Study Room   \n",
       "640   3 Bedrooms  3 Bathrooms  2 Balconies            NaN   \n",
       "1901  3 Bedrooms  2 Bathrooms  3 Balconies            NaN   \n",
       "2300  3 Bedrooms  3 Bathrooms  3 Balconies     Store Room   \n",
       "\n",
       "                                           address             floorNum  \\\n",
       "1049  Block N, Sector 83 Gurgaon, Gurgaon, Haryana    2nd   of 7 Floors   \n",
       "2510           Sector 92 Gurgaon, Gurgaon, Haryana    2nd   of 4 Floors   \n",
       "640   Block E, Sector 83 Gurgaon, Gurgaon, Haryana  17th   of 18 Floors   \n",
       "1901     N/a, Sector 109 Gurgaon, Gurgaon, Haryana  16th   of 19 Floors   \n",
       "2300           Sector 61 Gurgaon, Gurgaon, Haryana    2nd   of 4 Floors   \n",
       "\n",
       "          facing     agePossession  \\\n",
       "1049  South-West  5 to 10 Year Old   \n",
       "2510        East  5 to 10 Year Old   \n",
       "640        South  5 to 10 Year Old   \n",
       "1901        East  5 to 10 Year Old   \n",
       "2300         NaN          Dec 2023   \n",
       "\n",
       "                                        nearbyLocations  \\\n",
       "1049  ['Sapphire 83 Mall', 'NH – 08', 'Knowledge Tre...   \n",
       "2510  ['Yadav Clinic', 'Bangali Clinic', 'Dr. J. S. ...   \n",
       "640   ['Huda Metro Station (Gurugram)', 'Sapphire 83...   \n",
       "1901  ['Palam Vihar Vyapar kendra', 'Chirag Hospital...   \n",
       "2300  ['Sector 55-56 Metro station', 'Bestech Centra...   \n",
       "\n",
       "                                            description  \\\n",
       "1049  This is a first-Floor unit the flat is a row u...   \n",
       "2510  Within 2-3 kms schools, malls, hospital are av...   \n",
       "640   This is bedrooms, 3 bathrooms, and 2 balconies...   \n",
       "1901  Sbtl caladium is one of the most popular desti...   \n",
       "2300           Location and build quality and m3m brand   \n",
       "\n",
       "                                         furnishDetails  \\\n",
       "1049                                                NaN   \n",
       "2510  ['5 Fan', '7 Light', 'No AC', 'No Bed', 'No Ch...   \n",
       "640   ['3 Wardrobe', '5 Fan', '1 Exhaust Fan', '1 Ge...   \n",
       "1901                                                NaN   \n",
       "2300  ['1 Modular Kitchen', 'No AC', 'No Bed', 'No C...   \n",
       "\n",
       "                                               features  \\\n",
       "1049  ['Security / Fire Alarm', 'Feng Shui / Vaastu ...   \n",
       "2510  ['Security / Fire Alarm', 'Feng Shui / Vaastu ...   \n",
       "640   ['Security / Fire Alarm', 'Power Back-up', 'Fe...   \n",
       "1901  ['Security / Fire Alarm', 'Power Back-up', 'Fe...   \n",
       "2300  ['Power Back-up', 'Lift(s)', 'Swimming Pool', ...   \n",
       "\n",
       "                                                 rating  \n",
       "1049  ['Green Area4.5 out of 5', 'Construction4 out ...  \n",
       "2510  ['Environment5 out of 5', 'Lifestyle4 out of 5...  \n",
       "640   ['Green Area5 out of 5', 'Construction4.5 out ...  \n",
       "1901  ['Environment5 out of 5', 'Lifestyle4 out of 5...  \n",
       "2300                                                NaN  "
      ]
     },
     "execution_count": 26,
     "metadata": {},
     "output_type": "execute_result"
    }
   ],
   "source": [
    "df.sample(5)"
   ]
  },
  {
   "cell_type": "code",
   "execution_count": 28,
   "id": "7b5043e1-1cf4-4f63-8b74-01ac8fdde0d9",
   "metadata": {
    "tags": []
   },
   "outputs": [
    {
     "data": {
      "text/plain": [
       "214      ₹ 6,225/sq.ft.\n",
       "145     ₹ 12,526/sq.ft.\n",
       "328     ₹ 10,603/sq.ft.\n",
       "1190     ₹ 8,771/sq.ft.\n",
       "2183    ₹ 13,502/sq.ft.\n",
       "Name: price_per_sqft, dtype: object"
      ]
     },
     "execution_count": 28,
     "metadata": {},
     "output_type": "execute_result"
    }
   ],
   "source": [
    "# price_per_sqrt\n",
    "df['price_per_sqft'].sample(5)"
   ]
  },
  {
   "cell_type": "code",
   "execution_count": 36,
   "id": "1115e3b9-77e9-4c0e-b31a-0254684c2fd4",
   "metadata": {
    "tags": []
   },
   "outputs": [],
   "source": [
    "df['price_per_sqft'] = df['price_per_sqft'].str.split('/').str.get(0).str.replace('₹','').str.replace(',','').str.strip().astype('float')"
   ]
  },
  {
   "cell_type": "code",
   "execution_count": 37,
   "id": "32a367d1-6641-45d3-b29b-c58f5d2ebaad",
   "metadata": {
    "tags": []
   },
   "outputs": [
    {
     "data": {
      "text/html": [
       "<div>\n",
       "<style scoped>\n",
       "    .dataframe tbody tr th:only-of-type {\n",
       "        vertical-align: middle;\n",
       "    }\n",
       "\n",
       "    .dataframe tbody tr th {\n",
       "        vertical-align: top;\n",
       "    }\n",
       "\n",
       "    .dataframe thead th {\n",
       "        text-align: right;\n",
       "    }\n",
       "</style>\n",
       "<table border=\"1\" class=\"dataframe\">\n",
       "  <thead>\n",
       "    <tr style=\"text-align: right;\">\n",
       "      <th></th>\n",
       "      <th>property_name</th>\n",
       "      <th>society</th>\n",
       "      <th>price</th>\n",
       "      <th>price_per_sqft</th>\n",
       "      <th>areaWithType</th>\n",
       "      <th>bedRoom</th>\n",
       "      <th>bathroom</th>\n",
       "      <th>balcony</th>\n",
       "      <th>additionalRoom</th>\n",
       "      <th>address</th>\n",
       "      <th>floorNum</th>\n",
       "      <th>facing</th>\n",
       "      <th>agePossession</th>\n",
       "      <th>nearbyLocations</th>\n",
       "      <th>description</th>\n",
       "      <th>furnishDetails</th>\n",
       "      <th>features</th>\n",
       "      <th>rating</th>\n",
       "    </tr>\n",
       "  </thead>\n",
       "  <tbody>\n",
       "    <tr>\n",
       "      <th>0</th>\n",
       "      <td>2 BHK Flat in Krishna Colony</td>\n",
       "      <td>maa bhagwati residency</td>\n",
       "      <td>0.45</td>\n",
       "      <td>5000.0</td>\n",
       "      <td>Carpet area: 900 (83.61 sq.m.)</td>\n",
       "      <td>2 Bedrooms</td>\n",
       "      <td>2 Bathrooms</td>\n",
       "      <td>1 Balcony</td>\n",
       "      <td>NaN</td>\n",
       "      <td>Krishna Colony, Gurgaon, Haryana</td>\n",
       "      <td>4th   of 4 Floors</td>\n",
       "      <td>West</td>\n",
       "      <td>1 to 5 Year Old</td>\n",
       "      <td>['Chintapurni Mandir', 'State bank ATM', 'Pear...</td>\n",
       "      <td>So with lift.Maa bhagwati residency is one of ...</td>\n",
       "      <td>['3 Fan', '4 Light', '1 Wardrobe', 'No AC', 'N...</td>\n",
       "      <td>['Feng Shui / Vaastu Compliant', 'Security / F...</td>\n",
       "      <td>['Environment4 out of 5', 'Safety4 out of 5', ...</td>\n",
       "    </tr>\n",
       "    <tr>\n",
       "      <th>1</th>\n",
       "      <td>2 BHK Flat in Ashok Vihar</td>\n",
       "      <td>apna enclave</td>\n",
       "      <td>0.50</td>\n",
       "      <td>7692.0</td>\n",
       "      <td>Carpet area: 650 (60.39 sq.m.)</td>\n",
       "      <td>2 Bedrooms</td>\n",
       "      <td>2 Bathrooms</td>\n",
       "      <td>1 Balcony</td>\n",
       "      <td>NaN</td>\n",
       "      <td>46b, Ashok Vihar, Gurgaon, Haryana</td>\n",
       "      <td>1st   of 3 Floors</td>\n",
       "      <td>West</td>\n",
       "      <td>10+ Year Old</td>\n",
       "      <td>['Chintapurni Mandir', 'Sheetla Mata Mandir', ...</td>\n",
       "      <td>Property situated on main road, railway statio...</td>\n",
       "      <td>['3 Wardrobe', '4 Fan', '1 Exhaust Fan', '1 Ge...</td>\n",
       "      <td>['Security / Fire Alarm', 'Maintenance Staff',...</td>\n",
       "      <td>['Environment4 out of 5', 'Safety4 out of 5', ...</td>\n",
       "    </tr>\n",
       "    <tr>\n",
       "      <th>2</th>\n",
       "      <td>2 BHK Flat in Sohna</td>\n",
       "      <td>tulsiani easy in homes</td>\n",
       "      <td>0.40</td>\n",
       "      <td>6722.0</td>\n",
       "      <td>Carpet area: 595 (55.28 sq.m.)</td>\n",
       "      <td>2 Bedrooms</td>\n",
       "      <td>2 Bathrooms</td>\n",
       "      <td>3 Balconies</td>\n",
       "      <td>NaN</td>\n",
       "      <td>Sohna, Gurgaon, Haryana</td>\n",
       "      <td>12nd   of 14 Floors</td>\n",
       "      <td>NaN</td>\n",
       "      <td>0 to 1 Year Old</td>\n",
       "      <td>['Huda City Metro', 'Golf Course extn road', '...</td>\n",
       "      <td>This property is 15 km away from badshapur, gu...</td>\n",
       "      <td>NaN</td>\n",
       "      <td>['Power Back-up', 'Feng Shui / Vaastu Complian...</td>\n",
       "      <td>['Environment4 out of 5', 'Safety4 out of 5', ...</td>\n",
       "    </tr>\n",
       "  </tbody>\n",
       "</table>\n",
       "</div>"
      ],
      "text/plain": [
       "                  property_name                 society  price  \\\n",
       "0  2 BHK Flat in Krishna Colony  maa bhagwati residency   0.45   \n",
       "1     2 BHK Flat in Ashok Vihar            apna enclave   0.50   \n",
       "2           2 BHK Flat in Sohna  tulsiani easy in homes   0.40   \n",
       "\n",
       "   price_per_sqft                    areaWithType     bedRoom     bathroom  \\\n",
       "0          5000.0  Carpet area: 900 (83.61 sq.m.)  2 Bedrooms  2 Bathrooms   \n",
       "1          7692.0  Carpet area: 650 (60.39 sq.m.)  2 Bedrooms  2 Bathrooms   \n",
       "2          6722.0  Carpet area: 595 (55.28 sq.m.)  2 Bedrooms  2 Bathrooms   \n",
       "\n",
       "       balcony additionalRoom                             address  \\\n",
       "0    1 Balcony            NaN    Krishna Colony, Gurgaon, Haryana   \n",
       "1    1 Balcony            NaN  46b, Ashok Vihar, Gurgaon, Haryana   \n",
       "2  3 Balconies            NaN             Sohna, Gurgaon, Haryana   \n",
       "\n",
       "              floorNum facing    agePossession  \\\n",
       "0    4th   of 4 Floors   West  1 to 5 Year Old   \n",
       "1    1st   of 3 Floors   West     10+ Year Old   \n",
       "2  12nd   of 14 Floors    NaN  0 to 1 Year Old   \n",
       "\n",
       "                                     nearbyLocations  \\\n",
       "0  ['Chintapurni Mandir', 'State bank ATM', 'Pear...   \n",
       "1  ['Chintapurni Mandir', 'Sheetla Mata Mandir', ...   \n",
       "2  ['Huda City Metro', 'Golf Course extn road', '...   \n",
       "\n",
       "                                         description  \\\n",
       "0  So with lift.Maa bhagwati residency is one of ...   \n",
       "1  Property situated on main road, railway statio...   \n",
       "2  This property is 15 km away from badshapur, gu...   \n",
       "\n",
       "                                      furnishDetails  \\\n",
       "0  ['3 Fan', '4 Light', '1 Wardrobe', 'No AC', 'N...   \n",
       "1  ['3 Wardrobe', '4 Fan', '1 Exhaust Fan', '1 Ge...   \n",
       "2                                                NaN   \n",
       "\n",
       "                                            features  \\\n",
       "0  ['Feng Shui / Vaastu Compliant', 'Security / F...   \n",
       "1  ['Security / Fire Alarm', 'Maintenance Staff',...   \n",
       "2  ['Power Back-up', 'Feng Shui / Vaastu Complian...   \n",
       "\n",
       "                                              rating  \n",
       "0  ['Environment4 out of 5', 'Safety4 out of 5', ...  \n",
       "1  ['Environment4 out of 5', 'Safety4 out of 5', ...  \n",
       "2  ['Environment4 out of 5', 'Safety4 out of 5', ...  "
      ]
     },
     "execution_count": 37,
     "metadata": {},
     "output_type": "execute_result"
    }
   ],
   "source": [
    "df.head(3)"
   ]
  },
  {
   "cell_type": "code",
   "execution_count": 40,
   "id": "b325cbc7-fe6f-49b7-9e66-ced6e61c380e",
   "metadata": {
    "tags": []
   },
   "outputs": [
    {
     "data": {
      "text/html": [
       "<div>\n",
       "<style scoped>\n",
       "    .dataframe tbody tr th:only-of-type {\n",
       "        vertical-align: middle;\n",
       "    }\n",
       "\n",
       "    .dataframe tbody tr th {\n",
       "        vertical-align: top;\n",
       "    }\n",
       "\n",
       "    .dataframe thead th {\n",
       "        text-align: right;\n",
       "    }\n",
       "</style>\n",
       "<table border=\"1\" class=\"dataframe\">\n",
       "  <thead>\n",
       "    <tr style=\"text-align: right;\">\n",
       "      <th></th>\n",
       "      <th>property_name</th>\n",
       "      <th>society</th>\n",
       "      <th>price</th>\n",
       "      <th>price_per_sqft</th>\n",
       "      <th>areaWithType</th>\n",
       "      <th>bedRoom</th>\n",
       "      <th>bathroom</th>\n",
       "      <th>balcony</th>\n",
       "      <th>additionalRoom</th>\n",
       "      <th>address</th>\n",
       "      <th>floorNum</th>\n",
       "      <th>facing</th>\n",
       "      <th>agePossession</th>\n",
       "      <th>nearbyLocations</th>\n",
       "      <th>description</th>\n",
       "      <th>furnishDetails</th>\n",
       "      <th>features</th>\n",
       "      <th>rating</th>\n",
       "    </tr>\n",
       "  </thead>\n",
       "  <tbody>\n",
       "    <tr>\n",
       "      <th>2849</th>\n",
       "      <td>2 BHK Flat in Sector 107 Gurgaon</td>\n",
       "      <td>signature global solera</td>\n",
       "      <td>NaN</td>\n",
       "      <td>NaN</td>\n",
       "      <td>NaN</td>\n",
       "      <td>NaN</td>\n",
       "      <td>NaN</td>\n",
       "      <td>NaN</td>\n",
       "      <td>NaN</td>\n",
       "      <td>NaN</td>\n",
       "      <td>NaN</td>\n",
       "      <td>NaN</td>\n",
       "      <td>NaN</td>\n",
       "      <td>NaN</td>\n",
       "      <td>NaN</td>\n",
       "      <td>NaN</td>\n",
       "      <td>NaN</td>\n",
       "      <td>NaN</td>\n",
       "    </tr>\n",
       "    <tr>\n",
       "      <th>2850</th>\n",
       "      <td>4 BHK Flat in Sector 53 Gurgaon</td>\n",
       "      <td>tulip monsella</td>\n",
       "      <td>NaN</td>\n",
       "      <td>33198.0</td>\n",
       "      <td>NaN</td>\n",
       "      <td>NaN</td>\n",
       "      <td>NaN</td>\n",
       "      <td>NaN</td>\n",
       "      <td>NaN</td>\n",
       "      <td>NaN</td>\n",
       "      <td>NaN</td>\n",
       "      <td>NaN</td>\n",
       "      <td>NaN</td>\n",
       "      <td>NaN</td>\n",
       "      <td>NaN</td>\n",
       "      <td>NaN</td>\n",
       "      <td>NaN</td>\n",
       "      <td>NaN</td>\n",
       "    </tr>\n",
       "    <tr>\n",
       "      <th>2851</th>\n",
       "      <td>2 BHK Flat in New Palam Vihar</td>\n",
       "      <td>my home</td>\n",
       "      <td>NaN</td>\n",
       "      <td>4400.0</td>\n",
       "      <td>NaN</td>\n",
       "      <td>NaN</td>\n",
       "      <td>NaN</td>\n",
       "      <td>NaN</td>\n",
       "      <td>NaN</td>\n",
       "      <td>NaN</td>\n",
       "      <td>NaN</td>\n",
       "      <td>NaN</td>\n",
       "      <td>NaN</td>\n",
       "      <td>NaN</td>\n",
       "      <td>NaN</td>\n",
       "      <td>NaN</td>\n",
       "      <td>NaN</td>\n",
       "      <td>NaN</td>\n",
       "    </tr>\n",
       "    <tr>\n",
       "      <th>2852</th>\n",
       "      <td>2 BHK Flat in Sohna</td>\n",
       "      <td>breez global hill view</td>\n",
       "      <td>NaN</td>\n",
       "      <td>5470.0</td>\n",
       "      <td>NaN</td>\n",
       "      <td>NaN</td>\n",
       "      <td>NaN</td>\n",
       "      <td>NaN</td>\n",
       "      <td>NaN</td>\n",
       "      <td>NaN</td>\n",
       "      <td>NaN</td>\n",
       "      <td>NaN</td>\n",
       "      <td>NaN</td>\n",
       "      <td>NaN</td>\n",
       "      <td>NaN</td>\n",
       "      <td>NaN</td>\n",
       "      <td>NaN</td>\n",
       "      <td>NaN</td>\n",
       "    </tr>\n",
       "    <tr>\n",
       "      <th>2922</th>\n",
       "      <td>3 BHK Flat in Sector 99A Gurgaon</td>\n",
       "      <td>pareena coban residences</td>\n",
       "      <td>NaN</td>\n",
       "      <td>5759.0</td>\n",
       "      <td>NaN</td>\n",
       "      <td>NaN</td>\n",
       "      <td>NaN</td>\n",
       "      <td>NaN</td>\n",
       "      <td>NaN</td>\n",
       "      <td>NaN</td>\n",
       "      <td>NaN</td>\n",
       "      <td>NaN</td>\n",
       "      <td>NaN</td>\n",
       "      <td>NaN</td>\n",
       "      <td>NaN</td>\n",
       "      <td>NaN</td>\n",
       "      <td>NaN</td>\n",
       "      <td>NaN</td>\n",
       "    </tr>\n",
       "    <tr>\n",
       "      <th>2923</th>\n",
       "      <td>1 BHK Flat in Golf Course Ext Road</td>\n",
       "      <td>ikon tower baani city centre</td>\n",
       "      <td>NaN</td>\n",
       "      <td>12437.0</td>\n",
       "      <td>NaN</td>\n",
       "      <td>NaN</td>\n",
       "      <td>NaN</td>\n",
       "      <td>NaN</td>\n",
       "      <td>NaN</td>\n",
       "      <td>NaN</td>\n",
       "      <td>NaN</td>\n",
       "      <td>NaN</td>\n",
       "      <td>NaN</td>\n",
       "      <td>NaN</td>\n",
       "      <td>NaN</td>\n",
       "      <td>NaN</td>\n",
       "      <td>NaN</td>\n",
       "      <td>NaN</td>\n",
       "    </tr>\n",
       "    <tr>\n",
       "      <th>2924</th>\n",
       "      <td>2 BHK Flat in Sector 89 Gurgaon</td>\n",
       "      <td>greenopolis</td>\n",
       "      <td>NaN</td>\n",
       "      <td>4820.0</td>\n",
       "      <td>NaN</td>\n",
       "      <td>NaN</td>\n",
       "      <td>NaN</td>\n",
       "      <td>NaN</td>\n",
       "      <td>NaN</td>\n",
       "      <td>NaN</td>\n",
       "      <td>NaN</td>\n",
       "      <td>NaN</td>\n",
       "      <td>NaN</td>\n",
       "      <td>NaN</td>\n",
       "      <td>NaN</td>\n",
       "      <td>NaN</td>\n",
       "      <td>NaN</td>\n",
       "      <td>NaN</td>\n",
       "    </tr>\n",
       "    <tr>\n",
       "      <th>2926</th>\n",
       "      <td>4 BHK Flat in C Block Sushant Lok Phase 1</td>\n",
       "      <td>maple heights</td>\n",
       "      <td>NaN</td>\n",
       "      <td>8888.0</td>\n",
       "      <td>NaN</td>\n",
       "      <td>NaN</td>\n",
       "      <td>NaN</td>\n",
       "      <td>NaN</td>\n",
       "      <td>NaN</td>\n",
       "      <td>NaN</td>\n",
       "      <td>NaN</td>\n",
       "      <td>NaN</td>\n",
       "      <td>NaN</td>\n",
       "      <td>NaN</td>\n",
       "      <td>NaN</td>\n",
       "      <td>NaN</td>\n",
       "      <td>NaN</td>\n",
       "      <td>NaN</td>\n",
       "    </tr>\n",
       "    <tr>\n",
       "      <th>2927</th>\n",
       "      <td>2 BHK Flat in Sector 99 Gurgaon</td>\n",
       "      <td>assotech blith</td>\n",
       "      <td>NaN</td>\n",
       "      <td>6593.0</td>\n",
       "      <td>NaN</td>\n",
       "      <td>NaN</td>\n",
       "      <td>NaN</td>\n",
       "      <td>NaN</td>\n",
       "      <td>NaN</td>\n",
       "      <td>NaN</td>\n",
       "      <td>NaN</td>\n",
       "      <td>NaN</td>\n",
       "      <td>NaN</td>\n",
       "      <td>NaN</td>\n",
       "      <td>NaN</td>\n",
       "      <td>NaN</td>\n",
       "      <td>NaN</td>\n",
       "      <td>NaN</td>\n",
       "    </tr>\n",
       "  </tbody>\n",
       "</table>\n",
       "</div>"
      ],
      "text/plain": [
       "                                  property_name                       society  \\\n",
       "2849           2 BHK Flat in Sector 107 Gurgaon       signature global solera   \n",
       "2850            4 BHK Flat in Sector 53 Gurgaon                tulip monsella   \n",
       "2851              2 BHK Flat in New Palam Vihar                       my home   \n",
       "2852                        2 BHK Flat in Sohna        breez global hill view   \n",
       "2922           3 BHK Flat in Sector 99A Gurgaon      pareena coban residences   \n",
       "2923         1 BHK Flat in Golf Course Ext Road  ikon tower baani city centre   \n",
       "2924            2 BHK Flat in Sector 89 Gurgaon                   greenopolis   \n",
       "2926  4 BHK Flat in C Block Sushant Lok Phase 1                 maple heights   \n",
       "2927            2 BHK Flat in Sector 99 Gurgaon                assotech blith   \n",
       "\n",
       "      price  price_per_sqft areaWithType bedRoom bathroom balcony  \\\n",
       "2849    NaN             NaN          NaN     NaN      NaN     NaN   \n",
       "2850    NaN         33198.0          NaN     NaN      NaN     NaN   \n",
       "2851    NaN          4400.0          NaN     NaN      NaN     NaN   \n",
       "2852    NaN          5470.0          NaN     NaN      NaN     NaN   \n",
       "2922    NaN          5759.0          NaN     NaN      NaN     NaN   \n",
       "2923    NaN         12437.0          NaN     NaN      NaN     NaN   \n",
       "2924    NaN          4820.0          NaN     NaN      NaN     NaN   \n",
       "2926    NaN          8888.0          NaN     NaN      NaN     NaN   \n",
       "2927    NaN          6593.0          NaN     NaN      NaN     NaN   \n",
       "\n",
       "     additionalRoom address floorNum facing agePossession nearbyLocations  \\\n",
       "2849            NaN     NaN      NaN    NaN           NaN             NaN   \n",
       "2850            NaN     NaN      NaN    NaN           NaN             NaN   \n",
       "2851            NaN     NaN      NaN    NaN           NaN             NaN   \n",
       "2852            NaN     NaN      NaN    NaN           NaN             NaN   \n",
       "2922            NaN     NaN      NaN    NaN           NaN             NaN   \n",
       "2923            NaN     NaN      NaN    NaN           NaN             NaN   \n",
       "2924            NaN     NaN      NaN    NaN           NaN             NaN   \n",
       "2926            NaN     NaN      NaN    NaN           NaN             NaN   \n",
       "2927            NaN     NaN      NaN    NaN           NaN             NaN   \n",
       "\n",
       "     description furnishDetails features rating  \n",
       "2849         NaN            NaN      NaN    NaN  \n",
       "2850         NaN            NaN      NaN    NaN  \n",
       "2851         NaN            NaN      NaN    NaN  \n",
       "2852         NaN            NaN      NaN    NaN  \n",
       "2922         NaN            NaN      NaN    NaN  \n",
       "2923         NaN            NaN      NaN    NaN  \n",
       "2924         NaN            NaN      NaN    NaN  \n",
       "2926         NaN            NaN      NaN    NaN  \n",
       "2927         NaN            NaN      NaN    NaN  "
      ]
     },
     "execution_count": 40,
     "metadata": {},
     "output_type": "execute_result"
    }
   ],
   "source": [
    "# bedroom\n",
    "df[df['bedRoom'].isnull()]"
   ]
  },
  {
   "cell_type": "code",
   "execution_count": 41,
   "id": "e46a5893-505d-4a9f-a7e7-c1ae2b283e3e",
   "metadata": {
    "tags": []
   },
   "outputs": [],
   "source": [
    "df = df[~df['bedRoom'].isnull()]"
   ]
  },
  {
   "cell_type": "code",
   "execution_count": 43,
   "id": "1c45434e-135c-4431-8653-5a3fd13bceee",
   "metadata": {
    "tags": []
   },
   "outputs": [
    {
     "data": {
      "text/plain": [
       "(2997, 18)"
      ]
     },
     "execution_count": 43,
     "metadata": {},
     "output_type": "execute_result"
    }
   ],
   "source": [
    "df.shape"
   ]
  },
  {
   "cell_type": "code",
   "execution_count": 49,
   "id": "ed3a300f-15a5-4326-af0c-8c60ffe12e0f",
   "metadata": {
    "tags": []
   },
   "outputs": [
    {
     "name": "stderr",
     "output_type": "stream",
     "text": [
      "C:\\Users\\acer\\AppData\\Local\\Temp\\ipykernel_9112\\1468100853.py:1: SettingWithCopyWarning: \n",
      "A value is trying to be set on a copy of a slice from a DataFrame.\n",
      "Try using .loc[row_indexer,col_indexer] = value instead\n",
      "\n",
      "See the caveats in the documentation: https://pandas.pydata.org/pandas-docs/stable/user_guide/indexing.html#returning-a-view-versus-a-copy\n",
      "  df['bedRoom'] = df['bedRoom'].str.split(' ').str.get(0).astype('int')\n"
     ]
    }
   ],
   "source": [
    "df['bedRoom'] = df['bedRoom'].str.split(' ').str.get(0).astype('int')"
   ]
  },
  {
   "cell_type": "code",
   "execution_count": 54,
   "id": "1f337fde-9790-4170-971b-1ad85b665aa7",
   "metadata": {
    "tags": []
   },
   "outputs": [
    {
     "data": {
      "text/html": [
       "<div>\n",
       "<style scoped>\n",
       "    .dataframe tbody tr th:only-of-type {\n",
       "        vertical-align: middle;\n",
       "    }\n",
       "\n",
       "    .dataframe tbody tr th {\n",
       "        vertical-align: top;\n",
       "    }\n",
       "\n",
       "    .dataframe thead th {\n",
       "        text-align: right;\n",
       "    }\n",
       "</style>\n",
       "<table border=\"1\" class=\"dataframe\">\n",
       "  <thead>\n",
       "    <tr style=\"text-align: right;\">\n",
       "      <th></th>\n",
       "      <th>property_name</th>\n",
       "      <th>society</th>\n",
       "      <th>price</th>\n",
       "      <th>price_per_sqft</th>\n",
       "      <th>areaWithType</th>\n",
       "      <th>bedRoom</th>\n",
       "      <th>bathroom</th>\n",
       "      <th>balcony</th>\n",
       "      <th>additionalRoom</th>\n",
       "      <th>address</th>\n",
       "      <th>floorNum</th>\n",
       "      <th>facing</th>\n",
       "      <th>agePossession</th>\n",
       "      <th>nearbyLocations</th>\n",
       "      <th>description</th>\n",
       "      <th>furnishDetails</th>\n",
       "      <th>features</th>\n",
       "      <th>rating</th>\n",
       "    </tr>\n",
       "  </thead>\n",
       "  <tbody>\n",
       "    <tr>\n",
       "      <th>0</th>\n",
       "      <td>2 BHK Flat in Krishna Colony</td>\n",
       "      <td>maa bhagwati residency</td>\n",
       "      <td>0.45</td>\n",
       "      <td>5000.0</td>\n",
       "      <td>Carpet area: 900 (83.61 sq.m.)</td>\n",
       "      <td>2</td>\n",
       "      <td>2 Bathrooms</td>\n",
       "      <td>1 Balcony</td>\n",
       "      <td>NaN</td>\n",
       "      <td>Krishna Colony, Gurgaon, Haryana</td>\n",
       "      <td>4th   of 4 Floors</td>\n",
       "      <td>West</td>\n",
       "      <td>1 to 5 Year Old</td>\n",
       "      <td>['Chintapurni Mandir', 'State bank ATM', 'Pear...</td>\n",
       "      <td>So with lift.Maa bhagwati residency is one of ...</td>\n",
       "      <td>['3 Fan', '4 Light', '1 Wardrobe', 'No AC', 'N...</td>\n",
       "      <td>['Feng Shui / Vaastu Compliant', 'Security / F...</td>\n",
       "      <td>['Environment4 out of 5', 'Safety4 out of 5', ...</td>\n",
       "    </tr>\n",
       "    <tr>\n",
       "      <th>1</th>\n",
       "      <td>2 BHK Flat in Ashok Vihar</td>\n",
       "      <td>apna enclave</td>\n",
       "      <td>0.50</td>\n",
       "      <td>7692.0</td>\n",
       "      <td>Carpet area: 650 (60.39 sq.m.)</td>\n",
       "      <td>2</td>\n",
       "      <td>2 Bathrooms</td>\n",
       "      <td>1 Balcony</td>\n",
       "      <td>NaN</td>\n",
       "      <td>46b, Ashok Vihar, Gurgaon, Haryana</td>\n",
       "      <td>1st   of 3 Floors</td>\n",
       "      <td>West</td>\n",
       "      <td>10+ Year Old</td>\n",
       "      <td>['Chintapurni Mandir', 'Sheetla Mata Mandir', ...</td>\n",
       "      <td>Property situated on main road, railway statio...</td>\n",
       "      <td>['3 Wardrobe', '4 Fan', '1 Exhaust Fan', '1 Ge...</td>\n",
       "      <td>['Security / Fire Alarm', 'Maintenance Staff',...</td>\n",
       "      <td>['Environment4 out of 5', 'Safety4 out of 5', ...</td>\n",
       "    </tr>\n",
       "    <tr>\n",
       "      <th>2</th>\n",
       "      <td>2 BHK Flat in Sohna</td>\n",
       "      <td>tulsiani easy in homes</td>\n",
       "      <td>0.40</td>\n",
       "      <td>6722.0</td>\n",
       "      <td>Carpet area: 595 (55.28 sq.m.)</td>\n",
       "      <td>2</td>\n",
       "      <td>2 Bathrooms</td>\n",
       "      <td>3 Balconies</td>\n",
       "      <td>NaN</td>\n",
       "      <td>Sohna, Gurgaon, Haryana</td>\n",
       "      <td>12nd   of 14 Floors</td>\n",
       "      <td>NaN</td>\n",
       "      <td>0 to 1 Year Old</td>\n",
       "      <td>['Huda City Metro', 'Golf Course extn road', '...</td>\n",
       "      <td>This property is 15 km away from badshapur, gu...</td>\n",
       "      <td>NaN</td>\n",
       "      <td>['Power Back-up', 'Feng Shui / Vaastu Complian...</td>\n",
       "      <td>['Environment4 out of 5', 'Safety4 out of 5', ...</td>\n",
       "    </tr>\n",
       "  </tbody>\n",
       "</table>\n",
       "</div>"
      ],
      "text/plain": [
       "                  property_name                 society  price  \\\n",
       "0  2 BHK Flat in Krishna Colony  maa bhagwati residency   0.45   \n",
       "1     2 BHK Flat in Ashok Vihar            apna enclave   0.50   \n",
       "2           2 BHK Flat in Sohna  tulsiani easy in homes   0.40   \n",
       "\n",
       "   price_per_sqft                    areaWithType  bedRoom     bathroom  \\\n",
       "0          5000.0  Carpet area: 900 (83.61 sq.m.)        2  2 Bathrooms   \n",
       "1          7692.0  Carpet area: 650 (60.39 sq.m.)        2  2 Bathrooms   \n",
       "2          6722.0  Carpet area: 595 (55.28 sq.m.)        2  2 Bathrooms   \n",
       "\n",
       "       balcony additionalRoom                             address  \\\n",
       "0    1 Balcony            NaN    Krishna Colony, Gurgaon, Haryana   \n",
       "1    1 Balcony            NaN  46b, Ashok Vihar, Gurgaon, Haryana   \n",
       "2  3 Balconies            NaN             Sohna, Gurgaon, Haryana   \n",
       "\n",
       "              floorNum facing    agePossession  \\\n",
       "0    4th   of 4 Floors   West  1 to 5 Year Old   \n",
       "1    1st   of 3 Floors   West     10+ Year Old   \n",
       "2  12nd   of 14 Floors    NaN  0 to 1 Year Old   \n",
       "\n",
       "                                     nearbyLocations  \\\n",
       "0  ['Chintapurni Mandir', 'State bank ATM', 'Pear...   \n",
       "1  ['Chintapurni Mandir', 'Sheetla Mata Mandir', ...   \n",
       "2  ['Huda City Metro', 'Golf Course extn road', '...   \n",
       "\n",
       "                                         description  \\\n",
       "0  So with lift.Maa bhagwati residency is one of ...   \n",
       "1  Property situated on main road, railway statio...   \n",
       "2  This property is 15 km away from badshapur, gu...   \n",
       "\n",
       "                                      furnishDetails  \\\n",
       "0  ['3 Fan', '4 Light', '1 Wardrobe', 'No AC', 'N...   \n",
       "1  ['3 Wardrobe', '4 Fan', '1 Exhaust Fan', '1 Ge...   \n",
       "2                                                NaN   \n",
       "\n",
       "                                            features  \\\n",
       "0  ['Feng Shui / Vaastu Compliant', 'Security / F...   \n",
       "1  ['Security / Fire Alarm', 'Maintenance Staff',...   \n",
       "2  ['Power Back-up', 'Feng Shui / Vaastu Complian...   \n",
       "\n",
       "                                              rating  \n",
       "0  ['Environment4 out of 5', 'Safety4 out of 5', ...  \n",
       "1  ['Environment4 out of 5', 'Safety4 out of 5', ...  \n",
       "2  ['Environment4 out of 5', 'Safety4 out of 5', ...  "
      ]
     },
     "execution_count": 54,
     "metadata": {},
     "output_type": "execute_result"
    }
   ],
   "source": [
    "df.head(3)"
   ]
  },
  {
   "cell_type": "code",
   "execution_count": 55,
   "id": "8884b03a-7280-4d48-b82f-58927eb863f7",
   "metadata": {
    "tags": []
   },
   "outputs": [
    {
     "data": {
      "text/plain": [
       "0"
      ]
     },
     "execution_count": 55,
     "metadata": {},
     "output_type": "execute_result"
    }
   ],
   "source": [
    "df['bathroom'].isnull().sum()"
   ]
  },
  {
   "cell_type": "code",
   "execution_count": 56,
   "id": "332ab24a-89be-40ff-b92b-852ca2df308d",
   "metadata": {
    "tags": []
   },
   "outputs": [
    {
     "name": "stderr",
     "output_type": "stream",
     "text": [
      "C:\\Users\\acer\\AppData\\Local\\Temp\\ipykernel_9112\\1455936528.py:1: SettingWithCopyWarning: \n",
      "A value is trying to be set on a copy of a slice from a DataFrame.\n",
      "Try using .loc[row_indexer,col_indexer] = value instead\n",
      "\n",
      "See the caveats in the documentation: https://pandas.pydata.org/pandas-docs/stable/user_guide/indexing.html#returning-a-view-versus-a-copy\n",
      "  df['bathroom'] = df['bathroom'].str.split(' ').str.get(0).astype('int')\n"
     ]
    }
   ],
   "source": [
    "df['bathroom'] = df['bathroom'].str.split(' ').str.get(0).astype('int')"
   ]
  },
  {
   "cell_type": "code",
   "execution_count": 57,
   "id": "667c5c54-a46a-4e3e-a26d-9fab47b45ccd",
   "metadata": {
    "tags": []
   },
   "outputs": [
    {
     "data": {
      "text/html": [
       "<div>\n",
       "<style scoped>\n",
       "    .dataframe tbody tr th:only-of-type {\n",
       "        vertical-align: middle;\n",
       "    }\n",
       "\n",
       "    .dataframe tbody tr th {\n",
       "        vertical-align: top;\n",
       "    }\n",
       "\n",
       "    .dataframe thead th {\n",
       "        text-align: right;\n",
       "    }\n",
       "</style>\n",
       "<table border=\"1\" class=\"dataframe\">\n",
       "  <thead>\n",
       "    <tr style=\"text-align: right;\">\n",
       "      <th></th>\n",
       "      <th>property_name</th>\n",
       "      <th>society</th>\n",
       "      <th>price</th>\n",
       "      <th>price_per_sqft</th>\n",
       "      <th>areaWithType</th>\n",
       "      <th>bedRoom</th>\n",
       "      <th>bathroom</th>\n",
       "      <th>balcony</th>\n",
       "      <th>additionalRoom</th>\n",
       "      <th>address</th>\n",
       "      <th>floorNum</th>\n",
       "      <th>facing</th>\n",
       "      <th>agePossession</th>\n",
       "      <th>nearbyLocations</th>\n",
       "      <th>description</th>\n",
       "      <th>furnishDetails</th>\n",
       "      <th>features</th>\n",
       "      <th>rating</th>\n",
       "    </tr>\n",
       "  </thead>\n",
       "  <tbody>\n",
       "    <tr>\n",
       "      <th>2408</th>\n",
       "      <td>1 BHK Flat in Sohna</td>\n",
       "      <td>breez global heights</td>\n",
       "      <td>0.25</td>\n",
       "      <td>7002.0</td>\n",
       "      <td>Super Built up area 414(38.46 sq.m.)Carpet are...</td>\n",
       "      <td>1</td>\n",
       "      <td>1</td>\n",
       "      <td>1 Balcony</td>\n",
       "      <td>NaN</td>\n",
       "      <td>106, Sohna, Gurgaon, Haryana</td>\n",
       "      <td>1st   of 10 Floors</td>\n",
       "      <td>NaN</td>\n",
       "      <td>1 to 5 Year Old</td>\n",
       "      <td>['Raheja Mall', 'Golf Course Extension Road', ...</td>\n",
       "      <td>The property is registered and freehold. The b...</td>\n",
       "      <td>NaN</td>\n",
       "      <td>['Feng Shui / Vaastu Compliant', 'Intercom Fac...</td>\n",
       "      <td>['Green Area5 out of 5', 'Construction5 out of...</td>\n",
       "    </tr>\n",
       "  </tbody>\n",
       "</table>\n",
       "</div>"
      ],
      "text/plain": [
       "            property_name               society  price  price_per_sqft  \\\n",
       "2408  1 BHK Flat in Sohna  breez global heights   0.25          7002.0   \n",
       "\n",
       "                                           areaWithType  bedRoom  bathroom  \\\n",
       "2408  Super Built up area 414(38.46 sq.m.)Carpet are...        1         1   \n",
       "\n",
       "        balcony additionalRoom                       address  \\\n",
       "2408  1 Balcony            NaN  106, Sohna, Gurgaon, Haryana   \n",
       "\n",
       "                floorNum facing    agePossession  \\\n",
       "2408  1st   of 10 Floors    NaN  1 to 5 Year Old   \n",
       "\n",
       "                                        nearbyLocations  \\\n",
       "2408  ['Raheja Mall', 'Golf Course Extension Road', ...   \n",
       "\n",
       "                                            description furnishDetails  \\\n",
       "2408  The property is registered and freehold. The b...            NaN   \n",
       "\n",
       "                                               features  \\\n",
       "2408  ['Feng Shui / Vaastu Compliant', 'Intercom Fac...   \n",
       "\n",
       "                                                 rating  \n",
       "2408  ['Green Area5 out of 5', 'Construction5 out of...  "
      ]
     },
     "execution_count": 57,
     "metadata": {},
     "output_type": "execute_result"
    }
   ],
   "source": [
    "df.sample(1)"
   ]
  },
  {
   "cell_type": "code",
   "execution_count": 59,
   "id": "7046f789-386f-46e2-b978-14ccf33bb47a",
   "metadata": {
    "tags": []
   },
   "outputs": [
    {
     "data": {
      "text/plain": [
       "0"
      ]
     },
     "execution_count": 59,
     "metadata": {},
     "output_type": "execute_result"
    }
   ],
   "source": [
    "df['balcony'].isnull().sum()"
   ]
  },
  {
   "cell_type": "code",
   "execution_count": 60,
   "id": "ff1885da-fa1b-4332-96bd-7e97db183718",
   "metadata": {
    "tags": []
   },
   "outputs": [
    {
     "name": "stderr",
     "output_type": "stream",
     "text": [
      "C:\\Users\\acer\\AppData\\Local\\Temp\\ipykernel_9112\\3830839697.py:1: SettingWithCopyWarning: \n",
      "A value is trying to be set on a copy of a slice from a DataFrame.\n",
      "Try using .loc[row_indexer,col_indexer] = value instead\n",
      "\n",
      "See the caveats in the documentation: https://pandas.pydata.org/pandas-docs/stable/user_guide/indexing.html#returning-a-view-versus-a-copy\n",
      "  df['balcony'] = df['balcony'].str.split(' ').str.get(0).str.replace('No','0')\n"
     ]
    }
   ],
   "source": [
    "df['balcony'] = df['balcony'].str.split(' ').str.get(0).str.replace('No','0')"
   ]
  },
  {
   "cell_type": "code",
   "execution_count": 61,
   "id": "a188afcf-b01f-4030-a50b-59a7761ad743",
   "metadata": {
    "tags": []
   },
   "outputs": [
    {
     "data": {
      "text/plain": [
       "additionalRoom\n",
       "Servant Room                                     629\n",
       "Study Room                                       232\n",
       "Others                                           179\n",
       "Pooja Room                                       132\n",
       "Study Room,Servant Room                           81\n",
       "Store Room                                        76\n",
       "Pooja Room,Servant Room                           60\n",
       "Servant Room,Others                               52\n",
       "Servant Room,Pooja Room                           30\n",
       "Study Room,Others                                 27\n",
       "Pooja Room,Study Room,Servant Room,Others         25\n",
       "Pooja Room,Study Room,Servant Room                24\n",
       "Servant Room,Store Room                           19\n",
       "Pooja Room,Study Room                             13\n",
       "Pooja Room,Study Room,Servant Room,Store Room     12\n",
       "Study Room,Pooja Room                              8\n",
       "Servant Room,Study Room                            8\n",
       "Study Room,Servant Room,Store Room                 7\n",
       "Pooja Room,Store Room                              6\n",
       "Pooja Room,Others                                  6\n",
       "Others,Servant Room                                6\n",
       "Servant Room,Study Room,Pooja Room,Store Room      6\n",
       "Pooja Room,Servant Room,Others                     6\n",
       "Study Room,Servant Room,Others                     5\n",
       "Pooja Room,Store Room,Study Room,Servant Room      4\n",
       "Pooja Room,Study Room,Store Room                   4\n",
       "Servant Room,Pooja Room,Study Room,Store Room      3\n",
       "Study Room,Pooja Room,Store Room                   3\n",
       "Store Room,Servant Room                            3\n",
       "Servant Room,Study Room,Store Room                 2\n",
       "Pooja Room,Study Room,Others                       2\n",
       "Study Room,Pooja Room,Servant Room                 2\n",
       "Servant Room,Others,Store Room,Pooja Room          2\n",
       "Servant Room,Others,Pooja Room                     2\n",
       "Study Room,Servant Room,Pooja Room,Store Room      2\n",
       "Others,Study Room                                  1\n",
       "Servant Room,Study Room,Others                     1\n",
       "Servant Room,Pooja Room,Study Room                 1\n",
       "Servant Room,Study Room,Pooja Room                 1\n",
       "Store Room,Pooja Room,Servant Room                 1\n",
       "Servant Room,Pooja Room,Store Room,Study Room      1\n",
       "Study Room,Store Room                              1\n",
       "Store Room,Study Room                              1\n",
       "Servant Room,Pooja Room,Store Room                 1\n",
       "Study Room,Servant Room,Store Room,Pooja Room      1\n",
       "Study Room,Servant Room,Pooja Room                 1\n",
       "Pooja Room,Servant Room,Study Room,Store Room      1\n",
       "Pooja Room,Study Room,Store Room,Servant Room      1\n",
       "Store Room,Pooja Room                              1\n",
       "Name: count, dtype: int64"
      ]
     },
     "execution_count": 61,
     "metadata": {},
     "output_type": "execute_result"
    }
   ],
   "source": [
    "# additionalRoom\n",
    "df['additionalRoom'].value_counts()"
   ]
  },
  {
   "cell_type": "code",
   "execution_count": 62,
   "id": "3d5b2c4b-ad3b-4e50-9b84-09f1350d4e49",
   "metadata": {
    "tags": []
   },
   "outputs": [
    {
     "data": {
      "text/plain": [
       "1305"
      ]
     },
     "execution_count": 62,
     "metadata": {},
     "output_type": "execute_result"
    }
   ],
   "source": [
    "df['additionalRoom'].isnull().sum()"
   ]
  },
  {
   "cell_type": "code",
   "execution_count": 63,
   "id": "d5707790-a7ce-47dc-ba3f-ec13a21434fa",
   "metadata": {
    "tags": []
   },
   "outputs": [
    {
     "name": "stderr",
     "output_type": "stream",
     "text": [
      "C:\\Users\\acer\\AppData\\Local\\Temp\\ipykernel_9112\\1615843200.py:1: SettingWithCopyWarning: \n",
      "A value is trying to be set on a copy of a slice from a DataFrame\n",
      "\n",
      "See the caveats in the documentation: https://pandas.pydata.org/pandas-docs/stable/user_guide/indexing.html#returning-a-view-versus-a-copy\n",
      "  df['additionalRoom'].fillna('not available',inplace=True)\n"
     ]
    }
   ],
   "source": [
    "df['additionalRoom'].fillna('not available',inplace=True)"
   ]
  },
  {
   "cell_type": "code",
   "execution_count": 64,
   "id": "7e680913-40ee-457a-9285-51e752dac506",
   "metadata": {
    "tags": []
   },
   "outputs": [
    {
     "name": "stderr",
     "output_type": "stream",
     "text": [
      "C:\\Users\\acer\\AppData\\Local\\Temp\\ipykernel_9112\\4218856625.py:1: SettingWithCopyWarning: \n",
      "A value is trying to be set on a copy of a slice from a DataFrame.\n",
      "Try using .loc[row_indexer,col_indexer] = value instead\n",
      "\n",
      "See the caveats in the documentation: https://pandas.pydata.org/pandas-docs/stable/user_guide/indexing.html#returning-a-view-versus-a-copy\n",
      "  df['additionalRoom'] = df['additionalRoom'].str.lower()\n"
     ]
    }
   ],
   "source": [
    "df['additionalRoom'] = df['additionalRoom'].str.lower()"
   ]
  },
  {
   "cell_type": "code",
   "execution_count": 66,
   "id": "ea046807-d5af-4423-992d-20236cb1f0d8",
   "metadata": {
    "tags": []
   },
   "outputs": [
    {
     "data": {
      "text/plain": [
       "0      4th   of 4 Floors\n",
       "1      1st   of 3 Floors\n",
       "2    12nd   of 14 Floors\n",
       "3      2nd   of 4 Floors\n",
       "4      5th   of 8 Floors\n",
       "Name: floorNum, dtype: object"
      ]
     },
     "execution_count": 66,
     "metadata": {},
     "output_type": "execute_result"
    }
   ],
   "source": [
    "df['floorNum'].head(5)"
   ]
  },
  {
   "cell_type": "code",
   "execution_count": 68,
   "id": "5e13e3b3-49d0-4a29-81a9-a0de16288dd4",
   "metadata": {
    "tags": []
   },
   "outputs": [
    {
     "data": {
      "text/plain": [
       "2"
      ]
     },
     "execution_count": 68,
     "metadata": {},
     "output_type": "execute_result"
    }
   ],
   "source": [
    "df['floorNum'].isnull().sum()"
   ]
  },
  {
   "cell_type": "code",
   "execution_count": 69,
   "id": "4d1892db-843d-4972-adde-919727fe6e4a",
   "metadata": {
    "tags": []
   },
   "outputs": [
    {
     "data": {
      "text/html": [
       "<div>\n",
       "<style scoped>\n",
       "    .dataframe tbody tr th:only-of-type {\n",
       "        vertical-align: middle;\n",
       "    }\n",
       "\n",
       "    .dataframe tbody tr th {\n",
       "        vertical-align: top;\n",
       "    }\n",
       "\n",
       "    .dataframe thead th {\n",
       "        text-align: right;\n",
       "    }\n",
       "</style>\n",
       "<table border=\"1\" class=\"dataframe\">\n",
       "  <thead>\n",
       "    <tr style=\"text-align: right;\">\n",
       "      <th></th>\n",
       "      <th>property_name</th>\n",
       "      <th>society</th>\n",
       "      <th>price</th>\n",
       "      <th>price_per_sqft</th>\n",
       "      <th>areaWithType</th>\n",
       "      <th>bedRoom</th>\n",
       "      <th>bathroom</th>\n",
       "      <th>balcony</th>\n",
       "      <th>additionalRoom</th>\n",
       "      <th>address</th>\n",
       "      <th>floorNum</th>\n",
       "      <th>facing</th>\n",
       "      <th>agePossession</th>\n",
       "      <th>nearbyLocations</th>\n",
       "      <th>description</th>\n",
       "      <th>furnishDetails</th>\n",
       "      <th>features</th>\n",
       "      <th>rating</th>\n",
       "    </tr>\n",
       "  </thead>\n",
       "  <tbody>\n",
       "    <tr>\n",
       "      <th>181</th>\n",
       "      <td>3 BHK Flat in Dwarka Expressway Gurgaon</td>\n",
       "      <td>experion heartsong</td>\n",
       "      <td>1.08</td>\n",
       "      <td>6150.0</td>\n",
       "      <td>Built Up area: 1758 (163.32 sq.m.)</td>\n",
       "      <td>3</td>\n",
       "      <td>3</td>\n",
       "      <td>0</td>\n",
       "      <td>not available</td>\n",
       "      <td>604, Tower B-3, 6th Floor,Sector 108, Dwarka E...</td>\n",
       "      <td>NaN</td>\n",
       "      <td>NaN</td>\n",
       "      <td>Under Construction</td>\n",
       "      <td>NaN</td>\n",
       "      <td>A property by one of the most reputed builders...</td>\n",
       "      <td>[]</td>\n",
       "      <td>NaN</td>\n",
       "      <td>NaN</td>\n",
       "    </tr>\n",
       "    <tr>\n",
       "      <th>2766</th>\n",
       "      <td>2 BHK Flat in Sector 78 Gurgaon</td>\n",
       "      <td>nan</td>\n",
       "      <td>0.60</td>\n",
       "      <td>3692.0</td>\n",
       "      <td>Built Up area: 1625 (150.97 sq.m.)</td>\n",
       "      <td>2</td>\n",
       "      <td>2</td>\n",
       "      <td>0</td>\n",
       "      <td>not available</td>\n",
       "      <td>Gurgaon, Sector 78 Gurgaon, Gurgaon, Haryana</td>\n",
       "      <td>NaN</td>\n",
       "      <td>NaN</td>\n",
       "      <td>Under Construction</td>\n",
       "      <td>NaN</td>\n",
       "      <td>The property is under construction it's by rah...</td>\n",
       "      <td>[]</td>\n",
       "      <td>NaN</td>\n",
       "      <td>['Safety4 out of 5', 'Lifestyle4 out of 5', 'E...</td>\n",
       "    </tr>\n",
       "  </tbody>\n",
       "</table>\n",
       "</div>"
      ],
      "text/plain": [
       "                                property_name             society  price  \\\n",
       "181   3 BHK Flat in Dwarka Expressway Gurgaon  experion heartsong   1.08   \n",
       "2766          2 BHK Flat in Sector 78 Gurgaon                 nan   0.60   \n",
       "\n",
       "      price_per_sqft                        areaWithType  bedRoom  bathroom  \\\n",
       "181           6150.0  Built Up area: 1758 (163.32 sq.m.)        3         3   \n",
       "2766          3692.0  Built Up area: 1625 (150.97 sq.m.)        2         2   \n",
       "\n",
       "     balcony additionalRoom  \\\n",
       "181        0  not available   \n",
       "2766       0  not available   \n",
       "\n",
       "                                                address floorNum facing  \\\n",
       "181   604, Tower B-3, 6th Floor,Sector 108, Dwarka E...      NaN    NaN   \n",
       "2766       Gurgaon, Sector 78 Gurgaon, Gurgaon, Haryana      NaN    NaN   \n",
       "\n",
       "           agePossession nearbyLocations  \\\n",
       "181   Under Construction             NaN   \n",
       "2766  Under Construction             NaN   \n",
       "\n",
       "                                            description furnishDetails  \\\n",
       "181   A property by one of the most reputed builders...             []   \n",
       "2766  The property is under construction it's by rah...             []   \n",
       "\n",
       "     features                                             rating  \n",
       "181       NaN                                                NaN  \n",
       "2766      NaN  ['Safety4 out of 5', 'Lifestyle4 out of 5', 'E...  "
      ]
     },
     "execution_count": 69,
     "metadata": {},
     "output_type": "execute_result"
    }
   ],
   "source": [
    "df[df['floorNum'].isnull()]"
   ]
  },
  {
   "cell_type": "code",
   "execution_count": 73,
   "id": "3097b0b1-28da-410d-9647-9d007ed1676d",
   "metadata": {
    "tags": []
   },
   "outputs": [
    {
     "name": "stderr",
     "output_type": "stream",
     "text": [
      "C:\\Users\\acer\\AppData\\Local\\Temp\\ipykernel_9112\\2785357549.py:1: SettingWithCopyWarning: \n",
      "A value is trying to be set on a copy of a slice from a DataFrame.\n",
      "Try using .loc[row_indexer,col_indexer] = value instead\n",
      "\n",
      "See the caveats in the documentation: https://pandas.pydata.org/pandas-docs/stable/user_guide/indexing.html#returning-a-view-versus-a-copy\n",
      "  df['floorNum'] = df['floorNum'].str.split(' ').str.get(0).str.replace('Ground','0').str.replace('Basement','-1').str.replace('Lower','0').str.extract(r'(\\d+)')\n"
     ]
    }
   ],
   "source": [
    "df['floorNum'] = df['floorNum'].str.split(' ').str.get(0).str.replace('Ground','0').str.replace('Basement','-1').str.replace('Lower','0').str.extract(r'(\\d+)')"
   ]
  },
  {
   "cell_type": "code",
   "execution_count": 74,
   "id": "ef4b2395-631b-4ec7-a8c7-d483170972b1",
   "metadata": {
    "tags": []
   },
   "outputs": [
    {
     "data": {
      "text/html": [
       "<div>\n",
       "<style scoped>\n",
       "    .dataframe tbody tr th:only-of-type {\n",
       "        vertical-align: middle;\n",
       "    }\n",
       "\n",
       "    .dataframe tbody tr th {\n",
       "        vertical-align: top;\n",
       "    }\n",
       "\n",
       "    .dataframe thead th {\n",
       "        text-align: right;\n",
       "    }\n",
       "</style>\n",
       "<table border=\"1\" class=\"dataframe\">\n",
       "  <thead>\n",
       "    <tr style=\"text-align: right;\">\n",
       "      <th></th>\n",
       "      <th>property_name</th>\n",
       "      <th>society</th>\n",
       "      <th>price</th>\n",
       "      <th>price_per_sqft</th>\n",
       "      <th>areaWithType</th>\n",
       "      <th>bedRoom</th>\n",
       "      <th>bathroom</th>\n",
       "      <th>balcony</th>\n",
       "      <th>additionalRoom</th>\n",
       "      <th>address</th>\n",
       "      <th>floorNum</th>\n",
       "      <th>facing</th>\n",
       "      <th>agePossession</th>\n",
       "      <th>nearbyLocations</th>\n",
       "      <th>description</th>\n",
       "      <th>furnishDetails</th>\n",
       "      <th>features</th>\n",
       "      <th>rating</th>\n",
       "    </tr>\n",
       "  </thead>\n",
       "  <tbody>\n",
       "    <tr>\n",
       "      <th>595</th>\n",
       "      <td>3 BHK Flat in Sector 90 Gurgaon</td>\n",
       "      <td>dlf new town heights</td>\n",
       "      <td>1.25</td>\n",
       "      <td>6476.0</td>\n",
       "      <td>Super Built up area 1930(179.3 sq.m.)Built Up ...</td>\n",
       "      <td>3</td>\n",
       "      <td>3</td>\n",
       "      <td>3+</td>\n",
       "      <td>pooja room,servant room</td>\n",
       "      <td>Middle Floor, Sector 90 Gurgaon, Gurgaon, Haryana</td>\n",
       "      <td>17</td>\n",
       "      <td>South-East</td>\n",
       "      <td>1 to 5 Year Old</td>\n",
       "      <td>['Manish Gallexie 91', 'NH-8 IMT Manesar', 'RH...</td>\n",
       "      <td>Dlf new town heights sector 90Project highligh...</td>\n",
       "      <td>NaN</td>\n",
       "      <td>['Feng Shui / Vaastu Compliant', 'Security / F...</td>\n",
       "      <td>['Green Area5 out of 5', 'Construction4 out of...</td>\n",
       "    </tr>\n",
       "    <tr>\n",
       "      <th>2855</th>\n",
       "      <td>2 BHK Flat in Sohna</td>\n",
       "      <td>breez global hill view</td>\n",
       "      <td>0.32</td>\n",
       "      <td>5470.0</td>\n",
       "      <td>Built Up area: 1000 (92.9 sq.m.)Carpet area: 5...</td>\n",
       "      <td>2</td>\n",
       "      <td>2</td>\n",
       "      <td>1</td>\n",
       "      <td>not available</td>\n",
       "      <td>1701 &amp; 1708, Sohna, Gurgaon, Haryana</td>\n",
       "      <td>17</td>\n",
       "      <td>NaN</td>\n",
       "      <td>0 to 1 Year Old</td>\n",
       "      <td>['Huda City Centre', 'Omaxe City Centre', 'Nin...</td>\n",
       "      <td>Both adjacent properties available which can b...</td>\n",
       "      <td>[]</td>\n",
       "      <td>['Feng Shui / Vaastu Compliant', 'Security / F...</td>\n",
       "      <td>['Safety4 out of 5', 'Lifestyle4 out of 5', 'E...</td>\n",
       "    </tr>\n",
       "    <tr>\n",
       "      <th>2076</th>\n",
       "      <td>3 BHK Flat in Sector 70A Gurgaon</td>\n",
       "      <td>bptp astaire gardens</td>\n",
       "      <td>1.20</td>\n",
       "      <td>7058.0</td>\n",
       "      <td>Super Built up area 1700(157.94 sq.m.)Built Up...</td>\n",
       "      <td>3</td>\n",
       "      <td>3</td>\n",
       "      <td>3+</td>\n",
       "      <td>not available</td>\n",
       "      <td>Sector 70A Gurgaon, Gurgaon, Haryana</td>\n",
       "      <td>2</td>\n",
       "      <td>NaN</td>\n",
       "      <td>1 to 5 Year Old</td>\n",
       "      <td>['Sector 54 Chowk Metro Station', 'Airia Mall'...</td>\n",
       "      <td>Having very good quality of wooden work and it...</td>\n",
       "      <td>['5 Fan', '1 Exhaust Fan', '1 Dining Table', '...</td>\n",
       "      <td>['Intercom Facility', 'Lift(s)', 'Swimming Poo...</td>\n",
       "      <td>['Green Area4 out of 5', 'Construction5 out of...</td>\n",
       "    </tr>\n",
       "  </tbody>\n",
       "</table>\n",
       "</div>"
      ],
      "text/plain": [
       "                         property_name                 society  price  \\\n",
       "595    3 BHK Flat in Sector 90 Gurgaon    dlf new town heights   1.25   \n",
       "2855               2 BHK Flat in Sohna  breez global hill view   0.32   \n",
       "2076  3 BHK Flat in Sector 70A Gurgaon    bptp astaire gardens   1.20   \n",
       "\n",
       "      price_per_sqft                                       areaWithType  \\\n",
       "595           6476.0  Super Built up area 1930(179.3 sq.m.)Built Up ...   \n",
       "2855          5470.0  Built Up area: 1000 (92.9 sq.m.)Carpet area: 5...   \n",
       "2076          7058.0  Super Built up area 1700(157.94 sq.m.)Built Up...   \n",
       "\n",
       "      bedRoom  bathroom balcony           additionalRoom  \\\n",
       "595         3         3      3+  pooja room,servant room   \n",
       "2855        2         2       1            not available   \n",
       "2076        3         3      3+            not available   \n",
       "\n",
       "                                                address floorNum      facing  \\\n",
       "595   Middle Floor, Sector 90 Gurgaon, Gurgaon, Haryana       17  South-East   \n",
       "2855               1701 & 1708, Sohna, Gurgaon, Haryana       17         NaN   \n",
       "2076               Sector 70A Gurgaon, Gurgaon, Haryana        2         NaN   \n",
       "\n",
       "        agePossession                                    nearbyLocations  \\\n",
       "595   1 to 5 Year Old  ['Manish Gallexie 91', 'NH-8 IMT Manesar', 'RH...   \n",
       "2855  0 to 1 Year Old  ['Huda City Centre', 'Omaxe City Centre', 'Nin...   \n",
       "2076  1 to 5 Year Old  ['Sector 54 Chowk Metro Station', 'Airia Mall'...   \n",
       "\n",
       "                                            description  \\\n",
       "595   Dlf new town heights sector 90Project highligh...   \n",
       "2855  Both adjacent properties available which can b...   \n",
       "2076  Having very good quality of wooden work and it...   \n",
       "\n",
       "                                         furnishDetails  \\\n",
       "595                                                 NaN   \n",
       "2855                                                 []   \n",
       "2076  ['5 Fan', '1 Exhaust Fan', '1 Dining Table', '...   \n",
       "\n",
       "                                               features  \\\n",
       "595   ['Feng Shui / Vaastu Compliant', 'Security / F...   \n",
       "2855  ['Feng Shui / Vaastu Compliant', 'Security / F...   \n",
       "2076  ['Intercom Facility', 'Lift(s)', 'Swimming Poo...   \n",
       "\n",
       "                                                 rating  \n",
       "595   ['Green Area5 out of 5', 'Construction4 out of...  \n",
       "2855  ['Safety4 out of 5', 'Lifestyle4 out of 5', 'E...  \n",
       "2076  ['Green Area4 out of 5', 'Construction5 out of...  "
      ]
     },
     "execution_count": 74,
     "metadata": {},
     "output_type": "execute_result"
    }
   ],
   "source": [
    "df.sample(3)"
   ]
  },
  {
   "cell_type": "code",
   "execution_count": 75,
   "id": "366a893d-0360-405d-a8c8-404b2de6dae9",
   "metadata": {
    "tags": []
   },
   "outputs": [
    {
     "data": {
      "text/plain": [
       "facing\n",
       "North-East    505\n",
       "East          490\n",
       "North         301\n",
       "South         203\n",
       "West          183\n",
       "North-West    162\n",
       "South-East    144\n",
       "South-West    135\n",
       "Name: count, dtype: int64"
      ]
     },
     "execution_count": 75,
     "metadata": {},
     "output_type": "execute_result"
    }
   ],
   "source": [
    "df['facing'].value_counts()"
   ]
  },
  {
   "cell_type": "code",
   "execution_count": 76,
   "id": "18baa660-7535-4d43-ac3f-c5620fc30e5a",
   "metadata": {
    "tags": []
   },
   "outputs": [
    {
     "data": {
      "text/plain": [
       "874"
      ]
     },
     "execution_count": 76,
     "metadata": {},
     "output_type": "execute_result"
    }
   ],
   "source": [
    "df['facing'].isnull().sum()"
   ]
  },
  {
   "cell_type": "code",
   "execution_count": 77,
   "id": "442304f3-c748-4408-9706-13b54bb1a9df",
   "metadata": {
    "tags": []
   },
   "outputs": [
    {
     "name": "stderr",
     "output_type": "stream",
     "text": [
      "C:\\Users\\acer\\AppData\\Local\\Temp\\ipykernel_9112\\3692945726.py:1: SettingWithCopyWarning: \n",
      "A value is trying to be set on a copy of a slice from a DataFrame\n",
      "\n",
      "See the caveats in the documentation: https://pandas.pydata.org/pandas-docs/stable/user_guide/indexing.html#returning-a-view-versus-a-copy\n",
      "  df['facing'].fillna('NA',inplace=True)\n"
     ]
    }
   ],
   "source": [
    "df['facing'].fillna('NA',inplace=True)"
   ]
  },
  {
   "cell_type": "code",
   "execution_count": 78,
   "id": "31a074c2-3736-4143-9ceb-d07b7120589a",
   "metadata": {
    "tags": []
   },
   "outputs": [
    {
     "data": {
      "text/plain": [
       "0"
      ]
     },
     "execution_count": 78,
     "metadata": {},
     "output_type": "execute_result"
    }
   ],
   "source": [
    "df['facing'].isnull().sum()"
   ]
  },
  {
   "cell_type": "code",
   "execution_count": 80,
   "id": "745b503e-4059-46ef-893e-a7bb42b4e0e7",
   "metadata": {
    "tags": []
   },
   "outputs": [],
   "source": [
    "# create new columns\n",
    "df.insert(loc=4,column='area',value=round((df['price']*10000000)/df['price_per_sqft']))"
   ]
  },
  {
   "cell_type": "code",
   "execution_count": 81,
   "id": "873fc29b-6b1b-44b7-a19d-f6b01a664bf2",
   "metadata": {
    "tags": []
   },
   "outputs": [],
   "source": [
    "df.insert(loc=1,column='property_type',value='flat')"
   ]
  },
  {
   "cell_type": "code",
   "execution_count": 83,
   "id": "5e391301-64e1-49be-8fb1-c064125966ee",
   "metadata": {
    "tags": []
   },
   "outputs": [
    {
     "data": {
      "text/html": [
       "<div>\n",
       "<style scoped>\n",
       "    .dataframe tbody tr th:only-of-type {\n",
       "        vertical-align: middle;\n",
       "    }\n",
       "\n",
       "    .dataframe tbody tr th {\n",
       "        vertical-align: top;\n",
       "    }\n",
       "\n",
       "    .dataframe thead th {\n",
       "        text-align: right;\n",
       "    }\n",
       "</style>\n",
       "<table border=\"1\" class=\"dataframe\">\n",
       "  <thead>\n",
       "    <tr style=\"text-align: right;\">\n",
       "      <th></th>\n",
       "      <th>property_name</th>\n",
       "      <th>property_type</th>\n",
       "      <th>society</th>\n",
       "      <th>price</th>\n",
       "      <th>price_per_sqft</th>\n",
       "      <th>area</th>\n",
       "      <th>areaWithType</th>\n",
       "      <th>bedRoom</th>\n",
       "      <th>bathroom</th>\n",
       "      <th>balcony</th>\n",
       "      <th>additionalRoom</th>\n",
       "      <th>address</th>\n",
       "      <th>floorNum</th>\n",
       "      <th>facing</th>\n",
       "      <th>agePossession</th>\n",
       "      <th>nearbyLocations</th>\n",
       "      <th>description</th>\n",
       "      <th>furnishDetails</th>\n",
       "      <th>features</th>\n",
       "      <th>rating</th>\n",
       "    </tr>\n",
       "  </thead>\n",
       "  <tbody>\n",
       "    <tr>\n",
       "      <th>0</th>\n",
       "      <td>2 BHK Flat in Krishna Colony</td>\n",
       "      <td>flat</td>\n",
       "      <td>maa bhagwati residency</td>\n",
       "      <td>0.45</td>\n",
       "      <td>5000.0</td>\n",
       "      <td>900.0</td>\n",
       "      <td>Carpet area: 900 (83.61 sq.m.)</td>\n",
       "      <td>2</td>\n",
       "      <td>2</td>\n",
       "      <td>1</td>\n",
       "      <td>not available</td>\n",
       "      <td>Krishna Colony, Gurgaon, Haryana</td>\n",
       "      <td>4</td>\n",
       "      <td>West</td>\n",
       "      <td>1 to 5 Year Old</td>\n",
       "      <td>['Chintapurni Mandir', 'State bank ATM', 'Pear...</td>\n",
       "      <td>So with lift.Maa bhagwati residency is one of ...</td>\n",
       "      <td>['3 Fan', '4 Light', '1 Wardrobe', 'No AC', 'N...</td>\n",
       "      <td>['Feng Shui / Vaastu Compliant', 'Security / F...</td>\n",
       "      <td>['Environment4 out of 5', 'Safety4 out of 5', ...</td>\n",
       "    </tr>\n",
       "    <tr>\n",
       "      <th>1</th>\n",
       "      <td>2 BHK Flat in Ashok Vihar</td>\n",
       "      <td>flat</td>\n",
       "      <td>apna enclave</td>\n",
       "      <td>0.50</td>\n",
       "      <td>7692.0</td>\n",
       "      <td>650.0</td>\n",
       "      <td>Carpet area: 650 (60.39 sq.m.)</td>\n",
       "      <td>2</td>\n",
       "      <td>2</td>\n",
       "      <td>1</td>\n",
       "      <td>not available</td>\n",
       "      <td>46b, Ashok Vihar, Gurgaon, Haryana</td>\n",
       "      <td>1</td>\n",
       "      <td>West</td>\n",
       "      <td>10+ Year Old</td>\n",
       "      <td>['Chintapurni Mandir', 'Sheetla Mata Mandir', ...</td>\n",
       "      <td>Property situated on main road, railway statio...</td>\n",
       "      <td>['3 Wardrobe', '4 Fan', '1 Exhaust Fan', '1 Ge...</td>\n",
       "      <td>['Security / Fire Alarm', 'Maintenance Staff',...</td>\n",
       "      <td>['Environment4 out of 5', 'Safety4 out of 5', ...</td>\n",
       "    </tr>\n",
       "  </tbody>\n",
       "</table>\n",
       "</div>"
      ],
      "text/plain": [
       "                  property_name property_type                 society  price  \\\n",
       "0  2 BHK Flat in Krishna Colony          flat  maa bhagwati residency   0.45   \n",
       "1     2 BHK Flat in Ashok Vihar          flat            apna enclave   0.50   \n",
       "\n",
       "   price_per_sqft   area                    areaWithType  bedRoom  bathroom  \\\n",
       "0          5000.0  900.0  Carpet area: 900 (83.61 sq.m.)        2         2   \n",
       "1          7692.0  650.0  Carpet area: 650 (60.39 sq.m.)        2         2   \n",
       "\n",
       "  balcony additionalRoom                             address floorNum facing  \\\n",
       "0       1  not available    Krishna Colony, Gurgaon, Haryana        4   West   \n",
       "1       1  not available  46b, Ashok Vihar, Gurgaon, Haryana        1   West   \n",
       "\n",
       "     agePossession                                    nearbyLocations  \\\n",
       "0  1 to 5 Year Old  ['Chintapurni Mandir', 'State bank ATM', 'Pear...   \n",
       "1     10+ Year Old  ['Chintapurni Mandir', 'Sheetla Mata Mandir', ...   \n",
       "\n",
       "                                         description  \\\n",
       "0  So with lift.Maa bhagwati residency is one of ...   \n",
       "1  Property situated on main road, railway statio...   \n",
       "\n",
       "                                      furnishDetails  \\\n",
       "0  ['3 Fan', '4 Light', '1 Wardrobe', 'No AC', 'N...   \n",
       "1  ['3 Wardrobe', '4 Fan', '1 Exhaust Fan', '1 Ge...   \n",
       "\n",
       "                                            features  \\\n",
       "0  ['Feng Shui / Vaastu Compliant', 'Security / F...   \n",
       "1  ['Security / Fire Alarm', 'Maintenance Staff',...   \n",
       "\n",
       "                                              rating  \n",
       "0  ['Environment4 out of 5', 'Safety4 out of 5', ...  \n",
       "1  ['Environment4 out of 5', 'Safety4 out of 5', ...  "
      ]
     },
     "execution_count": 83,
     "metadata": {},
     "output_type": "execute_result"
    }
   ],
   "source": [
    "df.head(2)"
   ]
  },
  {
   "cell_type": "code",
   "execution_count": 84,
   "id": "c5daf244-496a-43a0-94c6-a740b5adc43a",
   "metadata": {
    "tags": []
   },
   "outputs": [
    {
     "name": "stdout",
     "output_type": "stream",
     "text": [
      "<class 'pandas.core.frame.DataFrame'>\n",
      "Index: 2997 entries, 0 to 3016\n",
      "Data columns (total 20 columns):\n",
      " #   Column           Non-Null Count  Dtype  \n",
      "---  ------           --------------  -----  \n",
      " 0   property_name    2997 non-null   object \n",
      " 1   property_type    2997 non-null   object \n",
      " 2   society          2997 non-null   object \n",
      " 3   price            2996 non-null   float64\n",
      " 4   price_per_sqft   2996 non-null   float64\n",
      " 5   area             2996 non-null   float64\n",
      " 6   areaWithType     2997 non-null   object \n",
      " 7   bedRoom          2997 non-null   int32  \n",
      " 8   bathroom         2997 non-null   int32  \n",
      " 9   balcony          2997 non-null   object \n",
      " 10  additionalRoom   2997 non-null   object \n",
      " 11  address          2991 non-null   object \n",
      " 12  floorNum         2995 non-null   object \n",
      " 13  facing           2997 non-null   object \n",
      " 14  agePossession    2996 non-null   object \n",
      " 15  nearbyLocations  2906 non-null   object \n",
      " 16  description      2997 non-null   object \n",
      " 17  furnishDetails   2200 non-null   object \n",
      " 18  features         2590 non-null   object \n",
      " 19  rating           2668 non-null   object \n",
      "dtypes: float64(3), int32(2), object(15)\n",
      "memory usage: 468.3+ KB\n"
     ]
    }
   ],
   "source": [
    "df.info()"
   ]
  },
  {
   "cell_type": "code",
   "execution_count": 85,
   "id": "ccfbcffa-f1b2-41b5-94c0-898ba31b4373",
   "metadata": {
    "tags": []
   },
   "outputs": [
    {
     "data": {
      "text/plain": [
       "(2997, 20)"
      ]
     },
     "execution_count": 85,
     "metadata": {},
     "output_type": "execute_result"
    }
   ],
   "source": [
    "df.shape"
   ]
  },
  {
   "cell_type": "code",
   "execution_count": 86,
   "id": "877a5edd-e98c-4863-ac47-26519a8e15d6",
   "metadata": {
    "tags": []
   },
   "outputs": [],
   "source": [
    "df.to_csv('flats_cleaned.csv',index=False)"
   ]
  },
  {
   "cell_type": "code",
   "execution_count": 87,
   "id": "9d0c4e8f-4ca8-4c52-9496-3ddf79418075",
   "metadata": {
    "tags": []
   },
   "outputs": [],
   "source": [
    "df1 = pd.read_csv('house_cleaned.csv')"
   ]
  },
  {
   "cell_type": "code",
   "execution_count": 88,
   "id": "7a2a3a94-d589-449d-a920-032413ef7364",
   "metadata": {
    "tags": []
   },
   "outputs": [
    {
     "data": {
      "text/html": [
       "<div>\n",
       "<style scoped>\n",
       "    .dataframe tbody tr th:only-of-type {\n",
       "        vertical-align: middle;\n",
       "    }\n",
       "\n",
       "    .dataframe tbody tr th {\n",
       "        vertical-align: top;\n",
       "    }\n",
       "\n",
       "    .dataframe thead th {\n",
       "        text-align: right;\n",
       "    }\n",
       "</style>\n",
       "<table border=\"1\" class=\"dataframe\">\n",
       "  <thead>\n",
       "    <tr style=\"text-align: right;\">\n",
       "      <th></th>\n",
       "      <th>property_name</th>\n",
       "      <th>property_type</th>\n",
       "      <th>society</th>\n",
       "      <th>price</th>\n",
       "      <th>price_per_sqft</th>\n",
       "      <th>area</th>\n",
       "      <th>areaWithType</th>\n",
       "      <th>bedRoom</th>\n",
       "      <th>bathroom</th>\n",
       "      <th>balcony</th>\n",
       "      <th>additionalRoom</th>\n",
       "      <th>address</th>\n",
       "      <th>floorNum</th>\n",
       "      <th>facing</th>\n",
       "      <th>agePossession</th>\n",
       "      <th>nearbyLocations</th>\n",
       "      <th>description</th>\n",
       "      <th>furnishDetails</th>\n",
       "      <th>features</th>\n",
       "      <th>rating</th>\n",
       "    </tr>\n",
       "  </thead>\n",
       "  <tbody>\n",
       "    <tr>\n",
       "      <th>0</th>\n",
       "      <td>5 Bedroom House for sale in Sector 70A Gurgaon</td>\n",
       "      <td>house</td>\n",
       "      <td>bptp visionnaire</td>\n",
       "      <td>5.25</td>\n",
       "      <td>20115.0</td>\n",
       "      <td>2610.0</td>\n",
       "      <td>Plot area 290(242.48 sq.m.)</td>\n",
       "      <td>5</td>\n",
       "      <td>4</td>\n",
       "      <td>3+</td>\n",
       "      <td>servant room</td>\n",
       "      <td>29b, Sector 70A Gurgaon, Gurgaon, Haryana</td>\n",
       "      <td>3.0</td>\n",
       "      <td>North-East</td>\n",
       "      <td>0 to 1 Year Old</td>\n",
       "      <td>['Good Earth City Center 2', 'Kunskapsskolan I...</td>\n",
       "      <td>Do you wish to buy an independent house in sec...</td>\n",
       "      <td>['1 Wardrobe', '1 Fan', '1 Exhaust Fan', '1 Ge...</td>\n",
       "      <td>['Feng Shui / Vaastu Compliant', 'Private Gard...</td>\n",
       "      <td>['Environment5 out of 5', 'Lifestyle4 out of 5...</td>\n",
       "    </tr>\n",
       "  </tbody>\n",
       "</table>\n",
       "</div>"
      ],
      "text/plain": [
       "                                    property_name property_type  \\\n",
       "0  5 Bedroom House for sale in Sector 70A Gurgaon         house   \n",
       "\n",
       "            society  price  price_per_sqft    area  \\\n",
       "0  bptp visionnaire   5.25         20115.0  2610.0   \n",
       "\n",
       "                  areaWithType  bedRoom  bathroom balcony additionalRoom  \\\n",
       "0  Plot area 290(242.48 sq.m.)        5         4      3+   servant room   \n",
       "\n",
       "                                     address  floorNum      facing  \\\n",
       "0  29b, Sector 70A Gurgaon, Gurgaon, Haryana       3.0  North-East   \n",
       "\n",
       "     agePossession                                    nearbyLocations  \\\n",
       "0  0 to 1 Year Old  ['Good Earth City Center 2', 'Kunskapsskolan I...   \n",
       "\n",
       "                                         description  \\\n",
       "0  Do you wish to buy an independent house in sec...   \n",
       "\n",
       "                                      furnishDetails  \\\n",
       "0  ['1 Wardrobe', '1 Fan', '1 Exhaust Fan', '1 Ge...   \n",
       "\n",
       "                                            features  \\\n",
       "0  ['Feng Shui / Vaastu Compliant', 'Private Gard...   \n",
       "\n",
       "                                              rating  \n",
       "0  ['Environment5 out of 5', 'Lifestyle4 out of 5...  "
      ]
     },
     "execution_count": 88,
     "metadata": {},
     "output_type": "execute_result"
    }
   ],
   "source": [
    "df1.head(1)"
   ]
  },
  {
   "cell_type": "markdown",
   "id": "c75ffe72-9bc3-41ca-b096-8043cb4e899e",
   "metadata": {},
   "source": [
    "# merge flats"
   ]
  },
  {
   "cell_type": "code",
   "execution_count": 89,
   "id": "5dd4cb0f-01d5-41bc-bd28-851980dc0b22",
   "metadata": {
    "tags": []
   },
   "outputs": [],
   "source": [
    "flats = pd.read_csv('flats_cleaned.csv')\n",
    "house = pd.read_csv('house_cleaned.csv')\n",
    "df = pd.concat([flats,house],ignore_index=True)"
   ]
  },
  {
   "cell_type": "code",
   "execution_count": 90,
   "id": "d2575924-43fd-40c1-b71e-714800c7946b",
   "metadata": {
    "tags": []
   },
   "outputs": [],
   "source": [
    "# shuffle the dataset\n",
    "df = df.sample(df.shape[0],ignore_index=True)"
   ]
  },
  {
   "cell_type": "code",
   "execution_count": 91,
   "id": "1075e1e0-41ee-4f33-a163-3ee6255702b4",
   "metadata": {
    "tags": []
   },
   "outputs": [
    {
     "data": {
      "text/html": [
       "<div>\n",
       "<style scoped>\n",
       "    .dataframe tbody tr th:only-of-type {\n",
       "        vertical-align: middle;\n",
       "    }\n",
       "\n",
       "    .dataframe tbody tr th {\n",
       "        vertical-align: top;\n",
       "    }\n",
       "\n",
       "    .dataframe thead th {\n",
       "        text-align: right;\n",
       "    }\n",
       "</style>\n",
       "<table border=\"1\" class=\"dataframe\">\n",
       "  <thead>\n",
       "    <tr style=\"text-align: right;\">\n",
       "      <th></th>\n",
       "      <th>property_name</th>\n",
       "      <th>property_type</th>\n",
       "      <th>society</th>\n",
       "      <th>price</th>\n",
       "      <th>price_per_sqft</th>\n",
       "      <th>area</th>\n",
       "      <th>areaWithType</th>\n",
       "      <th>bedRoom</th>\n",
       "      <th>bathroom</th>\n",
       "      <th>balcony</th>\n",
       "      <th>additionalRoom</th>\n",
       "      <th>address</th>\n",
       "      <th>floorNum</th>\n",
       "      <th>facing</th>\n",
       "      <th>agePossession</th>\n",
       "      <th>nearbyLocations</th>\n",
       "      <th>description</th>\n",
       "      <th>furnishDetails</th>\n",
       "      <th>features</th>\n",
       "      <th>rating</th>\n",
       "    </tr>\n",
       "  </thead>\n",
       "  <tbody>\n",
       "    <tr>\n",
       "      <th>0</th>\n",
       "      <td>3 BHK Flat in Sector 83 Gurgaon</td>\n",
       "      <td>flat</td>\n",
       "      <td>vatika gurgaon</td>\n",
       "      <td>1.25</td>\n",
       "      <td>6313.0</td>\n",
       "      <td>1980.0</td>\n",
       "      <td>Super Built up area 1980(183.95 sq.m.)</td>\n",
       "      <td>3</td>\n",
       "      <td>3</td>\n",
       "      <td>2</td>\n",
       "      <td>servant room</td>\n",
       "      <td>1024, Sector 83 Gurgaon, Gurgaon, Haryana</td>\n",
       "      <td>2.0</td>\n",
       "      <td>West</td>\n",
       "      <td>1 to 5 Year Old</td>\n",
       "      <td>['Huda Metro Station (Gurugram)', 'Sapphire 83...</td>\n",
       "      <td>Looking for a 3 bhk property for sale in gurga...</td>\n",
       "      <td>NaN</td>\n",
       "      <td>['Security / Fire Alarm', 'Feng Shui / Vaastu ...</td>\n",
       "      <td>['Green Area5 out of 5', 'Construction4.5 out ...</td>\n",
       "    </tr>\n",
       "    <tr>\n",
       "      <th>1</th>\n",
       "      <td>6 Bedroom House for sale in New Palam Vihar Ph...</td>\n",
       "      <td>house</td>\n",
       "      <td>independent</td>\n",
       "      <td>2.00</td>\n",
       "      <td>14914.0</td>\n",
       "      <td>1341.0</td>\n",
       "      <td>Plot area 1341(124.58 sq.m.)</td>\n",
       "      <td>6</td>\n",
       "      <td>4</td>\n",
       "      <td>3</td>\n",
       "      <td>pooja room,study room</td>\n",
       "      <td>New Palam Vihar Phase 1, Gurgaon, Haryana</td>\n",
       "      <td>3.0</td>\n",
       "      <td>East</td>\n",
       "      <td>1 to 5 Year Old</td>\n",
       "      <td>['Palam Vihar Vyapar kendra', 'Palam triangle'...</td>\n",
       "      <td>East facing 2 fully made floor plus terrace. P...</td>\n",
       "      <td>['6 Wardrobe', '9 Fan', '1 Exhaust Fan', '2 Ge...</td>\n",
       "      <td>['Feng Shui / Vaastu Compliant', 'Private Gard...</td>\n",
       "      <td>NaN</td>\n",
       "    </tr>\n",
       "    <tr>\n",
       "      <th>2</th>\n",
       "      <td>3 BHK Flat in Sector 106 Gurgaon</td>\n",
       "      <td>flat</td>\n",
       "      <td>paras dews</td>\n",
       "      <td>1.17</td>\n",
       "      <td>6647.0</td>\n",
       "      <td>1760.0</td>\n",
       "      <td>Super Built up area 1760(163.51 sq.m.)Built Up...</td>\n",
       "      <td>3</td>\n",
       "      <td>4</td>\n",
       "      <td>3+</td>\n",
       "      <td>servant room</td>\n",
       "      <td>Sector 106 Gurgaon, Gurgaon, Haryana</td>\n",
       "      <td>12.0</td>\n",
       "      <td>West</td>\n",
       "      <td>1 to 5 Year Old</td>\n",
       "      <td>['MG Road Metro Station', 'NeoSquare Shopping ...</td>\n",
       "      <td>This 3 bhk apartment is available for sale in ...</td>\n",
       "      <td>['1 Light', 'No AC', 'No Bed', 'No Chimney', '...</td>\n",
       "      <td>['Feng Shui / Vaastu Compliant', 'Security / F...</td>\n",
       "      <td>NaN</td>\n",
       "    </tr>\n",
       "    <tr>\n",
       "      <th>3</th>\n",
       "      <td>4 BHK Flat in Sector 102 Gurgaon</td>\n",
       "      <td>flat</td>\n",
       "      <td>shapoorji pallonji joyville gurugram</td>\n",
       "      <td>2.40</td>\n",
       "      <td>10545.0</td>\n",
       "      <td>2276.0</td>\n",
       "      <td>Super Built up area 2162(200.86 sq.m.)</td>\n",
       "      <td>4</td>\n",
       "      <td>4</td>\n",
       "      <td>3+</td>\n",
       "      <td>not available</td>\n",
       "      <td>N/a, Sector 102 Gurgaon, Gurgaon, Haryana</td>\n",
       "      <td>15.0</td>\n",
       "      <td>North-East</td>\n",
       "      <td>1 to 5 Year Old</td>\n",
       "      <td>['Khan Market', 'The Esplanade Mall', 'Dwarka ...</td>\n",
       "      <td>Situated in sector 102 gurgaon, shapoorji pall...</td>\n",
       "      <td>[]</td>\n",
       "      <td>['Security / Fire Alarm', 'Feng Shui / Vaastu ...</td>\n",
       "      <td>['Green Area4 out of 5', 'Construction5 out of...</td>\n",
       "    </tr>\n",
       "    <tr>\n",
       "      <th>4</th>\n",
       "      <td>3 BHK Flat in Sector 69 Gurgaon</td>\n",
       "      <td>flat</td>\n",
       "      <td>tulip violet</td>\n",
       "      <td>1.65</td>\n",
       "      <td>8872.0</td>\n",
       "      <td>1860.0</td>\n",
       "      <td>Built Up area: 1578 (146.6 sq.m.)</td>\n",
       "      <td>3</td>\n",
       "      <td>3</td>\n",
       "      <td>2</td>\n",
       "      <td>not available</td>\n",
       "      <td>Sector 69 Gurgaon, Gurgaon, Haryana</td>\n",
       "      <td>1.0</td>\n",
       "      <td>NaN</td>\n",
       "      <td>1 to 5 Year Old</td>\n",
       "      <td>['Sri Radhe Krishna Temple', 'Icici bank ATM',...</td>\n",
       "      <td>3 bath, semi-Furnished, 1st floor (Of 18), ove...</td>\n",
       "      <td>['3 Wardrobe', '4 Fan', '1 Exhaust Fan', '2 Ge...</td>\n",
       "      <td>['Security / Fire Alarm', 'Intercom Facility',...</td>\n",
       "      <td>['Environment4 out of 5', 'Lifestyle4 out of 5...</td>\n",
       "    </tr>\n",
       "  </tbody>\n",
       "</table>\n",
       "</div>"
      ],
      "text/plain": [
       "                                       property_name property_type  \\\n",
       "0                    3 BHK Flat in Sector 83 Gurgaon          flat   \n",
       "1  6 Bedroom House for sale in New Palam Vihar Ph...         house   \n",
       "2                   3 BHK Flat in Sector 106 Gurgaon          flat   \n",
       "3                   4 BHK Flat in Sector 102 Gurgaon          flat   \n",
       "4                    3 BHK Flat in Sector 69 Gurgaon          flat   \n",
       "\n",
       "                                society  price  price_per_sqft    area  \\\n",
       "0                        vatika gurgaon   1.25          6313.0  1980.0   \n",
       "1                           independent   2.00         14914.0  1341.0   \n",
       "2                            paras dews   1.17          6647.0  1760.0   \n",
       "3  shapoorji pallonji joyville gurugram   2.40         10545.0  2276.0   \n",
       "4                          tulip violet   1.65          8872.0  1860.0   \n",
       "\n",
       "                                        areaWithType  bedRoom  bathroom  \\\n",
       "0             Super Built up area 1980(183.95 sq.m.)        3         3   \n",
       "1                       Plot area 1341(124.58 sq.m.)        6         4   \n",
       "2  Super Built up area 1760(163.51 sq.m.)Built Up...        3         4   \n",
       "3             Super Built up area 2162(200.86 sq.m.)        4         4   \n",
       "4                  Built Up area: 1578 (146.6 sq.m.)        3         3   \n",
       "\n",
       "  balcony         additionalRoom                                    address  \\\n",
       "0       2           servant room  1024, Sector 83 Gurgaon, Gurgaon, Haryana   \n",
       "1       3  pooja room,study room  New Palam Vihar Phase 1, Gurgaon, Haryana   \n",
       "2      3+           servant room       Sector 106 Gurgaon, Gurgaon, Haryana   \n",
       "3      3+          not available  N/a, Sector 102 Gurgaon, Gurgaon, Haryana   \n",
       "4       2          not available        Sector 69 Gurgaon, Gurgaon, Haryana   \n",
       "\n",
       "   floorNum      facing    agePossession  \\\n",
       "0       2.0        West  1 to 5 Year Old   \n",
       "1       3.0        East  1 to 5 Year Old   \n",
       "2      12.0        West  1 to 5 Year Old   \n",
       "3      15.0  North-East  1 to 5 Year Old   \n",
       "4       1.0         NaN  1 to 5 Year Old   \n",
       "\n",
       "                                     nearbyLocations  \\\n",
       "0  ['Huda Metro Station (Gurugram)', 'Sapphire 83...   \n",
       "1  ['Palam Vihar Vyapar kendra', 'Palam triangle'...   \n",
       "2  ['MG Road Metro Station', 'NeoSquare Shopping ...   \n",
       "3  ['Khan Market', 'The Esplanade Mall', 'Dwarka ...   \n",
       "4  ['Sri Radhe Krishna Temple', 'Icici bank ATM',...   \n",
       "\n",
       "                                         description  \\\n",
       "0  Looking for a 3 bhk property for sale in gurga...   \n",
       "1  East facing 2 fully made floor plus terrace. P...   \n",
       "2  This 3 bhk apartment is available for sale in ...   \n",
       "3  Situated in sector 102 gurgaon, shapoorji pall...   \n",
       "4  3 bath, semi-Furnished, 1st floor (Of 18), ove...   \n",
       "\n",
       "                                      furnishDetails  \\\n",
       "0                                                NaN   \n",
       "1  ['6 Wardrobe', '9 Fan', '1 Exhaust Fan', '2 Ge...   \n",
       "2  ['1 Light', 'No AC', 'No Bed', 'No Chimney', '...   \n",
       "3                                                 []   \n",
       "4  ['3 Wardrobe', '4 Fan', '1 Exhaust Fan', '2 Ge...   \n",
       "\n",
       "                                            features  \\\n",
       "0  ['Security / Fire Alarm', 'Feng Shui / Vaastu ...   \n",
       "1  ['Feng Shui / Vaastu Compliant', 'Private Gard...   \n",
       "2  ['Feng Shui / Vaastu Compliant', 'Security / F...   \n",
       "3  ['Security / Fire Alarm', 'Feng Shui / Vaastu ...   \n",
       "4  ['Security / Fire Alarm', 'Intercom Facility',...   \n",
       "\n",
       "                                              rating  \n",
       "0  ['Green Area5 out of 5', 'Construction4.5 out ...  \n",
       "1                                                NaN  \n",
       "2                                                NaN  \n",
       "3  ['Green Area4 out of 5', 'Construction5 out of...  \n",
       "4  ['Environment4 out of 5', 'Lifestyle4 out of 5...  "
      ]
     },
     "execution_count": 91,
     "metadata": {},
     "output_type": "execute_result"
    }
   ],
   "source": [
    "df.head(5)"
   ]
  },
  {
   "cell_type": "code",
   "execution_count": 92,
   "id": "2f99bf05-cc99-4949-93ac-cad4feee1798",
   "metadata": {
    "tags": []
   },
   "outputs": [],
   "source": [
    "df.to_csv('gurgoan_properties.csv',index=False)"
   ]
  },
  {
   "cell_type": "code",
   "execution_count": null,
   "id": "6a57ee1e-533c-4db8-bb27-3f9f291a3b14",
   "metadata": {},
   "outputs": [],
   "source": []
  }
 ],
 "metadata": {
  "kernelspec": {
   "display_name": "Python 3 (ipykernel)",
   "language": "python",
   "name": "python3"
  },
  "language_info": {
   "codemirror_mode": {
    "name": "ipython",
    "version": 3
   },
   "file_extension": ".py",
   "mimetype": "text/x-python",
   "name": "python",
   "nbconvert_exporter": "python",
   "pygments_lexer": "ipython3",
   "version": "3.11.9"
  }
 },
 "nbformat": 4,
 "nbformat_minor": 5
}
