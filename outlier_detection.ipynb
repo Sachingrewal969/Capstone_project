{
 "cells": [
  {
   "cell_type": "code",
   "execution_count": 235,
   "id": "79317eca-2238-4c2a-bb22-b40c91656ef8",
   "metadata": {},
   "outputs": [],
   "source": [
    "import numpy as np\n",
    "import pandas as pd\n",
    "import matplotlib.pyplot as plt\n",
    "import seaborn as sns"
   ]
  },
  {
   "cell_type": "code",
   "execution_count": 237,
   "id": "f060817e-2704-4a42-97e1-0b20d6bd750f",
   "metadata": {},
   "outputs": [],
   "source": [
    "pd.set_option('display.max_columns',None)"
   ]
  },
  {
   "cell_type": "code",
   "execution_count": 239,
   "id": "79902842-263b-4295-9091-185575ea3fcd",
   "metadata": {},
   "outputs": [],
   "source": [
    "df = pd.read_csv('gurgaon_properties_cleaned_v2.csv').drop_duplicates()"
   ]
  },
  {
   "cell_type": "code",
   "execution_count": 241,
   "id": "d334d4ed-b256-46ca-9230-ab6d11b1f77c",
   "metadata": {},
   "outputs": [
    {
     "data": {
      "text/html": [
       "<div>\n",
       "<style scoped>\n",
       "    .dataframe tbody tr th:only-of-type {\n",
       "        vertical-align: middle;\n",
       "    }\n",
       "\n",
       "    .dataframe tbody tr th {\n",
       "        vertical-align: top;\n",
       "    }\n",
       "\n",
       "    .dataframe thead th {\n",
       "        text-align: right;\n",
       "    }\n",
       "</style>\n",
       "<table border=\"1\" class=\"dataframe\">\n",
       "  <thead>\n",
       "    <tr style=\"text-align: right;\">\n",
       "      <th></th>\n",
       "      <th>property_type</th>\n",
       "      <th>society</th>\n",
       "      <th>sector</th>\n",
       "      <th>price</th>\n",
       "      <th>price_per_sqft</th>\n",
       "      <th>area</th>\n",
       "      <th>areaWithType</th>\n",
       "      <th>bedRoom</th>\n",
       "      <th>bathroom</th>\n",
       "      <th>balcony</th>\n",
       "      <th>floorNum</th>\n",
       "      <th>facing</th>\n",
       "      <th>agePossession</th>\n",
       "      <th>super_built_up_area</th>\n",
       "      <th>built_up_area</th>\n",
       "      <th>carpet_area</th>\n",
       "      <th>study room</th>\n",
       "      <th>servant room</th>\n",
       "      <th>store room</th>\n",
       "      <th>pooja room</th>\n",
       "      <th>others</th>\n",
       "      <th>furnishing_type</th>\n",
       "      <th>luxury_score</th>\n",
       "    </tr>\n",
       "  </thead>\n",
       "  <tbody>\n",
       "    <tr>\n",
       "      <th>0</th>\n",
       "      <td>flat</td>\n",
       "      <td>vatika gurgaon</td>\n",
       "      <td>sector 83</td>\n",
       "      <td>1.25</td>\n",
       "      <td>6313.0</td>\n",
       "      <td>1980.0</td>\n",
       "      <td>Super Built up area 1980(183.95 sq.m.)</td>\n",
       "      <td>3</td>\n",
       "      <td>3</td>\n",
       "      <td>2</td>\n",
       "      <td>2.0</td>\n",
       "      <td>West</td>\n",
       "      <td>Relatively New</td>\n",
       "      <td>1980.0</td>\n",
       "      <td>NaN</td>\n",
       "      <td>NaN</td>\n",
       "      <td>0</td>\n",
       "      <td>1</td>\n",
       "      <td>0</td>\n",
       "      <td>0</td>\n",
       "      <td>0</td>\n",
       "      <td>0</td>\n",
       "      <td>119</td>\n",
       "    </tr>\n",
       "    <tr>\n",
       "      <th>1</th>\n",
       "      <td>flat</td>\n",
       "      <td>paras dews</td>\n",
       "      <td>sector 106</td>\n",
       "      <td>1.17</td>\n",
       "      <td>6647.0</td>\n",
       "      <td>1760.0</td>\n",
       "      <td>Super Built up area 1760(163.51 sq.m.)Built Up...</td>\n",
       "      <td>3</td>\n",
       "      <td>4</td>\n",
       "      <td>3+</td>\n",
       "      <td>12.0</td>\n",
       "      <td>West</td>\n",
       "      <td>Relatively New</td>\n",
       "      <td>1760.0</td>\n",
       "      <td>1186.0</td>\n",
       "      <td>1130.0</td>\n",
       "      <td>0</td>\n",
       "      <td>1</td>\n",
       "      <td>0</td>\n",
       "      <td>0</td>\n",
       "      <td>0</td>\n",
       "      <td>0</td>\n",
       "      <td>49</td>\n",
       "    </tr>\n",
       "    <tr>\n",
       "      <th>2</th>\n",
       "      <td>flat</td>\n",
       "      <td>shapoorji pallonji joyville gurugram</td>\n",
       "      <td>sector 102</td>\n",
       "      <td>2.40</td>\n",
       "      <td>10545.0</td>\n",
       "      <td>2276.0</td>\n",
       "      <td>Super Built up area 2162(200.86 sq.m.)</td>\n",
       "      <td>4</td>\n",
       "      <td>4</td>\n",
       "      <td>3+</td>\n",
       "      <td>15.0</td>\n",
       "      <td>North-East</td>\n",
       "      <td>Relatively New</td>\n",
       "      <td>2162.0</td>\n",
       "      <td>NaN</td>\n",
       "      <td>NaN</td>\n",
       "      <td>0</td>\n",
       "      <td>0</td>\n",
       "      <td>0</td>\n",
       "      <td>0</td>\n",
       "      <td>0</td>\n",
       "      <td>0</td>\n",
       "      <td>108</td>\n",
       "    </tr>\n",
       "    <tr>\n",
       "      <th>3</th>\n",
       "      <td>flat</td>\n",
       "      <td>tulip violet</td>\n",
       "      <td>sector 69</td>\n",
       "      <td>1.65</td>\n",
       "      <td>8872.0</td>\n",
       "      <td>1860.0</td>\n",
       "      <td>Built Up area: 1578 (146.6 sq.m.)</td>\n",
       "      <td>3</td>\n",
       "      <td>3</td>\n",
       "      <td>2</td>\n",
       "      <td>1.0</td>\n",
       "      <td>NaN</td>\n",
       "      <td>Relatively New</td>\n",
       "      <td>NaN</td>\n",
       "      <td>1578.0</td>\n",
       "      <td>NaN</td>\n",
       "      <td>0</td>\n",
       "      <td>0</td>\n",
       "      <td>0</td>\n",
       "      <td>0</td>\n",
       "      <td>0</td>\n",
       "      <td>1</td>\n",
       "      <td>69</td>\n",
       "    </tr>\n",
       "    <tr>\n",
       "      <th>4</th>\n",
       "      <td>flat</td>\n",
       "      <td>satya the hermitage</td>\n",
       "      <td>sector 103</td>\n",
       "      <td>0.89</td>\n",
       "      <td>6137.0</td>\n",
       "      <td>1450.0</td>\n",
       "      <td>Super Built up area 1450(134.71 sq.m.)Carpet a...</td>\n",
       "      <td>2</td>\n",
       "      <td>3</td>\n",
       "      <td>3</td>\n",
       "      <td>1.0</td>\n",
       "      <td>NaN</td>\n",
       "      <td>Relatively New</td>\n",
       "      <td>1450.0</td>\n",
       "      <td>NaN</td>\n",
       "      <td>1081.0</td>\n",
       "      <td>0</td>\n",
       "      <td>1</td>\n",
       "      <td>0</td>\n",
       "      <td>0</td>\n",
       "      <td>0</td>\n",
       "      <td>0</td>\n",
       "      <td>75</td>\n",
       "    </tr>\n",
       "  </tbody>\n",
       "</table>\n",
       "</div>"
      ],
      "text/plain": [
       "  property_type                               society      sector  price  \\\n",
       "0          flat                        vatika gurgaon   sector 83   1.25   \n",
       "1          flat                            paras dews  sector 106   1.17   \n",
       "2          flat  shapoorji pallonji joyville gurugram  sector 102   2.40   \n",
       "3          flat                          tulip violet   sector 69   1.65   \n",
       "4          flat                   satya the hermitage  sector 103   0.89   \n",
       "\n",
       "   price_per_sqft    area                                       areaWithType  \\\n",
       "0          6313.0  1980.0             Super Built up area 1980(183.95 sq.m.)   \n",
       "1          6647.0  1760.0  Super Built up area 1760(163.51 sq.m.)Built Up...   \n",
       "2         10545.0  2276.0             Super Built up area 2162(200.86 sq.m.)   \n",
       "3          8872.0  1860.0                  Built Up area: 1578 (146.6 sq.m.)   \n",
       "4          6137.0  1450.0  Super Built up area 1450(134.71 sq.m.)Carpet a...   \n",
       "\n",
       "   bedRoom  bathroom balcony  floorNum      facing   agePossession  \\\n",
       "0        3         3       2       2.0        West  Relatively New   \n",
       "1        3         4      3+      12.0        West  Relatively New   \n",
       "2        4         4      3+      15.0  North-East  Relatively New   \n",
       "3        3         3       2       1.0         NaN  Relatively New   \n",
       "4        2         3       3       1.0         NaN  Relatively New   \n",
       "\n",
       "   super_built_up_area  built_up_area  carpet_area  study room  servant room  \\\n",
       "0               1980.0            NaN          NaN           0             1   \n",
       "1               1760.0         1186.0       1130.0           0             1   \n",
       "2               2162.0            NaN          NaN           0             0   \n",
       "3                  NaN         1578.0          NaN           0             0   \n",
       "4               1450.0            NaN       1081.0           0             1   \n",
       "\n",
       "   store room  pooja room  others  furnishing_type  luxury_score  \n",
       "0           0           0       0                0           119  \n",
       "1           0           0       0                0            49  \n",
       "2           0           0       0                0           108  \n",
       "3           0           0       0                1            69  \n",
       "4           0           0       0                0            75  "
      ]
     },
     "execution_count": 241,
     "metadata": {},
     "output_type": "execute_result"
    }
   ],
   "source": [
    "df.head()"
   ]
  },
  {
   "cell_type": "code",
   "execution_count": 243,
   "id": "29a695df-51ee-49b7-aceb-9b9e01caf01c",
   "metadata": {},
   "outputs": [
    {
     "data": {
      "text/plain": [
       "(3678, 23)"
      ]
     },
     "execution_count": 243,
     "metadata": {},
     "output_type": "execute_result"
    }
   ],
   "source": [
    "df.shape"
   ]
  },
  {
   "cell_type": "code",
   "execution_count": 245,
   "id": "11765ad0-a80b-41dd-9c6f-2b892567a07f",
   "metadata": {},
   "outputs": [
    {
     "data": {
      "text/plain": [
       "Index(['property_type', 'society', 'sector', 'price', 'price_per_sqft', 'area',\n",
       "       'areaWithType', 'bedRoom', 'bathroom', 'balcony', 'floorNum', 'facing',\n",
       "       'agePossession', 'super_built_up_area', 'built_up_area', 'carpet_area',\n",
       "       'study room', 'servant room', 'store room', 'pooja room', 'others',\n",
       "       'furnishing_type', 'luxury_score'],\n",
       "      dtype='object')"
      ]
     },
     "execution_count": 245,
     "metadata": {},
     "output_type": "execute_result"
    }
   ],
   "source": [
    "df.columns"
   ]
  },
  {
   "cell_type": "code",
   "execution_count": 247,
   "id": "e33eb40a-14c7-4878-90d8-7a7b0187ac90",
   "metadata": {},
   "outputs": [
    {
     "name": "stderr",
     "output_type": "stream",
     "text": [
      "C:\\Users\\acer\\AppData\\Local\\Temp\\ipykernel_3008\\906300931.py:2: UserWarning: \n",
      "\n",
      "`distplot` is a deprecated function and will be removed in seaborn v0.14.0.\n",
      "\n",
      "Please adapt your code to use either `displot` (a figure-level function with\n",
      "similar flexibility) or `histplot` (an axes-level function for histograms).\n",
      "\n",
      "For a guide to updating your code to use the new functions, please see\n",
      "https://gist.github.com/mwaskom/de44147ed2974457ad6372750bbe5751\n",
      "\n",
      "  sns.distplot(df['price'])\n"
     ]
    },
    {
     "data": {
      "text/plain": [
       "<Axes: xlabel='price', ylabel='Density'>"
      ]
     },
     "execution_count": 247,
     "metadata": {},
     "output_type": "execute_result"
    },
    {
     "data": {
      "image/png": "[encoded data removed]",
      "text/plain": [
       "<Figure size 640x480 with 1 Axes>"
      ]
     },
     "metadata": {},
     "output_type": "display_data"
    }
   ],
   "source": [
    "# outlier on the basis of price columns\n",
    "sns.distplot(df['price'])"
   ]
  },
  {
   "cell_type": "code",
   "execution_count": 249,
   "id": "d5ed2cef-f789-4a65-906d-731d7b50a158",
   "metadata": {},
   "outputs": [
    {
     "data": {
      "text/plain": [
       "<Axes: xlabel='price'>"
      ]
     },
     "execution_count": 249,
     "metadata": {},
     "output_type": "execute_result"
    },
    {
     "data": {
      "image/png": "[encoded data removed]",
      "text/plain": [
       "<Figure size 640x480 with 1 Axes>"
      ]
     },
     "metadata": {},
     "output_type": "display_data"
    }
   ],
   "source": [
    "sns.boxplot(x = df['price'])"
   ]
  },
  {
   "cell_type": "code",
   "execution_count": 251,
   "id": "324ece88-7a29-42c4-8c7e-b55c5e66542b",
   "metadata": {},
   "outputs": [
    {
     "data": {
      "text/plain": [
       "(425,\n",
       " count    425.000000\n",
       " mean       9.235624\n",
       " std        4.065259\n",
       " min        5.460000\n",
       " 25%        6.460000\n",
       " 50%        8.000000\n",
       " 75%       10.750000\n",
       " max       31.500000\n",
       " Name: price, dtype: float64)"
      ]
     },
     "execution_count": 251,
     "metadata": {},
     "output_type": "execute_result"
    }
   ],
   "source": [
    "# Calculate the IQR for the 'price' column\n",
    "Q1 = df['price'].quantile(0.25)\n",
    "Q3 = df['price'].quantile(0.75)\n",
    "IQR = Q3 - Q1\n",
    "\n",
    "# Define bounds for outliers\n",
    "lower_bound = Q1 - 1.5 * IQR\n",
    "upper_bound = Q3 + 1.5 * IQR\n",
    "\n",
    "# Identify outliers\n",
    "outliers = df[(df['price'] < lower_bound) | (df['price'] > upper_bound)]\n",
    "\n",
    "# Displaying the number of outliers and some statistics\n",
    "num_outliers = outliers.shape[0]\n",
    "outliers_price_stats = outliers['price'].describe()\n",
    "\n",
    "num_outliers, outliers_price_stats"
   ]
  },
  {
   "cell_type": "code",
   "execution_count": 253,
   "id": "8dc5a0cf-3d1c-4490-ad11-882a4018c41c",
   "metadata": {},
   "outputs": [
    {
     "data": {
      "text/html": [
       "<div>\n",
       "<style scoped>\n",
       "    .dataframe tbody tr th:only-of-type {\n",
       "        vertical-align: middle;\n",
       "    }\n",
       "\n",
       "    .dataframe tbody tr th {\n",
       "        vertical-align: top;\n",
       "    }\n",
       "\n",
       "    .dataframe thead th {\n",
       "        text-align: right;\n",
       "    }\n",
       "</style>\n",
       "<table border=\"1\" class=\"dataframe\">\n",
       "  <thead>\n",
       "    <tr style=\"text-align: right;\">\n",
       "      <th></th>\n",
       "      <th>property_type</th>\n",
       "      <th>society</th>\n",
       "      <th>sector</th>\n",
       "      <th>price</th>\n",
       "      <th>price_per_sqft</th>\n",
       "      <th>area</th>\n",
       "      <th>areaWithType</th>\n",
       "      <th>bedRoom</th>\n",
       "      <th>bathroom</th>\n",
       "      <th>balcony</th>\n",
       "      <th>floorNum</th>\n",
       "      <th>facing</th>\n",
       "      <th>agePossession</th>\n",
       "      <th>super_built_up_area</th>\n",
       "      <th>built_up_area</th>\n",
       "      <th>carpet_area</th>\n",
       "      <th>study room</th>\n",
       "      <th>servant room</th>\n",
       "      <th>store room</th>\n",
       "      <th>pooja room</th>\n",
       "      <th>others</th>\n",
       "      <th>furnishing_type</th>\n",
       "      <th>luxury_score</th>\n",
       "    </tr>\n",
       "  </thead>\n",
       "  <tbody>\n",
       "    <tr>\n",
       "      <th>2618</th>\n",
       "      <td>house</td>\n",
       "      <td>arjun marg/ sector- 26 phase- 1/ golf course road</td>\n",
       "      <td>sector 26</td>\n",
       "      <td>31.5</td>\n",
       "      <td>35000.0</td>\n",
       "      <td>9000.0</td>\n",
       "      <td>Plot area 1000(836.13 sq.m.)</td>\n",
       "      <td>7</td>\n",
       "      <td>9</td>\n",
       "      <td>3+</td>\n",
       "      <td>3.0</td>\n",
       "      <td>North-East</td>\n",
       "      <td>Moderately Old</td>\n",
       "      <td>NaN</td>\n",
       "      <td>9000.0</td>\n",
       "      <td>NaN</td>\n",
       "      <td>1</td>\n",
       "      <td>1</td>\n",
       "      <td>1</td>\n",
       "      <td>1</td>\n",
       "      <td>0</td>\n",
       "      <td>2</td>\n",
       "      <td>74</td>\n",
       "    </tr>\n",
       "    <tr>\n",
       "      <th>859</th>\n",
       "      <td>house</td>\n",
       "      <td>independent</td>\n",
       "      <td>sector 43</td>\n",
       "      <td>27.5</td>\n",
       "      <td>24366.0</td>\n",
       "      <td>11286.0</td>\n",
       "      <td>Plot area 1254(1048.5 sq.m.)</td>\n",
       "      <td>6</td>\n",
       "      <td>7</td>\n",
       "      <td>3+</td>\n",
       "      <td>3.0</td>\n",
       "      <td>North-East</td>\n",
       "      <td>Relatively New</td>\n",
       "      <td>NaN</td>\n",
       "      <td>11286.0</td>\n",
       "      <td>NaN</td>\n",
       "      <td>1</td>\n",
       "      <td>1</td>\n",
       "      <td>0</td>\n",
       "      <td>1</td>\n",
       "      <td>1</td>\n",
       "      <td>1</td>\n",
       "      <td>42</td>\n",
       "    </tr>\n",
       "    <tr>\n",
       "      <th>1660</th>\n",
       "      <td>house</td>\n",
       "      <td>independent</td>\n",
       "      <td>sector 26</td>\n",
       "      <td>26.0</td>\n",
       "      <td>82540.0</td>\n",
       "      <td>3150.0</td>\n",
       "      <td>Plot area 402(336.12 sq.m.)Built Up area: 400 ...</td>\n",
       "      <td>16</td>\n",
       "      <td>16</td>\n",
       "      <td>3+</td>\n",
       "      <td>4.0</td>\n",
       "      <td>North-West</td>\n",
       "      <td>New Property</td>\n",
       "      <td>NaN</td>\n",
       "      <td>400.0</td>\n",
       "      <td>350.0</td>\n",
       "      <td>1</td>\n",
       "      <td>1</td>\n",
       "      <td>1</td>\n",
       "      <td>1</td>\n",
       "      <td>0</td>\n",
       "      <td>2</td>\n",
       "      <td>72</td>\n",
       "    </tr>\n",
       "    <tr>\n",
       "      <th>3208</th>\n",
       "      <td>house</td>\n",
       "      <td>dlf city plots</td>\n",
       "      <td>sector 26</td>\n",
       "      <td>26.0</td>\n",
       "      <td>57206.0</td>\n",
       "      <td>4545.0</td>\n",
       "      <td>Plot area 505(422.24 sq.m.)</td>\n",
       "      <td>6</td>\n",
       "      <td>7</td>\n",
       "      <td>3+</td>\n",
       "      <td>2.0</td>\n",
       "      <td>North-East</td>\n",
       "      <td>New Property</td>\n",
       "      <td>NaN</td>\n",
       "      <td>4545.0</td>\n",
       "      <td>NaN</td>\n",
       "      <td>1</td>\n",
       "      <td>1</td>\n",
       "      <td>0</td>\n",
       "      <td>1</td>\n",
       "      <td>1</td>\n",
       "      <td>1</td>\n",
       "      <td>138</td>\n",
       "    </tr>\n",
       "    <tr>\n",
       "      <th>1096</th>\n",
       "      <td>house</td>\n",
       "      <td>suncity township</td>\n",
       "      <td>sector 54</td>\n",
       "      <td>25.0</td>\n",
       "      <td>31111.0</td>\n",
       "      <td>8036.0</td>\n",
       "      <td>Plot area 1000(836.13 sq.m.)</td>\n",
       "      <td>4</td>\n",
       "      <td>4</td>\n",
       "      <td>3+</td>\n",
       "      <td>2.0</td>\n",
       "      <td>North</td>\n",
       "      <td>Moderately Old</td>\n",
       "      <td>NaN</td>\n",
       "      <td>1000.0</td>\n",
       "      <td>NaN</td>\n",
       "      <td>1</td>\n",
       "      <td>1</td>\n",
       "      <td>1</td>\n",
       "      <td>1</td>\n",
       "      <td>0</td>\n",
       "      <td>0</td>\n",
       "      <td>0</td>\n",
       "    </tr>\n",
       "    <tr>\n",
       "      <th>1030</th>\n",
       "      <td>house</td>\n",
       "      <td>emaar the palm springs</td>\n",
       "      <td>sector 54</td>\n",
       "      <td>24.0</td>\n",
       "      <td>600000.0</td>\n",
       "      <td>400.0</td>\n",
       "      <td>Plot area 400(37.16 sq.m.)</td>\n",
       "      <td>5</td>\n",
       "      <td>5</td>\n",
       "      <td>2</td>\n",
       "      <td>1.0</td>\n",
       "      <td>North-East</td>\n",
       "      <td>Old Property</td>\n",
       "      <td>NaN</td>\n",
       "      <td>400.0</td>\n",
       "      <td>NaN</td>\n",
       "      <td>1</td>\n",
       "      <td>1</td>\n",
       "      <td>0</td>\n",
       "      <td>1</td>\n",
       "      <td>0</td>\n",
       "      <td>1</td>\n",
       "      <td>122</td>\n",
       "    </tr>\n",
       "    <tr>\n",
       "      <th>1508</th>\n",
       "      <td>house</td>\n",
       "      <td>independent</td>\n",
       "      <td>sector 26</td>\n",
       "      <td>23.0</td>\n",
       "      <td>25556.0</td>\n",
       "      <td>9000.0</td>\n",
       "      <td>Plot area 1000(836.13 sq.m.)</td>\n",
       "      <td>4</td>\n",
       "      <td>4</td>\n",
       "      <td>3+</td>\n",
       "      <td>2.0</td>\n",
       "      <td>South-West</td>\n",
       "      <td>Relatively New</td>\n",
       "      <td>NaN</td>\n",
       "      <td>9000.0</td>\n",
       "      <td>NaN</td>\n",
       "      <td>1</td>\n",
       "      <td>1</td>\n",
       "      <td>1</td>\n",
       "      <td>1</td>\n",
       "      <td>0</td>\n",
       "      <td>1</td>\n",
       "      <td>145</td>\n",
       "    </tr>\n",
       "    <tr>\n",
       "      <th>1237</th>\n",
       "      <td>house</td>\n",
       "      <td>vipul tatvam villa</td>\n",
       "      <td>sector 48</td>\n",
       "      <td>22.0</td>\n",
       "      <td>26667.0</td>\n",
       "      <td>8250.0</td>\n",
       "      <td>Plot area 1000(836.13 sq.m.)</td>\n",
       "      <td>5</td>\n",
       "      <td>6</td>\n",
       "      <td>3</td>\n",
       "      <td>3.0</td>\n",
       "      <td>NaN</td>\n",
       "      <td>Moderately Old</td>\n",
       "      <td>NaN</td>\n",
       "      <td>1000.0</td>\n",
       "      <td>NaN</td>\n",
       "      <td>0</td>\n",
       "      <td>1</td>\n",
       "      <td>0</td>\n",
       "      <td>0</td>\n",
       "      <td>0</td>\n",
       "      <td>0</td>\n",
       "      <td>54</td>\n",
       "    </tr>\n",
       "    <tr>\n",
       "      <th>3007</th>\n",
       "      <td>house</td>\n",
       "      <td>luxury dlf city floors</td>\n",
       "      <td>sector 26</td>\n",
       "      <td>20.0</td>\n",
       "      <td>48889.0</td>\n",
       "      <td>4091.0</td>\n",
       "      <td>Plot area 500(418.06 sq.m.)</td>\n",
       "      <td>16</td>\n",
       "      <td>16</td>\n",
       "      <td>3+</td>\n",
       "      <td>4.0</td>\n",
       "      <td>NaN</td>\n",
       "      <td>New Property</td>\n",
       "      <td>NaN</td>\n",
       "      <td>500.0</td>\n",
       "      <td>NaN</td>\n",
       "      <td>0</td>\n",
       "      <td>1</td>\n",
       "      <td>0</td>\n",
       "      <td>0</td>\n",
       "      <td>0</td>\n",
       "      <td>1</td>\n",
       "      <td>31</td>\n",
       "    </tr>\n",
       "    <tr>\n",
       "      <th>1868</th>\n",
       "      <td>house</td>\n",
       "      <td>dlf city plots</td>\n",
       "      <td>sector 26</td>\n",
       "      <td>20.0</td>\n",
       "      <td>44265.0</td>\n",
       "      <td>4518.0</td>\n",
       "      <td>Plot area 502(419.74 sq.m.)</td>\n",
       "      <td>16</td>\n",
       "      <td>20</td>\n",
       "      <td>3+</td>\n",
       "      <td>4.0</td>\n",
       "      <td>North-East</td>\n",
       "      <td>New Property</td>\n",
       "      <td>NaN</td>\n",
       "      <td>4518.0</td>\n",
       "      <td>NaN</td>\n",
       "      <td>1</td>\n",
       "      <td>1</td>\n",
       "      <td>1</td>\n",
       "      <td>1</td>\n",
       "      <td>0</td>\n",
       "      <td>1</td>\n",
       "      <td>153</td>\n",
       "    </tr>\n",
       "  </tbody>\n",
       "</table>\n",
       "</div>"
      ],
      "text/plain": [
       "     property_type                                            society  \\\n",
       "2618         house  arjun marg/ sector- 26 phase- 1/ golf course road   \n",
       "859          house                                        independent   \n",
       "1660         house                                        independent   \n",
       "3208         house                                     dlf city plots   \n",
       "1096         house                                   suncity township   \n",
       "1030         house                             emaar the palm springs   \n",
       "1508         house                                        independent   \n",
       "1237         house                                 vipul tatvam villa   \n",
       "3007         house                             luxury dlf city floors   \n",
       "1868         house                                     dlf city plots   \n",
       "\n",
       "         sector  price  price_per_sqft     area  \\\n",
       "2618  sector 26   31.5         35000.0   9000.0   \n",
       "859   sector 43   27.5         24366.0  11286.0   \n",
       "1660  sector 26   26.0         82540.0   3150.0   \n",
       "3208  sector 26   26.0         57206.0   4545.0   \n",
       "1096  sector 54   25.0         31111.0   8036.0   \n",
       "1030  sector 54   24.0        600000.0    400.0   \n",
       "1508  sector 26   23.0         25556.0   9000.0   \n",
       "1237  sector 48   22.0         26667.0   8250.0   \n",
       "3007  sector 26   20.0         48889.0   4091.0   \n",
       "1868  sector 26   20.0         44265.0   4518.0   \n",
       "\n",
       "                                           areaWithType  bedRoom  bathroom  \\\n",
       "2618                       Plot area 1000(836.13 sq.m.)        7         9   \n",
       "859                        Plot area 1254(1048.5 sq.m.)        6         7   \n",
       "1660  Plot area 402(336.12 sq.m.)Built Up area: 400 ...       16        16   \n",
       "3208                        Plot area 505(422.24 sq.m.)        6         7   \n",
       "1096                       Plot area 1000(836.13 sq.m.)        4         4   \n",
       "1030                         Plot area 400(37.16 sq.m.)        5         5   \n",
       "1508                       Plot area 1000(836.13 sq.m.)        4         4   \n",
       "1237                       Plot area 1000(836.13 sq.m.)        5         6   \n",
       "3007                        Plot area 500(418.06 sq.m.)       16        16   \n",
       "1868                        Plot area 502(419.74 sq.m.)       16        20   \n",
       "\n",
       "     balcony  floorNum      facing   agePossession  super_built_up_area  \\\n",
       "2618      3+       3.0  North-East  Moderately Old                  NaN   \n",
       "859       3+       3.0  North-East  Relatively New                  NaN   \n",
       "1660      3+       4.0  North-West    New Property                  NaN   \n",
       "3208      3+       2.0  North-East    New Property                  NaN   \n",
       "1096      3+       2.0       North  Moderately Old                  NaN   \n",
       "1030       2       1.0  North-East    Old Property                  NaN   \n",
       "1508      3+       2.0  South-West  Relatively New                  NaN   \n",
       "1237       3       3.0         NaN  Moderately Old                  NaN   \n",
       "3007      3+       4.0         NaN    New Property                  NaN   \n",
       "1868      3+       4.0  North-East    New Property                  NaN   \n",
       "\n",
       "      built_up_area  carpet_area  study room  servant room  store room  \\\n",
       "2618         9000.0          NaN           1             1           1   \n",
       "859         11286.0          NaN           1             1           0   \n",
       "1660          400.0        350.0           1             1           1   \n",
       "3208         4545.0          NaN           1             1           0   \n",
       "1096         1000.0          NaN           1             1           1   \n",
       "1030          400.0          NaN           1             1           0   \n",
       "1508         9000.0          NaN           1             1           1   \n",
       "1237         1000.0          NaN           0             1           0   \n",
       "3007          500.0          NaN           0             1           0   \n",
       "1868         4518.0          NaN           1             1           1   \n",
       "\n",
       "      pooja room  others  furnishing_type  luxury_score  \n",
       "2618           1       0                2            74  \n",
       "859            1       1                1            42  \n",
       "1660           1       0                2            72  \n",
       "3208           1       1                1           138  \n",
       "1096           1       0                0             0  \n",
       "1030           1       0                1           122  \n",
       "1508           1       0                1           145  \n",
       "1237           0       0                0            54  \n",
       "3007           0       0                1            31  \n",
       "1868           1       0                1           153  "
      ]
     },
     "execution_count": 253,
     "metadata": {},
     "output_type": "execute_result"
    }
   ],
   "source": [
    "outliers.sort_values('price',ascending=False).head(10)"
   ]
  },
  {
   "cell_type": "code",
   "execution_count": 255,
   "id": "a9c360ba-5cb7-4ecb-aaf7-50e513182b93",
   "metadata": {},
   "outputs": [],
   "source": [
    "# on the basis of price col we can say that there are some genuine outliers but there are some data erros as well"
   ]
  },
  {
   "cell_type": "markdown",
   "id": "81fe5508-e50a-4857-b3fb-5cc38d005433",
   "metadata": {},
   "source": [
    "# Price_per_sqrt"
   ]
  },
  {
   "cell_type": "code",
   "execution_count": 258,
   "id": "0389e0c6-a852-448c-82c0-b6cf5aed2764",
   "metadata": {},
   "outputs": [
    {
     "name": "stderr",
     "output_type": "stream",
     "text": [
      "C:\\Users\\acer\\AppData\\Local\\Temp\\ipykernel_3008\\2186227091.py:1: UserWarning: \n",
      "\n",
      "`distplot` is a deprecated function and will be removed in seaborn v0.14.0.\n",
      "\n",
      "Please adapt your code to use either `displot` (a figure-level function with\n",
      "similar flexibility) or `histplot` (an axes-level function for histograms).\n",
      "\n",
      "For a guide to updating your code to use the new functions, please see\n",
      "https://gist.github.com/mwaskom/de44147ed2974457ad6372750bbe5751\n",
      "\n",
      "  sns.distplot(df['price_per_sqft'])\n"
     ]
    },
    {
     "data": {
      "text/plain": [
       "<Axes: xlabel='price_per_sqft', ylabel='Density'>"
      ]
     },
     "execution_count": 258,
     "metadata": {},
     "output_type": "execute_result"
    },
    {
     "data": {
      "image/png": "[encoded data removed]",
      "text/plain": [
       "<Figure size 640x480 with 1 Axes>"
      ]
     },
     "metadata": {},
     "output_type": "display_data"
    }
   ],
   "source": [
    "sns.distplot(df['price_per_sqft'])"
   ]
  },
  {
   "cell_type": "code",
   "execution_count": 260,
   "id": "430d052e-492f-4294-b19e-13037ef11342",
   "metadata": {},
   "outputs": [
    {
     "data": {
      "text/plain": [
       "<Axes: xlabel='price_per_sqft'>"
      ]
     },
     "execution_count": 260,
     "metadata": {},
     "output_type": "execute_result"
    },
    {
     "data": {
      "image/png": "[encoded data removed]",
      "text/plain": [
       "<Figure size 640x480 with 1 Axes>"
      ]
     },
     "metadata": {},
     "output_type": "display_data"
    }
   ],
   "source": [
    "sns.boxplot(x = df['price_per_sqft'])"
   ]
  },
  {
   "cell_type": "code",
   "execution_count": 262,
   "id": "4da1fd6f-48fd-40b8-b190-380f01612225",
   "metadata": {},
   "outputs": [
    {
     "data": {
      "text/plain": [
       "(354,\n",
       " count       354.000000\n",
       " mean      52592.612994\n",
       " std       61150.458507\n",
       " min       24489.000000\n",
       " 25%       28208.250000\n",
       " 50%       33368.500000\n",
       " 75%       41982.250000\n",
       " max      600000.000000\n",
       " Name: price_per_sqft, dtype: float64)"
      ]
     },
     "execution_count": 262,
     "metadata": {},
     "output_type": "execute_result"
    }
   ],
   "source": [
    "# Calculate the IQR for the 'price' column\n",
    "Q1 = df['price_per_sqft'].quantile(0.25)\n",
    "Q3 = df['price_per_sqft'].quantile(0.75)\n",
    "IQR = Q3 - Q1\n",
    "\n",
    "# Define bounds for outliers\n",
    "lower_bound = Q1 - 1.5 * IQR\n",
    "upper_bound = Q3 + 1.5 * IQR\n",
    "\n",
    "# Identify outliers\n",
    "outliers_sqft = df[(df['price_per_sqft'] < lower_bound) | (df['price_per_sqft'] > upper_bound)]\n",
    "\n",
    "# Displaying the number of outliers and some statistics\n",
    "num_outliers = outliers_sqft.shape[0]\n",
    "outliers_sqft_stats = outliers_sqft['price_per_sqft'].describe()\n",
    "\n",
    "num_outliers, outliers_sqft_stats"
   ]
  },
  {
   "cell_type": "code",
   "execution_count": 264,
   "id": "cd02c187-47db-41db-bcb2-6f3b6e521192",
   "metadata": {},
   "outputs": [
    {
     "name": "stderr",
     "output_type": "stream",
     "text": [
      "C:\\Users\\acer\\AppData\\Local\\Temp\\ipykernel_3008\\2889327692.py:1: SettingWithCopyWarning: \n",
      "A value is trying to be set on a copy of a slice from a DataFrame.\n",
      "Try using .loc[row_indexer,col_indexer] = value instead\n",
      "\n",
      "See the caveats in the documentation: https://pandas.pydata.org/pandas-docs/stable/user_guide/indexing.html#returning-a-view-versus-a-copy\n",
      "  outliers_sqft['area'] = outliers_sqft['area'].apply(lambda x: x*9 if x<1000 else x)\n"
     ]
    }
   ],
   "source": [
    "outliers_sqft['area'] = outliers_sqft['area'].apply(lambda x: x*9 if x<1000 else x)"
   ]
  },
  {
   "cell_type": "code",
   "execution_count": 266,
   "id": "ca9ecc44-1451-4181-9f2d-72efa51ccdfd",
   "metadata": {},
   "outputs": [
    {
     "name": "stderr",
     "output_type": "stream",
     "text": [
      "C:\\Users\\acer\\AppData\\Local\\Temp\\ipykernel_3008\\3686006548.py:1: SettingWithCopyWarning: \n",
      "A value is trying to be set on a copy of a slice from a DataFrame.\n",
      "Try using .loc[row_indexer,col_indexer] = value instead\n",
      "\n",
      "See the caveats in the documentation: https://pandas.pydata.org/pandas-docs/stable/user_guide/indexing.html#returning-a-view-versus-a-copy\n",
      "  outliers_sqft['price_per_sqft'] = round((outliers_sqft['price']*10000000)/outliers_sqft['area'])\n"
     ]
    }
   ],
   "source": [
    "outliers_sqft['price_per_sqft'] = round((outliers_sqft['price']*10000000)/outliers_sqft['area'])"
   ]
  },
  {
   "cell_type": "code",
   "execution_count": 268,
   "id": "6108c2e2-d1ed-4b5b-ae67-7d75eba606a5",
   "metadata": {},
   "outputs": [
    {
     "data": {
      "text/plain": [
       "count      354.000000\n",
       "mean     29357.906780\n",
       "std      12403.077309\n",
       "min       2723.000000\n",
       "25%      25562.000000\n",
       "50%      29870.500000\n",
       "75%      35549.500000\n",
       "max      82540.000000\n",
       "Name: price_per_sqft, dtype: float64"
      ]
     },
     "execution_count": 268,
     "metadata": {},
     "output_type": "execute_result"
    }
   ],
   "source": [
    "outliers_sqft['price_per_sqft'].describe()"
   ]
  },
  {
   "cell_type": "code",
   "execution_count": 270,
   "id": "ffc66c20-fdc7-448f-afdf-c960765d3375",
   "metadata": {},
   "outputs": [],
   "source": [
    "df.update(outliers_sqft)"
   ]
  },
  {
   "cell_type": "code",
   "execution_count": 272,
   "id": "80c8ca71-426f-4466-bdf6-c8624cc3fbbc",
   "metadata": {},
   "outputs": [
    {
     "name": "stderr",
     "output_type": "stream",
     "text": [
      "C:\\Users\\acer\\AppData\\Local\\Temp\\ipykernel_3008\\2186227091.py:1: UserWarning: \n",
      "\n",
      "`distplot` is a deprecated function and will be removed in seaborn v0.14.0.\n",
      "\n",
      "Please adapt your code to use either `displot` (a figure-level function with\n",
      "similar flexibility) or `histplot` (an axes-level function for histograms).\n",
      "\n",
      "For a guide to updating your code to use the new functions, please see\n",
      "https://gist.github.com/mwaskom/de44147ed2974457ad6372750bbe5751\n",
      "\n",
      "  sns.distplot(df['price_per_sqft'])\n"
     ]
    },
    {
     "data": {
      "text/plain": [
       "<Axes: xlabel='price_per_sqft', ylabel='Density'>"
      ]
     },
     "execution_count": 272,
     "metadata": {},
     "output_type": "execute_result"
    },
    {
     "data": {
      "image/png": "[encoded data removed]",
      "text/plain": [
       "<Figure size 640x480 with 1 Axes>"
      ]
     },
     "metadata": {},
     "output_type": "display_data"
    }
   ],
   "source": [
    "sns.distplot(df['price_per_sqft'])"
   ]
  },
  {
   "cell_type": "code",
   "execution_count": 274,
   "id": "36b1ffc6-06b3-46df-969c-e0320f8e3e42",
   "metadata": {},
   "outputs": [
    {
     "data": {
      "text/plain": [
       "<Axes: xlabel='price_per_sqft'>"
      ]
     },
     "execution_count": 274,
     "metadata": {},
     "output_type": "execute_result"
    },
    {
     "data": {
      "image/png": "[encoded data removed]",
      "text/plain": [
       "<Figure size 640x480 with 1 Axes>"
      ]
     },
     "metadata": {},
     "output_type": "display_data"
    }
   ],
   "source": [
    "sns.boxplot(x = df['price_per_sqft'])"
   ]
  },
  {
   "cell_type": "code",
   "execution_count": 276,
   "id": "097e96e5-334d-4065-82e0-4467a6810501",
   "metadata": {},
   "outputs": [
    {
     "data": {
      "text/plain": [
       "(13, 23)"
      ]
     },
     "execution_count": 276,
     "metadata": {},
     "output_type": "execute_result"
    }
   ],
   "source": [
    "df[df['price_per_sqft']>50000].shape"
   ]
  },
  {
   "cell_type": "code",
   "execution_count": 278,
   "id": "680ccc0c-355a-4a99-b24f-79c765511114",
   "metadata": {},
   "outputs": [],
   "source": [
    "df = df[df['price_per_sqft'] <= 50000]"
   ]
  },
  {
   "cell_type": "code",
   "execution_count": 280,
   "id": "83d959d7-bf22-4c8a-a976-c7fe094aa5f0",
   "metadata": {},
   "outputs": [
    {
     "data": {
      "text/plain": [
       "<Axes: xlabel='price_per_sqft'>"
      ]
     },
     "execution_count": 280,
     "metadata": {},
     "output_type": "execute_result"
    },
    {
     "data": {
      "image/png": "[encoded data removed]",
      "text/plain": [
       "<Figure size 640x480 with 1 Axes>"
      ]
     },
     "metadata": {},
     "output_type": "display_data"
    }
   ],
   "source": [
    "sns.boxplot(x=df['price_per_sqft'])"
   ]
  },
  {
   "cell_type": "markdown",
   "id": "e6d714f1-d685-4431-8c51-35b3bdfc93b1",
   "metadata": {},
   "source": [
    "# Area"
   ]
  },
  {
   "cell_type": "code",
   "execution_count": 283,
   "id": "424f02e2-ca78-4f32-921a-b6376ed8b5a1",
   "metadata": {},
   "outputs": [
    {
     "name": "stderr",
     "output_type": "stream",
     "text": [
      "C:\\Users\\acer\\AppData\\Local\\Temp\\ipykernel_3008\\91062565.py:1: UserWarning: \n",
      "\n",
      "`distplot` is a deprecated function and will be removed in seaborn v0.14.0.\n",
      "\n",
      "Please adapt your code to use either `displot` (a figure-level function with\n",
      "similar flexibility) or `histplot` (an axes-level function for histograms).\n",
      "\n",
      "For a guide to updating your code to use the new functions, please see\n",
      "https://gist.github.com/mwaskom/de44147ed2974457ad6372750bbe5751\n",
      "\n",
      "  sns.distplot(df['area'])\n"
     ]
    },
    {
     "data": {
      "text/plain": [
       "<Axes: xlabel='area', ylabel='Density'>"
      ]
     },
     "execution_count": 283,
     "metadata": {},
     "output_type": "execute_result"
    },
    {
     "data": {
      "image/png": "[encoded data removed]",
      "text/plain": [
       "<Figure size 640x480 with 1 Axes>"
      ]
     },
     "metadata": {},
     "output_type": "display_data"
    }
   ],
   "source": [
    "sns.distplot(df['area'])"
   ]
  },
  {
   "cell_type": "code",
   "execution_count": 285,
   "id": "d6424649-4345-46bd-b61a-f503bb28c30e",
   "metadata": {},
   "outputs": [
    {
     "data": {
      "text/plain": [
       "<Axes: xlabel='area'>"
      ]
     },
     "execution_count": 285,
     "metadata": {},
     "output_type": "execute_result"
    },
    {
     "data": {
      "image/png": "[encoded data removed]",
      "text/plain": [
       "<Figure size 640x480 with 1 Axes>"
      ]
     },
     "metadata": {},
     "output_type": "display_data"
    }
   ],
   "source": [
    "sns.boxplot(x = df['area'])"
   ]
  },
  {
   "cell_type": "code",
   "execution_count": 287,
   "id": "3d61690c-6a7e-4030-9b11-3344c3839554",
   "metadata": {},
   "outputs": [
    {
     "data": {
      "text/plain": [
       "count      3648.000000\n",
       "mean       2947.305647\n",
       "std       23205.025796\n",
       "min         145.000000\n",
       "25%        1262.000000\n",
       "50%        1750.000000\n",
       "75%        2350.000000\n",
       "max      875000.000000\n",
       "Name: area, dtype: float64"
      ]
     },
     "execution_count": 287,
     "metadata": {},
     "output_type": "execute_result"
    }
   ],
   "source": [
    "df['area'].describe()"
   ]
  },
  {
   "cell_type": "code",
   "execution_count": 289,
   "id": "531368b3-ec0e-4861-9006-5474cafe5bf3",
   "metadata": {},
   "outputs": [
    {
     "data": {
      "text/html": [
       "<div>\n",
       "<style scoped>\n",
       "    .dataframe tbody tr th:only-of-type {\n",
       "        vertical-align: middle;\n",
       "    }\n",
       "\n",
       "    .dataframe tbody tr th {\n",
       "        vertical-align: top;\n",
       "    }\n",
       "\n",
       "    .dataframe thead th {\n",
       "        text-align: right;\n",
       "    }\n",
       "</style>\n",
       "<table border=\"1\" class=\"dataframe\">\n",
       "  <thead>\n",
       "    <tr style=\"text-align: right;\">\n",
       "      <th></th>\n",
       "      <th>property_type</th>\n",
       "      <th>society</th>\n",
       "      <th>sector</th>\n",
       "      <th>price</th>\n",
       "      <th>price_per_sqft</th>\n",
       "      <th>area</th>\n",
       "      <th>areaWithType</th>\n",
       "      <th>bedRoom</th>\n",
       "      <th>bathroom</th>\n",
       "      <th>balcony</th>\n",
       "      <th>floorNum</th>\n",
       "      <th>facing</th>\n",
       "      <th>agePossession</th>\n",
       "      <th>super_built_up_area</th>\n",
       "      <th>built_up_area</th>\n",
       "      <th>carpet_area</th>\n",
       "      <th>study room</th>\n",
       "      <th>servant room</th>\n",
       "      <th>store room</th>\n",
       "      <th>pooja room</th>\n",
       "      <th>others</th>\n",
       "      <th>furnishing_type</th>\n",
       "      <th>luxury_score</th>\n",
       "    </tr>\n",
       "  </thead>\n",
       "  <tbody>\n",
       "    <tr>\n",
       "      <th>982</th>\n",
       "      <td>flat</td>\n",
       "      <td>hcbs sports ville</td>\n",
       "      <td>sohna road</td>\n",
       "      <td>0.35</td>\n",
       "      <td>4.0</td>\n",
       "      <td>875000.0</td>\n",
       "      <td>Built Up area: 737147 (68483.2 sq.m.)</td>\n",
       "      <td>2</td>\n",
       "      <td>2</td>\n",
       "      <td>2</td>\n",
       "      <td>8.0</td>\n",
       "      <td>NaN</td>\n",
       "      <td>Relatively New</td>\n",
       "      <td>NaN</td>\n",
       "      <td>737147.0</td>\n",
       "      <td>NaN</td>\n",
       "      <td>0</td>\n",
       "      <td>0</td>\n",
       "      <td>0</td>\n",
       "      <td>0</td>\n",
       "      <td>0</td>\n",
       "      <td>2</td>\n",
       "      <td>44</td>\n",
       "    </tr>\n",
       "    <tr>\n",
       "      <th>1337</th>\n",
       "      <td>flat</td>\n",
       "      <td>ramsons kshitij</td>\n",
       "      <td>sector 95</td>\n",
       "      <td>0.31</td>\n",
       "      <td>5.0</td>\n",
       "      <td>620000.0</td>\n",
       "      <td>Carpet area: 607936 (56479.1 sq.m.)</td>\n",
       "      <td>2</td>\n",
       "      <td>2</td>\n",
       "      <td>1</td>\n",
       "      <td>1.0</td>\n",
       "      <td>North-East</td>\n",
       "      <td>Relatively New</td>\n",
       "      <td>NaN</td>\n",
       "      <td>NaN</td>\n",
       "      <td>607936.0</td>\n",
       "      <td>1</td>\n",
       "      <td>0</td>\n",
       "      <td>0</td>\n",
       "      <td>0</td>\n",
       "      <td>1</td>\n",
       "      <td>0</td>\n",
       "      <td>65</td>\n",
       "    </tr>\n",
       "    <tr>\n",
       "      <th>1610</th>\n",
       "      <td>house</td>\n",
       "      <td>independent</td>\n",
       "      <td>sector 50</td>\n",
       "      <td>5.00</td>\n",
       "      <td>232.0</td>\n",
       "      <td>215517.0</td>\n",
       "      <td>Plot area 2(1011.71 sq.m.)</td>\n",
       "      <td>6</td>\n",
       "      <td>5</td>\n",
       "      <td>3+</td>\n",
       "      <td>2.0</td>\n",
       "      <td>NaN</td>\n",
       "      <td>New Property</td>\n",
       "      <td>NaN</td>\n",
       "      <td>2.0</td>\n",
       "      <td>NaN</td>\n",
       "      <td>1</td>\n",
       "      <td>1</td>\n",
       "      <td>0</td>\n",
       "      <td>1</td>\n",
       "      <td>1</td>\n",
       "      <td>1</td>\n",
       "      <td>0</td>\n",
       "    </tr>\n",
       "    <tr>\n",
       "      <th>2944</th>\n",
       "      <td>flat</td>\n",
       "      <td>signature the roselia</td>\n",
       "      <td>sector 95</td>\n",
       "      <td>0.45</td>\n",
       "      <td>7.0</td>\n",
       "      <td>642857.0</td>\n",
       "      <td>Carpet area: 569243 (52884.41 sq.m.)</td>\n",
       "      <td>2</td>\n",
       "      <td>2</td>\n",
       "      <td>2</td>\n",
       "      <td>2.0</td>\n",
       "      <td>South-West</td>\n",
       "      <td>New Property</td>\n",
       "      <td>NaN</td>\n",
       "      <td>NaN</td>\n",
       "      <td>569243.0</td>\n",
       "      <td>0</td>\n",
       "      <td>0</td>\n",
       "      <td>0</td>\n",
       "      <td>0</td>\n",
       "      <td>0</td>\n",
       "      <td>0</td>\n",
       "      <td>76</td>\n",
       "    </tr>\n",
       "    <tr>\n",
       "      <th>3204</th>\n",
       "      <td>flat</td>\n",
       "      <td>signature global solera 2</td>\n",
       "      <td>sector 107</td>\n",
       "      <td>0.51</td>\n",
       "      <td>9.0</td>\n",
       "      <td>566667.0</td>\n",
       "      <td>Carpet area: 514396 (47788.95 sq.m.)</td>\n",
       "      <td>2</td>\n",
       "      <td>2</td>\n",
       "      <td>1</td>\n",
       "      <td>3.0</td>\n",
       "      <td>North</td>\n",
       "      <td>New Property</td>\n",
       "      <td>NaN</td>\n",
       "      <td>NaN</td>\n",
       "      <td>514396.0</td>\n",
       "      <td>0</td>\n",
       "      <td>0</td>\n",
       "      <td>0</td>\n",
       "      <td>0</td>\n",
       "      <td>0</td>\n",
       "      <td>0</td>\n",
       "      <td>44</td>\n",
       "    </tr>\n",
       "  </tbody>\n",
       "</table>\n",
       "</div>"
      ],
      "text/plain": [
       "     property_type                    society      sector  price  \\\n",
       "982           flat          hcbs sports ville  sohna road   0.35   \n",
       "1337          flat            ramsons kshitij   sector 95   0.31   \n",
       "1610         house                independent   sector 50   5.00   \n",
       "2944          flat      signature the roselia   sector 95   0.45   \n",
       "3204          flat  signature global solera 2  sector 107   0.51   \n",
       "\n",
       "      price_per_sqft      area                           areaWithType  \\\n",
       "982              4.0  875000.0  Built Up area: 737147 (68483.2 sq.m.)   \n",
       "1337             5.0  620000.0    Carpet area: 607936 (56479.1 sq.m.)   \n",
       "1610           232.0  215517.0             Plot area 2(1011.71 sq.m.)   \n",
       "2944             7.0  642857.0   Carpet area: 569243 (52884.41 sq.m.)   \n",
       "3204             9.0  566667.0   Carpet area: 514396 (47788.95 sq.m.)   \n",
       "\n",
       "      bedRoom  bathroom balcony  floorNum      facing   agePossession  \\\n",
       "982         2         2       2       8.0         NaN  Relatively New   \n",
       "1337        2         2       1       1.0  North-East  Relatively New   \n",
       "1610        6         5      3+       2.0         NaN    New Property   \n",
       "2944        2         2       2       2.0  South-West    New Property   \n",
       "3204        2         2       1       3.0       North    New Property   \n",
       "\n",
       "      super_built_up_area  built_up_area  carpet_area  study room  \\\n",
       "982                   NaN       737147.0          NaN           0   \n",
       "1337                  NaN            NaN     607936.0           1   \n",
       "1610                  NaN            2.0          NaN           1   \n",
       "2944                  NaN            NaN     569243.0           0   \n",
       "3204                  NaN            NaN     514396.0           0   \n",
       "\n",
       "      servant room  store room  pooja room  others  furnishing_type  \\\n",
       "982              0           0           0       0                2   \n",
       "1337             0           0           0       1                0   \n",
       "1610             1           0           1       1                1   \n",
       "2944             0           0           0       0                0   \n",
       "3204             0           0           0       0                0   \n",
       "\n",
       "      luxury_score  \n",
       "982             44  \n",
       "1337            65  \n",
       "1610             0  \n",
       "2944            76  \n",
       "3204            44  "
      ]
     },
     "execution_count": 289,
     "metadata": {},
     "output_type": "execute_result"
    }
   ],
   "source": [
    "df[df['area'] > 100000]"
   ]
  },
  {
   "cell_type": "code",
   "execution_count": 291,
   "id": "e4df2e87-306f-49aa-817f-5e63bc402c51",
   "metadata": {},
   "outputs": [],
   "source": [
    "df = df[df['area'] < 100000]"
   ]
  },
  {
   "cell_type": "code",
   "execution_count": 293,
   "id": "37b1b61e-1d65-4d86-88b3-6ee273adcdf1",
   "metadata": {},
   "outputs": [
    {
     "name": "stderr",
     "output_type": "stream",
     "text": [
      "C:\\Users\\acer\\AppData\\Local\\Temp\\ipykernel_3008\\91062565.py:1: UserWarning: \n",
      "\n",
      "`distplot` is a deprecated function and will be removed in seaborn v0.14.0.\n",
      "\n",
      "Please adapt your code to use either `displot` (a figure-level function with\n",
      "similar flexibility) or `histplot` (an axes-level function for histograms).\n",
      "\n",
      "For a guide to updating your code to use the new functions, please see\n",
      "https://gist.github.com/mwaskom/de44147ed2974457ad6372750bbe5751\n",
      "\n",
      "  sns.distplot(df['area'])\n"
     ]
    },
    {
     "data": {
      "text/plain": [
       "<Axes: xlabel='area', ylabel='Density'>"
      ]
     },
     "execution_count": 293,
     "metadata": {},
     "output_type": "execute_result"
    },
    {
     "data": {
      "image/png": "[encoded data removed]",
      "text/plain": [
       "<Figure size 640x480 with 1 Axes>"
      ]
     },
     "metadata": {},
     "output_type": "display_data"
    }
   ],
   "source": [
    "sns.distplot(df['area'])"
   ]
  },
  {
   "cell_type": "code",
   "execution_count": 295,
   "id": "6089fdce-966c-4463-916a-a4a40f9d986a",
   "metadata": {},
   "outputs": [
    {
     "data": {
      "text/plain": [
       "<Axes: xlabel='area'>"
      ]
     },
     "execution_count": 295,
     "metadata": {},
     "output_type": "execute_result"
    },
    {
     "data": {
      "image/png": "[encoded data removed]",
      "text/plain": [
       "<Figure size 640x480 with 1 Axes>"
      ]
     },
     "metadata": {},
     "output_type": "display_data"
    }
   ],
   "source": [
    "sns.boxplot(x=df['area'])"
   ]
  },
  {
   "cell_type": "code",
   "execution_count": 305,
   "id": "a9c94c90-5be3-432e-8564-3771008de5de",
   "metadata": {},
   "outputs": [
    {
     "data": {
      "text/html": [
       "<div>\n",
       "<style scoped>\n",
       "    .dataframe tbody tr th:only-of-type {\n",
       "        vertical-align: middle;\n",
       "    }\n",
       "\n",
       "    .dataframe tbody tr th {\n",
       "        vertical-align: top;\n",
       "    }\n",
       "\n",
       "    .dataframe thead th {\n",
       "        text-align: right;\n",
       "    }\n",
       "</style>\n",
       "<table border=\"1\" class=\"dataframe\">\n",
       "  <thead>\n",
       "    <tr style=\"text-align: right;\">\n",
       "      <th></th>\n",
       "      <th>property_type</th>\n",
       "      <th>society</th>\n",
       "      <th>sector</th>\n",
       "      <th>price</th>\n",
       "      <th>price_per_sqft</th>\n",
       "      <th>area</th>\n",
       "      <th>areaWithType</th>\n",
       "      <th>bedRoom</th>\n",
       "      <th>bathroom</th>\n",
       "      <th>balcony</th>\n",
       "      <th>floorNum</th>\n",
       "      <th>facing</th>\n",
       "      <th>agePossession</th>\n",
       "      <th>super_built_up_area</th>\n",
       "      <th>built_up_area</th>\n",
       "      <th>carpet_area</th>\n",
       "      <th>study room</th>\n",
       "      <th>servant room</th>\n",
       "      <th>store room</th>\n",
       "      <th>pooja room</th>\n",
       "      <th>others</th>\n",
       "      <th>furnishing_type</th>\n",
       "      <th>luxury_score</th>\n",
       "    </tr>\n",
       "  </thead>\n",
       "  <tbody>\n",
       "    <tr>\n",
       "      <th>3429</th>\n",
       "      <td>house</td>\n",
       "      <td>independent</td>\n",
       "      <td>sector 26</td>\n",
       "      <td>18.40</td>\n",
       "      <td>1859.0</td>\n",
       "      <td>98978.0</td>\n",
       "      <td>Plot area 502(419.74 sq.m.)Carpet area: 11000 ...</td>\n",
       "      <td>6</td>\n",
       "      <td>8</td>\n",
       "      <td>3+</td>\n",
       "      <td>4.0</td>\n",
       "      <td>South</td>\n",
       "      <td>Relatively New</td>\n",
       "      <td>NaN</td>\n",
       "      <td>NaN</td>\n",
       "      <td>11000.0</td>\n",
       "      <td>0</td>\n",
       "      <td>1</td>\n",
       "      <td>1</td>\n",
       "      <td>1</td>\n",
       "      <td>0</td>\n",
       "      <td>1</td>\n",
       "      <td>60</td>\n",
       "    </tr>\n",
       "    <tr>\n",
       "      <th>3195</th>\n",
       "      <td>house</td>\n",
       "      <td>ganpati heights apartment</td>\n",
       "      <td>sector 13</td>\n",
       "      <td>1.25</td>\n",
       "      <td>151.0</td>\n",
       "      <td>82781.0</td>\n",
       "      <td>Plot area 115(7692.86 sq.m.)</td>\n",
       "      <td>10</td>\n",
       "      <td>6</td>\n",
       "      <td>2</td>\n",
       "      <td>3.0</td>\n",
       "      <td>South-East</td>\n",
       "      <td>Old Property</td>\n",
       "      <td>NaN</td>\n",
       "      <td>115.0</td>\n",
       "      <td>NaN</td>\n",
       "      <td>0</td>\n",
       "      <td>0</td>\n",
       "      <td>0</td>\n",
       "      <td>0</td>\n",
       "      <td>1</td>\n",
       "      <td>0</td>\n",
       "      <td>7</td>\n",
       "    </tr>\n",
       "    <tr>\n",
       "      <th>3741</th>\n",
       "      <td>flat</td>\n",
       "      <td>rof ananda</td>\n",
       "      <td>sector 95</td>\n",
       "      <td>0.38</td>\n",
       "      <td>58.0</td>\n",
       "      <td>65517.0</td>\n",
       "      <td>Carpet area: 64412 (5984.07 sq.m.)</td>\n",
       "      <td>3</td>\n",
       "      <td>2</td>\n",
       "      <td>1</td>\n",
       "      <td>12.0</td>\n",
       "      <td>North</td>\n",
       "      <td>Relatively New</td>\n",
       "      <td>NaN</td>\n",
       "      <td>NaN</td>\n",
       "      <td>64412.0</td>\n",
       "      <td>0</td>\n",
       "      <td>0</td>\n",
       "      <td>0</td>\n",
       "      <td>0</td>\n",
       "      <td>0</td>\n",
       "      <td>0</td>\n",
       "      <td>51</td>\n",
       "    </tr>\n",
       "    <tr>\n",
       "      <th>2831</th>\n",
       "      <td>flat</td>\n",
       "      <td>rof ananda</td>\n",
       "      <td>sector 95</td>\n",
       "      <td>0.38</td>\n",
       "      <td>58.0</td>\n",
       "      <td>65517.0</td>\n",
       "      <td>Carpet area: 64529 (5994.94 sq.m.)</td>\n",
       "      <td>2</td>\n",
       "      <td>2</td>\n",
       "      <td>2</td>\n",
       "      <td>10.0</td>\n",
       "      <td>East</td>\n",
       "      <td>New Property</td>\n",
       "      <td>NaN</td>\n",
       "      <td>NaN</td>\n",
       "      <td>64529.0</td>\n",
       "      <td>1</td>\n",
       "      <td>0</td>\n",
       "      <td>0</td>\n",
       "      <td>0</td>\n",
       "      <td>0</td>\n",
       "      <td>0</td>\n",
       "      <td>15</td>\n",
       "    </tr>\n",
       "    <tr>\n",
       "      <th>3787</th>\n",
       "      <td>house</td>\n",
       "      <td>dlf city plot phase 4</td>\n",
       "      <td>sector 28</td>\n",
       "      <td>13.00</td>\n",
       "      <td>1992.0</td>\n",
       "      <td>65261.0</td>\n",
       "      <td>Carpet area: 7250 (6061.92 sq.m.)</td>\n",
       "      <td>10</td>\n",
       "      <td>10</td>\n",
       "      <td>3+</td>\n",
       "      <td>1.0</td>\n",
       "      <td>NaN</td>\n",
       "      <td>Undefined</td>\n",
       "      <td>NaN</td>\n",
       "      <td>NaN</td>\n",
       "      <td>7250.0</td>\n",
       "      <td>0</td>\n",
       "      <td>0</td>\n",
       "      <td>0</td>\n",
       "      <td>0</td>\n",
       "      <td>0</td>\n",
       "      <td>0</td>\n",
       "      <td>0</td>\n",
       "    </tr>\n",
       "  </tbody>\n",
       "</table>\n",
       "</div>"
      ],
      "text/plain": [
       "     property_type                    society     sector  price  \\\n",
       "3429         house                independent  sector 26  18.40   \n",
       "3195         house  ganpati heights apartment  sector 13   1.25   \n",
       "3741          flat                 rof ananda  sector 95   0.38   \n",
       "2831          flat                 rof ananda  sector 95   0.38   \n",
       "3787         house      dlf city plot phase 4  sector 28  13.00   \n",
       "\n",
       "      price_per_sqft     area  \\\n",
       "3429          1859.0  98978.0   \n",
       "3195           151.0  82781.0   \n",
       "3741            58.0  65517.0   \n",
       "2831            58.0  65517.0   \n",
       "3787          1992.0  65261.0   \n",
       "\n",
       "                                           areaWithType  bedRoom  bathroom  \\\n",
       "3429  Plot area 502(419.74 sq.m.)Carpet area: 11000 ...        6         8   \n",
       "3195                       Plot area 115(7692.86 sq.m.)       10         6   \n",
       "3741                 Carpet area: 64412 (5984.07 sq.m.)        3         2   \n",
       "2831                 Carpet area: 64529 (5994.94 sq.m.)        2         2   \n",
       "3787                  Carpet area: 7250 (6061.92 sq.m.)       10        10   \n",
       "\n",
       "     balcony  floorNum      facing   agePossession  super_built_up_area  \\\n",
       "3429      3+       4.0       South  Relatively New                  NaN   \n",
       "3195       2       3.0  South-East    Old Property                  NaN   \n",
       "3741       1      12.0       North  Relatively New                  NaN   \n",
       "2831       2      10.0        East    New Property                  NaN   \n",
       "3787      3+       1.0         NaN       Undefined                  NaN   \n",
       "\n",
       "      built_up_area  carpet_area  study room  servant room  store room  \\\n",
       "3429            NaN      11000.0           0             1           1   \n",
       "3195          115.0          NaN           0             0           0   \n",
       "3741            NaN      64412.0           0             0           0   \n",
       "2831            NaN      64529.0           1             0           0   \n",
       "3787            NaN       7250.0           0             0           0   \n",
       "\n",
       "      pooja room  others  furnishing_type  luxury_score  \n",
       "3429           1       0                1            60  \n",
       "3195           0       1                0             7  \n",
       "3741           0       0                0            51  \n",
       "2831           0       0                0            15  \n",
       "3787           0       0                0             0  "
      ]
     },
     "execution_count": 305,
     "metadata": {},
     "output_type": "execute_result"
    }
   ],
   "source": [
    "df[df['area'] > 10000].sort_values('area',ascending=False).head(5)\n",
    "\n",
    "# 3429, 3741, 2831, 931, 2245, 2283, 2141, 2899, 236"
   ]
  },
  {
   "cell_type": "code",
   "execution_count": 307,
   "id": "07973f6b-07f0-4b1a-a025-0dafcf3cfa8b",
   "metadata": {},
   "outputs": [],
   "source": [
    "df.drop(index=[3429, 3741, 2831, 931, 2245, 2283, 2141, 2899, 236], inplace=True)"
   ]
  },
  {
   "cell_type": "code",
   "execution_count": 309,
   "id": "ae6d3293-9473-4116-a748-52584c0ed0e9",
   "metadata": {},
   "outputs": [
    {
     "data": {
      "text/html": [
       "<div>\n",
       "<style scoped>\n",
       "    .dataframe tbody tr th:only-of-type {\n",
       "        vertical-align: middle;\n",
       "    }\n",
       "\n",
       "    .dataframe tbody tr th {\n",
       "        vertical-align: top;\n",
       "    }\n",
       "\n",
       "    .dataframe thead th {\n",
       "        text-align: right;\n",
       "    }\n",
       "</style>\n",
       "<table border=\"1\" class=\"dataframe\">\n",
       "  <thead>\n",
       "    <tr style=\"text-align: right;\">\n",
       "      <th></th>\n",
       "      <th>property_type</th>\n",
       "      <th>society</th>\n",
       "      <th>sector</th>\n",
       "      <th>price</th>\n",
       "      <th>price_per_sqft</th>\n",
       "      <th>area</th>\n",
       "      <th>areaWithType</th>\n",
       "      <th>bedRoom</th>\n",
       "      <th>bathroom</th>\n",
       "      <th>balcony</th>\n",
       "      <th>floorNum</th>\n",
       "      <th>facing</th>\n",
       "      <th>agePossession</th>\n",
       "      <th>super_built_up_area</th>\n",
       "      <th>built_up_area</th>\n",
       "      <th>carpet_area</th>\n",
       "      <th>study room</th>\n",
       "      <th>servant room</th>\n",
       "      <th>store room</th>\n",
       "      <th>pooja room</th>\n",
       "      <th>others</th>\n",
       "      <th>furnishing_type</th>\n",
       "      <th>luxury_score</th>\n",
       "    </tr>\n",
       "  </thead>\n",
       "  <tbody>\n",
       "    <tr>\n",
       "      <th>3195</th>\n",
       "      <td>house</td>\n",
       "      <td>ganpati heights apartment</td>\n",
       "      <td>sector 13</td>\n",
       "      <td>1.25</td>\n",
       "      <td>151.0</td>\n",
       "      <td>82781.0</td>\n",
       "      <td>Plot area 115(7692.86 sq.m.)</td>\n",
       "      <td>10</td>\n",
       "      <td>6</td>\n",
       "      <td>2</td>\n",
       "      <td>3.0</td>\n",
       "      <td>South-East</td>\n",
       "      <td>Old Property</td>\n",
       "      <td>NaN</td>\n",
       "      <td>115.0</td>\n",
       "      <td>NaN</td>\n",
       "      <td>0</td>\n",
       "      <td>0</td>\n",
       "      <td>0</td>\n",
       "      <td>0</td>\n",
       "      <td>1</td>\n",
       "      <td>0</td>\n",
       "      <td>7</td>\n",
       "    </tr>\n",
       "    <tr>\n",
       "      <th>3787</th>\n",
       "      <td>house</td>\n",
       "      <td>dlf city plot phase 4</td>\n",
       "      <td>sector 28</td>\n",
       "      <td>13.00</td>\n",
       "      <td>1992.0</td>\n",
       "      <td>65261.0</td>\n",
       "      <td>Carpet area: 7250 (6061.92 sq.m.)</td>\n",
       "      <td>10</td>\n",
       "      <td>10</td>\n",
       "      <td>3+</td>\n",
       "      <td>1.0</td>\n",
       "      <td>NaN</td>\n",
       "      <td>Undefined</td>\n",
       "      <td>NaN</td>\n",
       "      <td>NaN</td>\n",
       "      <td>7250.00</td>\n",
       "      <td>0</td>\n",
       "      <td>0</td>\n",
       "      <td>0</td>\n",
       "      <td>0</td>\n",
       "      <td>0</td>\n",
       "      <td>0</td>\n",
       "      <td>0</td>\n",
       "    </tr>\n",
       "    <tr>\n",
       "      <th>2503</th>\n",
       "      <td>house</td>\n",
       "      <td>independent</td>\n",
       "      <td>sector 25</td>\n",
       "      <td>7.30</td>\n",
       "      <td>1560.0</td>\n",
       "      <td>46795.0</td>\n",
       "      <td>Plot area 215(179.77 sq.m.)Built Up area: 5800...</td>\n",
       "      <td>9</td>\n",
       "      <td>9</td>\n",
       "      <td>2</td>\n",
       "      <td>3.0</td>\n",
       "      <td>North-West</td>\n",
       "      <td>Relatively New</td>\n",
       "      <td>NaN</td>\n",
       "      <td>5800.0</td>\n",
       "      <td>5200.00</td>\n",
       "      <td>0</td>\n",
       "      <td>1</td>\n",
       "      <td>1</td>\n",
       "      <td>0</td>\n",
       "      <td>0</td>\n",
       "      <td>1</td>\n",
       "      <td>109</td>\n",
       "    </tr>\n",
       "    <tr>\n",
       "      <th>1408</th>\n",
       "      <td>house</td>\n",
       "      <td>independent</td>\n",
       "      <td>sector 57</td>\n",
       "      <td>6.25</td>\n",
       "      <td>2778.0</td>\n",
       "      <td>22498.0</td>\n",
       "      <td>Plot area 3100(2591.99 sq.m.)Built Up area: 26...</td>\n",
       "      <td>9</td>\n",
       "      <td>9</td>\n",
       "      <td>3+</td>\n",
       "      <td>3.0</td>\n",
       "      <td>North-East</td>\n",
       "      <td>New Property</td>\n",
       "      <td>NaN</td>\n",
       "      <td>2660.0</td>\n",
       "      <td>2500.00</td>\n",
       "      <td>0</td>\n",
       "      <td>1</td>\n",
       "      <td>0</td>\n",
       "      <td>0</td>\n",
       "      <td>0</td>\n",
       "      <td>1</td>\n",
       "      <td>61</td>\n",
       "    </tr>\n",
       "    <tr>\n",
       "      <th>3560</th>\n",
       "      <td>house</td>\n",
       "      <td>independent</td>\n",
       "      <td>sector 43</td>\n",
       "      <td>5.50</td>\n",
       "      <td>2716.0</td>\n",
       "      <td>20250.0</td>\n",
       "      <td>Plot area 215(179.77 sq.m.)Built Up area: 2850...</td>\n",
       "      <td>8</td>\n",
       "      <td>7</td>\n",
       "      <td>3+</td>\n",
       "      <td>3.0</td>\n",
       "      <td>East</td>\n",
       "      <td>Moderately Old</td>\n",
       "      <td>NaN</td>\n",
       "      <td>2850.0</td>\n",
       "      <td>2250.00</td>\n",
       "      <td>1</td>\n",
       "      <td>1</td>\n",
       "      <td>0</td>\n",
       "      <td>1</td>\n",
       "      <td>1</td>\n",
       "      <td>1</td>\n",
       "      <td>123</td>\n",
       "    </tr>\n",
       "    <tr>\n",
       "      <th>593</th>\n",
       "      <td>flat</td>\n",
       "      <td>godrej air</td>\n",
       "      <td>sector 85</td>\n",
       "      <td>2.50</td>\n",
       "      <td>1379.0</td>\n",
       "      <td>18129.0</td>\n",
       "      <td>Carpet area: 18122 (1683.59 sq.m.)</td>\n",
       "      <td>4</td>\n",
       "      <td>5</td>\n",
       "      <td>3+</td>\n",
       "      <td>16.0</td>\n",
       "      <td>North-East</td>\n",
       "      <td>Under Construction</td>\n",
       "      <td>NaN</td>\n",
       "      <td>NaN</td>\n",
       "      <td>18122.00</td>\n",
       "      <td>1</td>\n",
       "      <td>0</td>\n",
       "      <td>0</td>\n",
       "      <td>1</td>\n",
       "      <td>1</td>\n",
       "      <td>1</td>\n",
       "      <td>44</td>\n",
       "    </tr>\n",
       "    <tr>\n",
       "      <th>181</th>\n",
       "      <td>house</td>\n",
       "      <td>unitech aspen greens</td>\n",
       "      <td>sector 50</td>\n",
       "      <td>6.95</td>\n",
       "      <td>4490.0</td>\n",
       "      <td>15479.0</td>\n",
       "      <td>Plot area 240(200.67 sq.m.)Built Up area: 2160...</td>\n",
       "      <td>3</td>\n",
       "      <td>3</td>\n",
       "      <td>1</td>\n",
       "      <td>2.0</td>\n",
       "      <td>North-East</td>\n",
       "      <td>Moderately Old</td>\n",
       "      <td>NaN</td>\n",
       "      <td>2160.0</td>\n",
       "      <td>1720.00</td>\n",
       "      <td>0</td>\n",
       "      <td>1</td>\n",
       "      <td>0</td>\n",
       "      <td>0</td>\n",
       "      <td>0</td>\n",
       "      <td>0</td>\n",
       "      <td>160</td>\n",
       "    </tr>\n",
       "    <tr>\n",
       "      <th>3636</th>\n",
       "      <td>flat</td>\n",
       "      <td>godrej icon</td>\n",
       "      <td>sector 88a</td>\n",
       "      <td>1.75</td>\n",
       "      <td>1384.0</td>\n",
       "      <td>12645.0</td>\n",
       "      <td>Carpet area: 1175.11</td>\n",
       "      <td>3</td>\n",
       "      <td>3</td>\n",
       "      <td>3+</td>\n",
       "      <td>6.0</td>\n",
       "      <td>NaN</td>\n",
       "      <td>New Property</td>\n",
       "      <td>NaN</td>\n",
       "      <td>NaN</td>\n",
       "      <td>1175.11</td>\n",
       "      <td>0</td>\n",
       "      <td>0</td>\n",
       "      <td>0</td>\n",
       "      <td>0</td>\n",
       "      <td>0</td>\n",
       "      <td>0</td>\n",
       "      <td>55</td>\n",
       "    </tr>\n",
       "    <tr>\n",
       "      <th>859</th>\n",
       "      <td>house</td>\n",
       "      <td>independent</td>\n",
       "      <td>sector 43</td>\n",
       "      <td>27.50</td>\n",
       "      <td>24366.0</td>\n",
       "      <td>11286.0</td>\n",
       "      <td>Plot area 1254(1048.5 sq.m.)</td>\n",
       "      <td>6</td>\n",
       "      <td>7</td>\n",
       "      <td>3+</td>\n",
       "      <td>3.0</td>\n",
       "      <td>North-East</td>\n",
       "      <td>Relatively New</td>\n",
       "      <td>NaN</td>\n",
       "      <td>11286.0</td>\n",
       "      <td>NaN</td>\n",
       "      <td>1</td>\n",
       "      <td>1</td>\n",
       "      <td>0</td>\n",
       "      <td>1</td>\n",
       "      <td>1</td>\n",
       "      <td>1</td>\n",
       "      <td>42</td>\n",
       "    </tr>\n",
       "    <tr>\n",
       "      <th>390</th>\n",
       "      <td>flat</td>\n",
       "      <td>m3m golfestate</td>\n",
       "      <td>sector 65</td>\n",
       "      <td>13.20</td>\n",
       "      <td>12000.0</td>\n",
       "      <td>11000.0</td>\n",
       "      <td>Carpet area: 11000 (1021.93 sq.m.)</td>\n",
       "      <td>4</td>\n",
       "      <td>4</td>\n",
       "      <td>3</td>\n",
       "      <td>13.0</td>\n",
       "      <td>North</td>\n",
       "      <td>Moderately Old</td>\n",
       "      <td>NaN</td>\n",
       "      <td>NaN</td>\n",
       "      <td>11000.00</td>\n",
       "      <td>0</td>\n",
       "      <td>1</td>\n",
       "      <td>0</td>\n",
       "      <td>0</td>\n",
       "      <td>0</td>\n",
       "      <td>0</td>\n",
       "      <td>60</td>\n",
       "    </tr>\n",
       "  </tbody>\n",
       "</table>\n",
       "</div>"
      ],
      "text/plain": [
       "     property_type                    society      sector  price  \\\n",
       "3195         house  ganpati heights apartment   sector 13   1.25   \n",
       "3787         house      dlf city plot phase 4   sector 28  13.00   \n",
       "2503         house                independent   sector 25   7.30   \n",
       "1408         house                independent   sector 57   6.25   \n",
       "3560         house                independent   sector 43   5.50   \n",
       "593           flat                 godrej air   sector 85   2.50   \n",
       "181          house       unitech aspen greens   sector 50   6.95   \n",
       "3636          flat                godrej icon  sector 88a   1.75   \n",
       "859          house                independent   sector 43  27.50   \n",
       "390           flat             m3m golfestate   sector 65  13.20   \n",
       "\n",
       "      price_per_sqft     area  \\\n",
       "3195           151.0  82781.0   \n",
       "3787          1992.0  65261.0   \n",
       "2503          1560.0  46795.0   \n",
       "1408          2778.0  22498.0   \n",
       "3560          2716.0  20250.0   \n",
       "593           1379.0  18129.0   \n",
       "181           4490.0  15479.0   \n",
       "3636          1384.0  12645.0   \n",
       "859          24366.0  11286.0   \n",
       "390          12000.0  11000.0   \n",
       "\n",
       "                                           areaWithType  bedRoom  bathroom  \\\n",
       "3195                       Plot area 115(7692.86 sq.m.)       10         6   \n",
       "3787                  Carpet area: 7250 (6061.92 sq.m.)       10        10   \n",
       "2503  Plot area 215(179.77 sq.m.)Built Up area: 5800...        9         9   \n",
       "1408  Plot area 3100(2591.99 sq.m.)Built Up area: 26...        9         9   \n",
       "3560  Plot area 215(179.77 sq.m.)Built Up area: 2850...        8         7   \n",
       "593                  Carpet area: 18122 (1683.59 sq.m.)        4         5   \n",
       "181   Plot area 240(200.67 sq.m.)Built Up area: 2160...        3         3   \n",
       "3636                               Carpet area: 1175.11        3         3   \n",
       "859                        Plot area 1254(1048.5 sq.m.)        6         7   \n",
       "390                  Carpet area: 11000 (1021.93 sq.m.)        4         4   \n",
       "\n",
       "     balcony  floorNum      facing       agePossession  super_built_up_area  \\\n",
       "3195       2       3.0  South-East        Old Property                  NaN   \n",
       "3787      3+       1.0         NaN           Undefined                  NaN   \n",
       "2503       2       3.0  North-West      Relatively New                  NaN   \n",
       "1408      3+       3.0  North-East        New Property                  NaN   \n",
       "3560      3+       3.0        East      Moderately Old                  NaN   \n",
       "593       3+      16.0  North-East  Under Construction                  NaN   \n",
       "181        1       2.0  North-East      Moderately Old                  NaN   \n",
       "3636      3+       6.0         NaN        New Property                  NaN   \n",
       "859       3+       3.0  North-East      Relatively New                  NaN   \n",
       "390        3      13.0       North      Moderately Old                  NaN   \n",
       "\n",
       "      built_up_area  carpet_area  study room  servant room  store room  \\\n",
       "3195          115.0          NaN           0             0           0   \n",
       "3787            NaN      7250.00           0             0           0   \n",
       "2503         5800.0      5200.00           0             1           1   \n",
       "1408         2660.0      2500.00           0             1           0   \n",
       "3560         2850.0      2250.00           1             1           0   \n",
       "593             NaN     18122.00           1             0           0   \n",
       "181          2160.0      1720.00           0             1           0   \n",
       "3636            NaN      1175.11           0             0           0   \n",
       "859         11286.0          NaN           1             1           0   \n",
       "390             NaN     11000.00           0             1           0   \n",
       "\n",
       "      pooja room  others  furnishing_type  luxury_score  \n",
       "3195           0       1                0             7  \n",
       "3787           0       0                0             0  \n",
       "2503           0       0                1           109  \n",
       "1408           0       0                1            61  \n",
       "3560           1       1                1           123  \n",
       "593            1       1                1            44  \n",
       "181            0       0                0           160  \n",
       "3636           0       0                0            55  \n",
       "859            1       1                1            42  \n",
       "390            0       0                0            60  "
      ]
     },
     "execution_count": 309,
     "metadata": {},
     "output_type": "execute_result"
    }
   ],
   "source": [
    "df[df['area'] > 10000].sort_values('area',ascending=False).head(10)"
   ]
  },
  {
   "cell_type": "code",
   "execution_count": 311,
   "id": "d2e6e284-76fc-44fc-b5ef-cf0c3c8ebd0b",
   "metadata": {},
   "outputs": [],
   "source": [
    "df.loc[3195,'area'] = 115*9\n",
    "df.loc[3787,'area'] = 7250\n",
    "df.loc[2503,'area'] = 5800\n",
    "df.loc[1408,'area'] = 2660\n",
    "df.loc[3560,'area'] = 2850\n",
    "df.loc[593,'area'] = 1812\n",
    "df.loc[181,'area'] = 2160\n",
    "df.loc[3636,'area'] = 1175"
   ]
  },
  {
   "cell_type": "code",
   "execution_count": 313,
   "id": "779cf32c-c5bb-41cf-96ef-8a0e62ff93a4",
   "metadata": {},
   "outputs": [
    {
     "name": "stderr",
     "output_type": "stream",
     "text": [
      "C:\\Users\\acer\\AppData\\Local\\Temp\\ipykernel_3008\\91062565.py:1: UserWarning: \n",
      "\n",
      "`distplot` is a deprecated function and will be removed in seaborn v0.14.0.\n",
      "\n",
      "Please adapt your code to use either `displot` (a figure-level function with\n",
      "similar flexibility) or `histplot` (an axes-level function for histograms).\n",
      "\n",
      "For a guide to updating your code to use the new functions, please see\n",
      "https://gist.github.com/mwaskom/de44147ed2974457ad6372750bbe5751\n",
      "\n",
      "  sns.distplot(df['area'])\n"
     ]
    },
    {
     "data": {
      "text/plain": [
       "<Axes: xlabel='area', ylabel='Density'>"
      ]
     },
     "execution_count": 313,
     "metadata": {},
     "output_type": "execute_result"
    },
    {
     "data": {
      "image/png": "[encoded data removed]",
      "text/plain": [
       "<Figure size 640x480 with 1 Axes>"
      ]
     },
     "metadata": {},
     "output_type": "display_data"
    }
   ],
   "source": [
    "sns.distplot(df['area'])"
   ]
  },
  {
   "cell_type": "code",
   "execution_count": 315,
   "id": "8ef2b689-1593-4b0a-ba7f-fa5b17f0ddd1",
   "metadata": {},
   "outputs": [
    {
     "data": {
      "text/plain": [
       "<Axes: xlabel='area'>"
      ]
     },
     "execution_count": 315,
     "metadata": {},
     "output_type": "execute_result"
    },
    {
     "data": {
      "image/png": "[encoded data removed]",
      "text/plain": [
       "<Figure size 640x480 with 1 Axes>"
      ]
     },
     "metadata": {},
     "output_type": "display_data"
    }
   ],
   "source": [
    "sns.boxplot(x=df['area'])"
   ]
  },
  {
   "cell_type": "code",
   "execution_count": 317,
   "id": "02598c38-c951-4a4a-bea3-8b209c7014ef",
   "metadata": {},
   "outputs": [
    {
     "data": {
      "text/plain": [
       "count     3634.000000\n",
       "mean      1950.211888\n",
       "std       1215.572050\n",
       "min        145.000000\n",
       "25%       1260.250000\n",
       "50%       1746.500000\n",
       "75%       2325.000000\n",
       "max      11286.000000\n",
       "Name: area, dtype: float64"
      ]
     },
     "execution_count": 317,
     "metadata": {},
     "output_type": "execute_result"
    }
   ],
   "source": [
    "df['area'].describe()"
   ]
  },
  {
   "cell_type": "markdown",
   "id": "a9eace7d-f856-446a-99e9-4fcab8616aa7",
   "metadata": {},
   "source": [
    "# Bedroom"
   ]
  },
  {
   "cell_type": "code",
   "execution_count": 320,
   "id": "335f238a-51d1-4fba-999e-8d25f6a70c1f",
   "metadata": {},
   "outputs": [
    {
     "name": "stderr",
     "output_type": "stream",
     "text": [
      "C:\\Users\\acer\\AppData\\Local\\Temp\\ipykernel_3008\\1691983684.py:1: UserWarning: \n",
      "\n",
      "`distplot` is a deprecated function and will be removed in seaborn v0.14.0.\n",
      "\n",
      "Please adapt your code to use either `displot` (a figure-level function with\n",
      "similar flexibility) or `histplot` (an axes-level function for histograms).\n",
      "\n",
      "For a guide to updating your code to use the new functions, please see\n",
      "https://gist.github.com/mwaskom/de44147ed2974457ad6372750bbe5751\n",
      "\n",
      "  sns.distplot(df['bedRoom'])\n"
     ]
    },
    {
     "data": {
      "text/plain": [
       "<Axes: xlabel='bedRoom', ylabel='Density'>"
      ]
     },
     "execution_count": 320,
     "metadata": {},
     "output_type": "execute_result"
    },
    {
     "data": {
      "image/png": "[encoded data removed]",
      "text/plain": [
       "<Figure size 640x480 with 1 Axes>"
      ]
     },
     "metadata": {},
     "output_type": "display_data"
    }
   ],
   "source": [
    "sns.distplot(df['bedRoom'])"
   ]
  },
  {
   "cell_type": "code",
   "execution_count": 322,
   "id": "7b0f7a4d-3191-4322-ba2d-1625dc2f4c99",
   "metadata": {},
   "outputs": [
    {
     "data": {
      "text/plain": [
       "<Axes: xlabel='bedRoom'>"
      ]
     },
     "execution_count": 322,
     "metadata": {},
     "output_type": "execute_result"
    },
    {
     "data": {
      "image/png": "[encoded data removed]",
      "text/plain": [
       "<Figure size 640x480 with 1 Axes>"
      ]
     },
     "metadata": {},
     "output_type": "display_data"
    }
   ],
   "source": [
    "sns.boxplot(x=df['bedRoom'])"
   ]
  },
  {
   "cell_type": "code",
   "execution_count": 324,
   "id": "811a06df-2754-48c1-aed3-a3489f3ba810",
   "metadata": {},
   "outputs": [
    {
     "data": {
      "text/plain": [
       "count    3634.000000\n",
       "mean        3.333517\n",
       "std         1.829791\n",
       "min         1.000000\n",
       "25%         2.000000\n",
       "50%         3.000000\n",
       "75%         4.000000\n",
       "max        21.000000\n",
       "Name: bedRoom, dtype: float64"
      ]
     },
     "execution_count": 324,
     "metadata": {},
     "output_type": "execute_result"
    }
   ],
   "source": [
    "df['bedRoom'].describe()"
   ]
  },
  {
   "cell_type": "code",
   "execution_count": 326,
   "id": "ea7e385c-b5f3-4e04-94f8-697cb2d67b3a",
   "metadata": {},
   "outputs": [
    {
     "data": {
      "text/html": [
       "<div>\n",
       "<style scoped>\n",
       "    .dataframe tbody tr th:only-of-type {\n",
       "        vertical-align: middle;\n",
       "    }\n",
       "\n",
       "    .dataframe tbody tr th {\n",
       "        vertical-align: top;\n",
       "    }\n",
       "\n",
       "    .dataframe thead th {\n",
       "        text-align: right;\n",
       "    }\n",
       "</style>\n",
       "<table border=\"1\" class=\"dataframe\">\n",
       "  <thead>\n",
       "    <tr style=\"text-align: right;\">\n",
       "      <th></th>\n",
       "      <th>property_type</th>\n",
       "      <th>society</th>\n",
       "      <th>sector</th>\n",
       "      <th>price</th>\n",
       "      <th>price_per_sqft</th>\n",
       "      <th>area</th>\n",
       "      <th>areaWithType</th>\n",
       "      <th>bedRoom</th>\n",
       "      <th>bathroom</th>\n",
       "      <th>balcony</th>\n",
       "      <th>floorNum</th>\n",
       "      <th>facing</th>\n",
       "      <th>agePossession</th>\n",
       "      <th>super_built_up_area</th>\n",
       "      <th>built_up_area</th>\n",
       "      <th>carpet_area</th>\n",
       "      <th>study room</th>\n",
       "      <th>servant room</th>\n",
       "      <th>store room</th>\n",
       "      <th>pooja room</th>\n",
       "      <th>others</th>\n",
       "      <th>furnishing_type</th>\n",
       "      <th>luxury_score</th>\n",
       "    </tr>\n",
       "  </thead>\n",
       "  <tbody>\n",
       "    <tr>\n",
       "      <th>643</th>\n",
       "      <td>house</td>\n",
       "      <td>independent</td>\n",
       "      <td>sector 54</td>\n",
       "      <td>5.00</td>\n",
       "      <td>43066.0</td>\n",
       "      <td>1161.0</td>\n",
       "      <td>Plot area 129(107.86 sq.m.)</td>\n",
       "      <td>21</td>\n",
       "      <td>21</td>\n",
       "      <td>3+</td>\n",
       "      <td>5.0</td>\n",
       "      <td>North</td>\n",
       "      <td>Relatively New</td>\n",
       "      <td>NaN</td>\n",
       "      <td>1161.0</td>\n",
       "      <td>NaN</td>\n",
       "      <td>0</td>\n",
       "      <td>1</td>\n",
       "      <td>0</td>\n",
       "      <td>0</td>\n",
       "      <td>0</td>\n",
       "      <td>2</td>\n",
       "      <td>49</td>\n",
       "    </tr>\n",
       "    <tr>\n",
       "      <th>3278</th>\n",
       "      <td>house</td>\n",
       "      <td>independent</td>\n",
       "      <td>sector 43</td>\n",
       "      <td>4.50</td>\n",
       "      <td>39062.0</td>\n",
       "      <td>1152.0</td>\n",
       "      <td>Plot area 128(107.02 sq.m.)</td>\n",
       "      <td>20</td>\n",
       "      <td>20</td>\n",
       "      <td>3+</td>\n",
       "      <td>4.0</td>\n",
       "      <td>East</td>\n",
       "      <td>Relatively New</td>\n",
       "      <td>NaN</td>\n",
       "      <td>1152.0</td>\n",
       "      <td>NaN</td>\n",
       "      <td>0</td>\n",
       "      <td>1</td>\n",
       "      <td>0</td>\n",
       "      <td>0</td>\n",
       "      <td>0</td>\n",
       "      <td>2</td>\n",
       "      <td>22</td>\n",
       "    </tr>\n",
       "    <tr>\n",
       "      <th>736</th>\n",
       "      <td>house</td>\n",
       "      <td>independent</td>\n",
       "      <td>sector 17a</td>\n",
       "      <td>3.87</td>\n",
       "      <td>5160.0</td>\n",
       "      <td>7500.0</td>\n",
       "      <td>Plot area 1623(150.78 sq.m.)Built Up area: 750...</td>\n",
       "      <td>19</td>\n",
       "      <td>17</td>\n",
       "      <td>3+</td>\n",
       "      <td>5.0</td>\n",
       "      <td>North-West</td>\n",
       "      <td>Relatively New</td>\n",
       "      <td>NaN</td>\n",
       "      <td>7500.0</td>\n",
       "      <td>NaN</td>\n",
       "      <td>1</td>\n",
       "      <td>0</td>\n",
       "      <td>1</td>\n",
       "      <td>0</td>\n",
       "      <td>0</td>\n",
       "      <td>0</td>\n",
       "      <td>68</td>\n",
       "    </tr>\n",
       "    <tr>\n",
       "      <th>3097</th>\n",
       "      <td>house</td>\n",
       "      <td>independent</td>\n",
       "      <td>sector 17a</td>\n",
       "      <td>3.93</td>\n",
       "      <td>24214.0</td>\n",
       "      <td>1623.0</td>\n",
       "      <td>Plot area 1623(150.78 sq.m.)Built Up area: 162...</td>\n",
       "      <td>19</td>\n",
       "      <td>17</td>\n",
       "      <td>3</td>\n",
       "      <td>4.0</td>\n",
       "      <td>North-West</td>\n",
       "      <td>Relatively New</td>\n",
       "      <td>NaN</td>\n",
       "      <td>1622.0</td>\n",
       "      <td>NaN</td>\n",
       "      <td>1</td>\n",
       "      <td>1</td>\n",
       "      <td>1</td>\n",
       "      <td>1</td>\n",
       "      <td>0</td>\n",
       "      <td>0</td>\n",
       "      <td>74</td>\n",
       "    </tr>\n",
       "    <tr>\n",
       "      <th>154</th>\n",
       "      <td>house</td>\n",
       "      <td>private house</td>\n",
       "      <td>sector 55</td>\n",
       "      <td>7.05</td>\n",
       "      <td>46906.0</td>\n",
       "      <td>1503.0</td>\n",
       "      <td>Plot area 167(139.63 sq.m.)</td>\n",
       "      <td>18</td>\n",
       "      <td>18</td>\n",
       "      <td>3+</td>\n",
       "      <td>4.0</td>\n",
       "      <td>North-East</td>\n",
       "      <td>Relatively New</td>\n",
       "      <td>NaN</td>\n",
       "      <td>1503.0</td>\n",
       "      <td>NaN</td>\n",
       "      <td>0</td>\n",
       "      <td>0</td>\n",
       "      <td>0</td>\n",
       "      <td>0</td>\n",
       "      <td>1</td>\n",
       "      <td>2</td>\n",
       "      <td>57</td>\n",
       "    </tr>\n",
       "  </tbody>\n",
       "</table>\n",
       "</div>"
      ],
      "text/plain": [
       "     property_type        society      sector  price  price_per_sqft    area  \\\n",
       "643          house    independent   sector 54   5.00         43066.0  1161.0   \n",
       "3278         house    independent   sector 43   4.50         39062.0  1152.0   \n",
       "736          house    independent  sector 17a   3.87          5160.0  7500.0   \n",
       "3097         house    independent  sector 17a   3.93         24214.0  1623.0   \n",
       "154          house  private house   sector 55   7.05         46906.0  1503.0   \n",
       "\n",
       "                                           areaWithType  bedRoom  bathroom  \\\n",
       "643                         Plot area 129(107.86 sq.m.)       21        21   \n",
       "3278                        Plot area 128(107.02 sq.m.)       20        20   \n",
       "736   Plot area 1623(150.78 sq.m.)Built Up area: 750...       19        17   \n",
       "3097  Plot area 1623(150.78 sq.m.)Built Up area: 162...       19        17   \n",
       "154                         Plot area 167(139.63 sq.m.)       18        18   \n",
       "\n",
       "     balcony  floorNum      facing   agePossession  super_built_up_area  \\\n",
       "643       3+       5.0       North  Relatively New                  NaN   \n",
       "3278      3+       4.0        East  Relatively New                  NaN   \n",
       "736       3+       5.0  North-West  Relatively New                  NaN   \n",
       "3097       3       4.0  North-West  Relatively New                  NaN   \n",
       "154       3+       4.0  North-East  Relatively New                  NaN   \n",
       "\n",
       "      built_up_area  carpet_area  study room  servant room  store room  \\\n",
       "643          1161.0          NaN           0             1           0   \n",
       "3278         1152.0          NaN           0             1           0   \n",
       "736          7500.0          NaN           1             0           1   \n",
       "3097         1622.0          NaN           1             1           1   \n",
       "154          1503.0          NaN           0             0           0   \n",
       "\n",
       "      pooja room  others  furnishing_type  luxury_score  \n",
       "643            0       0                2            49  \n",
       "3278           0       0                2            22  \n",
       "736            0       0                0            68  \n",
       "3097           1       0                0            74  \n",
       "154            0       1                2            57  "
      ]
     },
     "execution_count": 326,
     "metadata": {},
     "output_type": "execute_result"
    }
   ],
   "source": [
    "df[df['bedRoom'] > 10].sort_values('bedRoom',ascending=False).head(5)"
   ]
  },
  {
   "cell_type": "code",
   "execution_count": 328,
   "id": "bf2c9091-4c5b-43dc-960d-c66768640db5",
   "metadata": {},
   "outputs": [],
   "source": [
    "df = df[df['bedRoom'] <= 10]"
   ]
  },
  {
   "cell_type": "code",
   "execution_count": 330,
   "id": "ba4f32df-7e78-47dd-9de0-215f9be6f875",
   "metadata": {},
   "outputs": [
    {
     "data": {
      "text/plain": [
       "(3589, 23)"
      ]
     },
     "execution_count": 330,
     "metadata": {},
     "output_type": "execute_result"
    }
   ],
   "source": [
    "df.shape"
   ]
  },
  {
   "cell_type": "code",
   "execution_count": 332,
   "id": "4c3ad910-17e7-4ce3-8143-4852f711e354",
   "metadata": {},
   "outputs": [
    {
     "name": "stderr",
     "output_type": "stream",
     "text": [
      "C:\\Users\\acer\\AppData\\Local\\Temp\\ipykernel_3008\\1691983684.py:1: UserWarning: \n",
      "\n",
      "`distplot` is a deprecated function and will be removed in seaborn v0.14.0.\n",
      "\n",
      "Please adapt your code to use either `displot` (a figure-level function with\n",
      "similar flexibility) or `histplot` (an axes-level function for histograms).\n",
      "\n",
      "For a guide to updating your code to use the new functions, please see\n",
      "https://gist.github.com/mwaskom/de44147ed2974457ad6372750bbe5751\n",
      "\n",
      "  sns.distplot(df['bedRoom'])\n"
     ]
    },
    {
     "data": {
      "text/plain": [
       "<Axes: xlabel='bedRoom', ylabel='Density'>"
      ]
     },
     "execution_count": 332,
     "metadata": {},
     "output_type": "execute_result"
    },
    {
     "data": {
      "image/png": "[encoded data removed]",
      "text/plain": [
       "<Figure size 640x480 with 1 Axes>"
      ]
     },
     "metadata": {},
     "output_type": "display_data"
    }
   ],
   "source": [
    "sns.distplot(df['bedRoom'])"
   ]
  },
  {
   "cell_type": "code",
   "execution_count": 334,
   "id": "59573ded-7044-414e-b6df-a8233095c502",
   "metadata": {},
   "outputs": [
    {
     "data": {
      "text/plain": [
       "<Axes: xlabel='bedRoom'>"
      ]
     },
     "execution_count": 334,
     "metadata": {},
     "output_type": "execute_result"
    },
    {
     "data": {
      "image/png": "[encoded data removed]",
      "text/plain": [
       "<Figure size 640x480 with 1 Axes>"
      ]
     },
     "metadata": {},
     "output_type": "display_data"
    }
   ],
   "source": [
    "sns.boxplot(x=df['bedRoom'])"
   ]
  },
  {
   "cell_type": "code",
   "execution_count": 336,
   "id": "5cb66eb0-1a83-4c3c-b4b5-b4409f88627f",
   "metadata": {},
   "outputs": [
    {
     "data": {
      "text/plain": [
       "count    3589.000000\n",
       "mean        3.203678\n",
       "std         1.393778\n",
       "min         1.000000\n",
       "25%         2.000000\n",
       "50%         3.000000\n",
       "75%         4.000000\n",
       "max        10.000000\n",
       "Name: bedRoom, dtype: float64"
      ]
     },
     "execution_count": 336,
     "metadata": {},
     "output_type": "execute_result"
    }
   ],
   "source": [
    "df['bedRoom'].describe()"
   ]
  },
  {
   "cell_type": "markdown",
   "id": "d6da853b-d030-45fb-9779-4bfd89e9c333",
   "metadata": {},
   "source": [
    "# Bathroom"
   ]
  },
  {
   "cell_type": "code",
   "execution_count": 339,
   "id": "3c5dbf94-5734-4af7-a5f7-9d8138dabc7f",
   "metadata": {},
   "outputs": [
    {
     "name": "stderr",
     "output_type": "stream",
     "text": [
      "C:\\Users\\acer\\AppData\\Local\\Temp\\ipykernel_3008\\2904465235.py:1: UserWarning: \n",
      "\n",
      "`distplot` is a deprecated function and will be removed in seaborn v0.14.0.\n",
      "\n",
      "Please adapt your code to use either `displot` (a figure-level function with\n",
      "similar flexibility) or `histplot` (an axes-level function for histograms).\n",
      "\n",
      "For a guide to updating your code to use the new functions, please see\n",
      "https://gist.github.com/mwaskom/de44147ed2974457ad6372750bbe5751\n",
      "\n",
      "  sns.distplot(df['bathroom'])\n"
     ]
    },
    {
     "data": {
      "text/plain": [
       "<Axes: xlabel='bathroom', ylabel='Density'>"
      ]
     },
     "execution_count": 339,
     "metadata": {},
     "output_type": "execute_result"
    },
    {
     "data": {
      "image/png": "[encoded data removed]",
      "text/plain": [
       "<Figure size 640x480 with 1 Axes>"
      ]
     },
     "metadata": {},
     "output_type": "display_data"
    }
   ],
   "source": [
    "sns.distplot(df['bathroom'])"
   ]
  },
  {
   "cell_type": "code",
   "execution_count": 341,
   "id": "f8bd26b3-0fe0-4b1c-a0e5-aabd5348b8c2",
   "metadata": {},
   "outputs": [
    {
     "data": {
      "text/plain": [
       "<Axes: xlabel='bathroom'>"
      ]
     },
     "execution_count": 341,
     "metadata": {},
     "output_type": "execute_result"
    },
    {
     "data": {
      "image/png": "[encoded data removed]",
      "text/plain": [
       "<Figure size 640x480 with 1 Axes>"
      ]
     },
     "metadata": {},
     "output_type": "display_data"
    }
   ],
   "source": [
    "sns.boxplot(x=df['bathroom'])"
   ]
  },
  {
   "cell_type": "markdown",
   "id": "5735e124-f2ec-44c2-ad72-519d7db64241",
   "metadata": {},
   "source": [
    "# super built up area"
   ]
  },
  {
   "cell_type": "code",
   "execution_count": 344,
   "id": "4327e48e-17f3-4277-a37d-b6e0d1674891",
   "metadata": {},
   "outputs": [
    {
     "name": "stderr",
     "output_type": "stream",
     "text": [
      "C:\\Users\\acer\\AppData\\Local\\Temp\\ipykernel_3008\\4184943455.py:1: UserWarning: \n",
      "\n",
      "`distplot` is a deprecated function and will be removed in seaborn v0.14.0.\n",
      "\n",
      "Please adapt your code to use either `displot` (a figure-level function with\n",
      "similar flexibility) or `histplot` (an axes-level function for histograms).\n",
      "\n",
      "For a guide to updating your code to use the new functions, please see\n",
      "https://gist.github.com/mwaskom/de44147ed2974457ad6372750bbe5751\n",
      "\n",
      "  sns.distplot(df['super_built_up_area'])\n"
     ]
    },
    {
     "data": {
      "text/plain": [
       "<Axes: xlabel='super_built_up_area', ylabel='Density'>"
      ]
     },
     "execution_count": 344,
     "metadata": {},
     "output_type": "execute_result"
    },
    {
     "data": {
      "image/png": "[encoded data removed]",
      "text/plain": [
       "<Figure size 640x480 with 1 Axes>"
      ]
     },
     "metadata": {},
     "output_type": "display_data"
    }
   ],
   "source": [
    "sns.distplot(df['super_built_up_area'])"
   ]
  },
  {
   "cell_type": "code",
   "execution_count": 346,
   "id": "6d2a4c07-3524-45f0-98db-627a7ce16dbb",
   "metadata": {},
   "outputs": [
    {
     "data": {
      "text/plain": [
       "<Axes: xlabel='super_built_up_area'>"
      ]
     },
     "execution_count": 346,
     "metadata": {},
     "output_type": "execute_result"
    },
    {
     "data": {
      "image/png": "[encoded data removed]",
      "text/plain": [
       "<Figure size 640x480 with 1 Axes>"
      ]
     },
     "metadata": {},
     "output_type": "display_data"
    }
   ],
   "source": [
    "sns.boxplot(x=df['super_built_up_area'])"
   ]
  },
  {
   "cell_type": "code",
   "execution_count": 348,
   "id": "219f71d5-5dbe-41df-aa8c-d79cceab1af0",
   "metadata": {},
   "outputs": [
    {
     "data": {
      "text/plain": [
       "count     1875.000000\n",
       "mean      1925.237627\n",
       "std        764.172177\n",
       "min         89.000000\n",
       "25%       1479.500000\n",
       "50%       1828.000000\n",
       "75%       2215.000000\n",
       "max      10000.000000\n",
       "Name: super_built_up_area, dtype: float64"
      ]
     },
     "execution_count": 348,
     "metadata": {},
     "output_type": "execute_result"
    }
   ],
   "source": [
    "df['super_built_up_area'].describe()"
   ]
  },
  {
   "cell_type": "code",
   "execution_count": 350,
   "id": "a8380027-4aaa-4d82-afcf-9a4e5de557d2",
   "metadata": {},
   "outputs": [
    {
     "data": {
      "text/html": [
       "<div>\n",
       "<style scoped>\n",
       "    .dataframe tbody tr th:only-of-type {\n",
       "        vertical-align: middle;\n",
       "    }\n",
       "\n",
       "    .dataframe tbody tr th {\n",
       "        vertical-align: top;\n",
       "    }\n",
       "\n",
       "    .dataframe thead th {\n",
       "        text-align: right;\n",
       "    }\n",
       "</style>\n",
       "<table border=\"1\" class=\"dataframe\">\n",
       "  <thead>\n",
       "    <tr style=\"text-align: right;\">\n",
       "      <th></th>\n",
       "      <th>property_type</th>\n",
       "      <th>society</th>\n",
       "      <th>sector</th>\n",
       "      <th>price</th>\n",
       "      <th>price_per_sqft</th>\n",
       "      <th>area</th>\n",
       "      <th>areaWithType</th>\n",
       "      <th>bedRoom</th>\n",
       "      <th>bathroom</th>\n",
       "      <th>balcony</th>\n",
       "      <th>floorNum</th>\n",
       "      <th>facing</th>\n",
       "      <th>agePossession</th>\n",
       "      <th>super_built_up_area</th>\n",
       "      <th>built_up_area</th>\n",
       "      <th>carpet_area</th>\n",
       "      <th>study room</th>\n",
       "      <th>servant room</th>\n",
       "      <th>store room</th>\n",
       "      <th>pooja room</th>\n",
       "      <th>others</th>\n",
       "      <th>furnishing_type</th>\n",
       "      <th>luxury_score</th>\n",
       "    </tr>\n",
       "  </thead>\n",
       "  <tbody>\n",
       "    <tr>\n",
       "      <th>480</th>\n",
       "      <td>flat</td>\n",
       "      <td>krrish provence estate</td>\n",
       "      <td>gwal pahari</td>\n",
       "      <td>7.5</td>\n",
       "      <td>7500.0</td>\n",
       "      <td>10000.0</td>\n",
       "      <td>Super Built up area 10000(929.03 sq.m.)</td>\n",
       "      <td>5</td>\n",
       "      <td>6</td>\n",
       "      <td>3+</td>\n",
       "      <td>23.0</td>\n",
       "      <td>North-East</td>\n",
       "      <td>Relatively New</td>\n",
       "      <td>10000.0</td>\n",
       "      <td>NaN</td>\n",
       "      <td>NaN</td>\n",
       "      <td>0</td>\n",
       "      <td>1</td>\n",
       "      <td>0</td>\n",
       "      <td>1</td>\n",
       "      <td>1</td>\n",
       "      <td>0</td>\n",
       "      <td>49</td>\n",
       "    </tr>\n",
       "    <tr>\n",
       "      <th>1405</th>\n",
       "      <td>flat</td>\n",
       "      <td>bestech park view grand spa</td>\n",
       "      <td>sector 81</td>\n",
       "      <td>4.7</td>\n",
       "      <td>6786.0</td>\n",
       "      <td>6926.0</td>\n",
       "      <td>Super Built up area 6926(643.45 sq.m.)</td>\n",
       "      <td>4</td>\n",
       "      <td>4</td>\n",
       "      <td>3+</td>\n",
       "      <td>19.0</td>\n",
       "      <td>North</td>\n",
       "      <td>Relatively New</td>\n",
       "      <td>6926.0</td>\n",
       "      <td>NaN</td>\n",
       "      <td>NaN</td>\n",
       "      <td>0</td>\n",
       "      <td>1</td>\n",
       "      <td>0</td>\n",
       "      <td>0</td>\n",
       "      <td>0</td>\n",
       "      <td>1</td>\n",
       "      <td>140</td>\n",
       "    </tr>\n",
       "  </tbody>\n",
       "</table>\n",
       "</div>"
      ],
      "text/plain": [
       "     property_type                      society       sector  price  \\\n",
       "480           flat       krrish provence estate  gwal pahari    7.5   \n",
       "1405          flat  bestech park view grand spa    sector 81    4.7   \n",
       "\n",
       "      price_per_sqft     area                             areaWithType  \\\n",
       "480           7500.0  10000.0  Super Built up area 10000(929.03 sq.m.)   \n",
       "1405          6786.0   6926.0   Super Built up area 6926(643.45 sq.m.)   \n",
       "\n",
       "      bedRoom  bathroom balcony  floorNum      facing   agePossession  \\\n",
       "480         5         6      3+      23.0  North-East  Relatively New   \n",
       "1405        4         4      3+      19.0       North  Relatively New   \n",
       "\n",
       "      super_built_up_area  built_up_area  carpet_area  study room  \\\n",
       "480               10000.0            NaN          NaN           0   \n",
       "1405               6926.0            NaN          NaN           0   \n",
       "\n",
       "      servant room  store room  pooja room  others  furnishing_type  \\\n",
       "480              1           0           1       1                0   \n",
       "1405             1           0           0       0                1   \n",
       "\n",
       "      luxury_score  \n",
       "480             49  \n",
       "1405           140  "
      ]
     },
     "execution_count": 350,
     "metadata": {},
     "output_type": "execute_result"
    }
   ],
   "source": [
    "df[df['super_built_up_area'] > 6000]"
   ]
  },
  {
   "cell_type": "markdown",
   "id": "bfec8ee4-e43a-4e5b-a6e0-c92e3191336e",
   "metadata": {},
   "source": [
    "# built up area"
   ]
  },
  {
   "cell_type": "code",
   "execution_count": 353,
   "id": "2c4ac179-a6fb-4b25-adac-e044e70c0106",
   "metadata": {},
   "outputs": [
    {
     "name": "stderr",
     "output_type": "stream",
     "text": [
      "C:\\Users\\acer\\AppData\\Local\\Temp\\ipykernel_3008\\3494228458.py:1: UserWarning: \n",
      "\n",
      "`distplot` is a deprecated function and will be removed in seaborn v0.14.0.\n",
      "\n",
      "Please adapt your code to use either `displot` (a figure-level function with\n",
      "similar flexibility) or `histplot` (an axes-level function for histograms).\n",
      "\n",
      "For a guide to updating your code to use the new functions, please see\n",
      "https://gist.github.com/mwaskom/de44147ed2974457ad6372750bbe5751\n",
      "\n",
      "  sns.distplot(df['built_up_area'])\n"
     ]
    },
    {
     "data": {
      "text/plain": [
       "<Axes: xlabel='built_up_area', ylabel='Density'>"
      ]
     },
     "execution_count": 353,
     "metadata": {},
     "output_type": "execute_result"
    },
    {
     "data": {
      "image/png": "[encoded data removed]",
      "text/plain": [
       "<Figure size 640x480 with 1 Axes>"
      ]
     },
     "metadata": {},
     "output_type": "display_data"
    }
   ],
   "source": [
    "sns.distplot(df['built_up_area'])"
   ]
  },
  {
   "cell_type": "code",
   "execution_count": 355,
   "id": "0ec2c6a8-72d9-41cf-bd2e-9d6f1d8e9a71",
   "metadata": {},
   "outputs": [
    {
     "data": {
      "text/plain": [
       "<Axes: xlabel='built_up_area'>"
      ]
     },
     "execution_count": 355,
     "metadata": {},
     "output_type": "execute_result"
    },
    {
     "data": {
      "image/png": "[encoded data removed]",
      "text/plain": [
       "<Figure size 640x480 with 1 Axes>"
      ]
     },
     "metadata": {},
     "output_type": "display_data"
    }
   ],
   "source": [
    "sns.boxplot(x=df['built_up_area'])"
   ]
  },
  {
   "cell_type": "code",
   "execution_count": 357,
   "id": "ee5156fe-ecde-409c-bc63-2afaaf8d875e",
   "metadata": {},
   "outputs": [
    {
     "data": {
      "text/html": [
       "<div>\n",
       "<style scoped>\n",
       "    .dataframe tbody tr th:only-of-type {\n",
       "        vertical-align: middle;\n",
       "    }\n",
       "\n",
       "    .dataframe tbody tr th {\n",
       "        vertical-align: top;\n",
       "    }\n",
       "\n",
       "    .dataframe thead th {\n",
       "        text-align: right;\n",
       "    }\n",
       "</style>\n",
       "<table border=\"1\" class=\"dataframe\">\n",
       "  <thead>\n",
       "    <tr style=\"text-align: right;\">\n",
       "      <th></th>\n",
       "      <th>property_type</th>\n",
       "      <th>society</th>\n",
       "      <th>sector</th>\n",
       "      <th>price</th>\n",
       "      <th>price_per_sqft</th>\n",
       "      <th>area</th>\n",
       "      <th>areaWithType</th>\n",
       "      <th>bedRoom</th>\n",
       "      <th>bathroom</th>\n",
       "      <th>balcony</th>\n",
       "      <th>floorNum</th>\n",
       "      <th>facing</th>\n",
       "      <th>agePossession</th>\n",
       "      <th>super_built_up_area</th>\n",
       "      <th>built_up_area</th>\n",
       "      <th>carpet_area</th>\n",
       "      <th>study room</th>\n",
       "      <th>servant room</th>\n",
       "      <th>store room</th>\n",
       "      <th>pooja room</th>\n",
       "      <th>others</th>\n",
       "      <th>furnishing_type</th>\n",
       "      <th>luxury_score</th>\n",
       "    </tr>\n",
       "  </thead>\n",
       "  <tbody>\n",
       "    <tr>\n",
       "      <th>859</th>\n",
       "      <td>house</td>\n",
       "      <td>independent</td>\n",
       "      <td>sector 43</td>\n",
       "      <td>27.5</td>\n",
       "      <td>24366.0</td>\n",
       "      <td>11286.0</td>\n",
       "      <td>Plot area 1254(1048.5 sq.m.)</td>\n",
       "      <td>6</td>\n",
       "      <td>7</td>\n",
       "      <td>3+</td>\n",
       "      <td>3.0</td>\n",
       "      <td>North-East</td>\n",
       "      <td>Relatively New</td>\n",
       "      <td>NaN</td>\n",
       "      <td>11286.0</td>\n",
       "      <td>NaN</td>\n",
       "      <td>1</td>\n",
       "      <td>1</td>\n",
       "      <td>0</td>\n",
       "      <td>1</td>\n",
       "      <td>1</td>\n",
       "      <td>1</td>\n",
       "      <td>42</td>\n",
       "    </tr>\n",
       "  </tbody>\n",
       "</table>\n",
       "</div>"
      ],
      "text/plain": [
       "    property_type      society     sector  price  price_per_sqft     area  \\\n",
       "859         house  independent  sector 43   27.5         24366.0  11286.0   \n",
       "\n",
       "                     areaWithType  bedRoom  bathroom balcony  floorNum  \\\n",
       "859  Plot area 1254(1048.5 sq.m.)        6         7      3+       3.0   \n",
       "\n",
       "         facing   agePossession  super_built_up_area  built_up_area  \\\n",
       "859  North-East  Relatively New                  NaN        11286.0   \n",
       "\n",
       "     carpet_area  study room  servant room  store room  pooja room  others  \\\n",
       "859          NaN           1             1           0           1       1   \n",
       "\n",
       "     furnishing_type  luxury_score  \n",
       "859                1            42  "
      ]
     },
     "execution_count": 357,
     "metadata": {},
     "output_type": "execute_result"
    }
   ],
   "source": [
    "df[df['built_up_area'] > 10000]"
   ]
  },
  {
   "cell_type": "markdown",
   "id": "34f6bffb-6301-48eb-9360-726603591c6f",
   "metadata": {},
   "source": [
    "# carpet area"
   ]
  },
  {
   "cell_type": "code",
   "execution_count": 360,
   "id": "d6753ac8-4531-4612-ab9c-ef29963ab54d",
   "metadata": {},
   "outputs": [
    {
     "name": "stderr",
     "output_type": "stream",
     "text": [
      "C:\\Users\\acer\\AppData\\Local\\Temp\\ipykernel_3008\\3905767603.py:1: UserWarning: \n",
      "\n",
      "`distplot` is a deprecated function and will be removed in seaborn v0.14.0.\n",
      "\n",
      "Please adapt your code to use either `displot` (a figure-level function with\n",
      "similar flexibility) or `histplot` (an axes-level function for histograms).\n",
      "\n",
      "For a guide to updating your code to use the new functions, please see\n",
      "https://gist.github.com/mwaskom/de44147ed2974457ad6372750bbe5751\n",
      "\n",
      "  sns.distplot(df['carpet_area'])\n"
     ]
    },
    {
     "data": {
      "text/plain": [
       "<Axes: xlabel='carpet_area', ylabel='Density'>"
      ]
     },
     "execution_count": 360,
     "metadata": {},
     "output_type": "execute_result"
    },
    {
     "data": {
      "image/png": "[encoded data removed]",
      "text/plain": [
       "<Figure size 640x480 with 1 Axes>"
      ]
     },
     "metadata": {},
     "output_type": "display_data"
    }
   ],
   "source": [
    "sns.distplot(df['carpet_area'])"
   ]
  },
  {
   "cell_type": "code",
   "execution_count": 361,
   "id": "4eb2caac-87b4-443a-81e3-4ae7c9f5b2c2",
   "metadata": {},
   "outputs": [
    {
     "data": {
      "text/plain": [
       "<Axes: xlabel='carpet_area'>"
      ]
     },
     "execution_count": 361,
     "metadata": {},
     "output_type": "execute_result"
    },
    {
     "data": {
      "image/png": "[encoded data removed]",
      "text/plain": [
       "<Figure size 640x480 with 1 Axes>"
      ]
     },
     "metadata": {},
     "output_type": "display_data"
    }
   ],
   "source": [
    "sns.boxplot(x=df['carpet_area'])"
   ]
  },
  {
   "cell_type": "code",
   "execution_count": 364,
   "id": "ea50cf85-8312-44a6-b90a-82a4916378b2",
   "metadata": {},
   "outputs": [
    {
     "data": {
      "text/html": [
       "<div>\n",
       "<style scoped>\n",
       "    .dataframe tbody tr th:only-of-type {\n",
       "        vertical-align: middle;\n",
       "    }\n",
       "\n",
       "    .dataframe tbody tr th {\n",
       "        vertical-align: top;\n",
       "    }\n",
       "\n",
       "    .dataframe thead th {\n",
       "        text-align: right;\n",
       "    }\n",
       "</style>\n",
       "<table border=\"1\" class=\"dataframe\">\n",
       "  <thead>\n",
       "    <tr style=\"text-align: right;\">\n",
       "      <th></th>\n",
       "      <th>property_type</th>\n",
       "      <th>society</th>\n",
       "      <th>sector</th>\n",
       "      <th>price</th>\n",
       "      <th>price_per_sqft</th>\n",
       "      <th>area</th>\n",
       "      <th>areaWithType</th>\n",
       "      <th>bedRoom</th>\n",
       "      <th>bathroom</th>\n",
       "      <th>balcony</th>\n",
       "      <th>floorNum</th>\n",
       "      <th>facing</th>\n",
       "      <th>agePossession</th>\n",
       "      <th>super_built_up_area</th>\n",
       "      <th>built_up_area</th>\n",
       "      <th>carpet_area</th>\n",
       "      <th>study room</th>\n",
       "      <th>servant room</th>\n",
       "      <th>store room</th>\n",
       "      <th>pooja room</th>\n",
       "      <th>others</th>\n",
       "      <th>furnishing_type</th>\n",
       "      <th>luxury_score</th>\n",
       "    </tr>\n",
       "  </thead>\n",
       "  <tbody>\n",
       "    <tr>\n",
       "      <th>390</th>\n",
       "      <td>flat</td>\n",
       "      <td>m3m golfestate</td>\n",
       "      <td>sector 65</td>\n",
       "      <td>13.2</td>\n",
       "      <td>12000.0</td>\n",
       "      <td>11000.0</td>\n",
       "      <td>Carpet area: 11000 (1021.93 sq.m.)</td>\n",
       "      <td>4</td>\n",
       "      <td>4</td>\n",
       "      <td>3</td>\n",
       "      <td>13.0</td>\n",
       "      <td>North</td>\n",
       "      <td>Moderately Old</td>\n",
       "      <td>NaN</td>\n",
       "      <td>NaN</td>\n",
       "      <td>11000.0</td>\n",
       "      <td>0</td>\n",
       "      <td>1</td>\n",
       "      <td>0</td>\n",
       "      <td>0</td>\n",
       "      <td>0</td>\n",
       "      <td>0</td>\n",
       "      <td>60</td>\n",
       "    </tr>\n",
       "    <tr>\n",
       "      <th>593</th>\n",
       "      <td>flat</td>\n",
       "      <td>godrej air</td>\n",
       "      <td>sector 85</td>\n",
       "      <td>2.5</td>\n",
       "      <td>1379.0</td>\n",
       "      <td>1812.0</td>\n",
       "      <td>Carpet area: 18122 (1683.59 sq.m.)</td>\n",
       "      <td>4</td>\n",
       "      <td>5</td>\n",
       "      <td>3+</td>\n",
       "      <td>16.0</td>\n",
       "      <td>North-East</td>\n",
       "      <td>Under Construction</td>\n",
       "      <td>NaN</td>\n",
       "      <td>NaN</td>\n",
       "      <td>18122.0</td>\n",
       "      <td>1</td>\n",
       "      <td>0</td>\n",
       "      <td>0</td>\n",
       "      <td>1</td>\n",
       "      <td>1</td>\n",
       "      <td>1</td>\n",
       "      <td>44</td>\n",
       "    </tr>\n",
       "  </tbody>\n",
       "</table>\n",
       "</div>"
      ],
      "text/plain": [
       "    property_type         society     sector  price  price_per_sqft     area  \\\n",
       "390          flat  m3m golfestate  sector 65   13.2         12000.0  11000.0   \n",
       "593          flat      godrej air  sector 85    2.5          1379.0   1812.0   \n",
       "\n",
       "                           areaWithType  bedRoom  bathroom balcony  floorNum  \\\n",
       "390  Carpet area: 11000 (1021.93 sq.m.)        4         4       3      13.0   \n",
       "593  Carpet area: 18122 (1683.59 sq.m.)        4         5      3+      16.0   \n",
       "\n",
       "         facing       agePossession  super_built_up_area  built_up_area  \\\n",
       "390       North      Moderately Old                  NaN            NaN   \n",
       "593  North-East  Under Construction                  NaN            NaN   \n",
       "\n",
       "     carpet_area  study room  servant room  store room  pooja room  others  \\\n",
       "390      11000.0           0             1           0           0       0   \n",
       "593      18122.0           1             0           0           1       1   \n",
       "\n",
       "     furnishing_type  luxury_score  \n",
       "390                0            60  \n",
       "593                1            44  "
      ]
     },
     "execution_count": 364,
     "metadata": {},
     "output_type": "execute_result"
    }
   ],
   "source": [
    "df[df['carpet_area'] > 10000]"
   ]
  },
  {
   "cell_type": "code",
   "execution_count": 366,
   "id": "672e0289-5ea0-4c0e-87e5-2c549fdda3f2",
   "metadata": {},
   "outputs": [],
   "source": [
    "df.loc[593,'carpet_area'] = 1812"
   ]
  },
  {
   "cell_type": "code",
   "execution_count": 368,
   "id": "25b8363b-bf1b-4bf3-9466-5e107fc43985",
   "metadata": {},
   "outputs": [
    {
     "data": {
      "text/html": [
       "<div>\n",
       "<style scoped>\n",
       "    .dataframe tbody tr th:only-of-type {\n",
       "        vertical-align: middle;\n",
       "    }\n",
       "\n",
       "    .dataframe tbody tr th {\n",
       "        vertical-align: top;\n",
       "    }\n",
       "\n",
       "    .dataframe thead th {\n",
       "        text-align: right;\n",
       "    }\n",
       "</style>\n",
       "<table border=\"1\" class=\"dataframe\">\n",
       "  <thead>\n",
       "    <tr style=\"text-align: right;\">\n",
       "      <th></th>\n",
       "      <th>property_type</th>\n",
       "      <th>society</th>\n",
       "      <th>sector</th>\n",
       "      <th>price</th>\n",
       "      <th>price_per_sqft</th>\n",
       "      <th>area</th>\n",
       "      <th>areaWithType</th>\n",
       "      <th>bedRoom</th>\n",
       "      <th>bathroom</th>\n",
       "      <th>balcony</th>\n",
       "      <th>floorNum</th>\n",
       "      <th>facing</th>\n",
       "      <th>agePossession</th>\n",
       "      <th>super_built_up_area</th>\n",
       "      <th>built_up_area</th>\n",
       "      <th>carpet_area</th>\n",
       "      <th>study room</th>\n",
       "      <th>servant room</th>\n",
       "      <th>store room</th>\n",
       "      <th>pooja room</th>\n",
       "      <th>others</th>\n",
       "      <th>furnishing_type</th>\n",
       "      <th>luxury_score</th>\n",
       "    </tr>\n",
       "  </thead>\n",
       "  <tbody>\n",
       "    <tr>\n",
       "      <th>390</th>\n",
       "      <td>flat</td>\n",
       "      <td>m3m golfestate</td>\n",
       "      <td>sector 65</td>\n",
       "      <td>13.2</td>\n",
       "      <td>12000.0</td>\n",
       "      <td>11000.0</td>\n",
       "      <td>Carpet area: 11000 (1021.93 sq.m.)</td>\n",
       "      <td>4</td>\n",
       "      <td>4</td>\n",
       "      <td>3</td>\n",
       "      <td>13.0</td>\n",
       "      <td>North</td>\n",
       "      <td>Moderately Old</td>\n",
       "      <td>NaN</td>\n",
       "      <td>NaN</td>\n",
       "      <td>11000.0</td>\n",
       "      <td>0</td>\n",
       "      <td>1</td>\n",
       "      <td>0</td>\n",
       "      <td>0</td>\n",
       "      <td>0</td>\n",
       "      <td>0</td>\n",
       "      <td>60</td>\n",
       "    </tr>\n",
       "  </tbody>\n",
       "</table>\n",
       "</div>"
      ],
      "text/plain": [
       "    property_type         society     sector  price  price_per_sqft     area  \\\n",
       "390          flat  m3m golfestate  sector 65   13.2         12000.0  11000.0   \n",
       "\n",
       "                           areaWithType  bedRoom  bathroom balcony  floorNum  \\\n",
       "390  Carpet area: 11000 (1021.93 sq.m.)        4         4       3      13.0   \n",
       "\n",
       "    facing   agePossession  super_built_up_area  built_up_area  carpet_area  \\\n",
       "390  North  Moderately Old                  NaN            NaN      11000.0   \n",
       "\n",
       "     study room  servant room  store room  pooja room  others  \\\n",
       "390           0             1           0           0       0   \n",
       "\n",
       "     furnishing_type  luxury_score  \n",
       "390                0            60  "
      ]
     },
     "execution_count": 368,
     "metadata": {},
     "output_type": "execute_result"
    }
   ],
   "source": [
    "df[df['carpet_area'] > 10000]"
   ]
  },
  {
   "cell_type": "markdown",
   "id": "80d1daa3-f5e9-4f0d-849c-b518d618300b",
   "metadata": {},
   "source": [
    "# luxury_score"
   ]
  },
  {
   "cell_type": "code",
   "execution_count": 371,
   "id": "59fabe69-6313-4df1-8993-7241b4a5d61a",
   "metadata": {},
   "outputs": [
    {
     "name": "stderr",
     "output_type": "stream",
     "text": [
      "C:\\Users\\acer\\AppData\\Local\\Temp\\ipykernel_3008\\3385064764.py:1: UserWarning: \n",
      "\n",
      "`distplot` is a deprecated function and will be removed in seaborn v0.14.0.\n",
      "\n",
      "Please adapt your code to use either `displot` (a figure-level function with\n",
      "similar flexibility) or `histplot` (an axes-level function for histograms).\n",
      "\n",
      "For a guide to updating your code to use the new functions, please see\n",
      "https://gist.github.com/mwaskom/de44147ed2974457ad6372750bbe5751\n",
      "\n",
      "  sns.distplot(df['luxury_score'])\n"
     ]
    },
    {
     "data": {
      "text/plain": [
       "<Axes: xlabel='luxury_score', ylabel='Density'>"
      ]
     },
     "execution_count": 371,
     "metadata": {},
     "output_type": "execute_result"
    },
    {
     "data": {
      "image/png": "[encoded data removed]",
      "text/plain": [
       "<Figure size 640x480 with 1 Axes>"
      ]
     },
     "metadata": {},
     "output_type": "display_data"
    }
   ],
   "source": [
    "sns.distplot(df['luxury_score'])"
   ]
  },
  {
   "cell_type": "code",
   "execution_count": 373,
   "id": "096f3c4c-41db-4e39-9d90-43b8524ad580",
   "metadata": {},
   "outputs": [
    {
     "data": {
      "text/plain": [
       "<Axes: ylabel='luxury_score'>"
      ]
     },
     "execution_count": 373,
     "metadata": {},
     "output_type": "execute_result"
    },
    {
     "data": {
      "image/png": "[encoded data removed]",
      "text/plain": [
       "<Figure size 640x480 with 1 Axes>"
      ]
     },
     "metadata": {},
     "output_type": "display_data"
    }
   ],
   "source": [
    "sns.boxplot(df['luxury_score'])"
   ]
  },
  {
   "cell_type": "code",
   "execution_count": 375,
   "id": "9329a8d4-e900-4561-8460-1a0c1a82f857",
   "metadata": {},
   "outputs": [],
   "source": [
    "df['price_per_sqft'] = round((df['price']*10000000)/df['area'])"
   ]
  },
  {
   "cell_type": "code",
   "execution_count": 377,
   "id": "66792f4d-c8a6-4ee7-88de-8866cb3374cf",
   "metadata": {},
   "outputs": [
    {
     "name": "stderr",
     "output_type": "stream",
     "text": [
      "C:\\Users\\acer\\AppData\\Local\\Temp\\ipykernel_3008\\2186227091.py:1: UserWarning: \n",
      "\n",
      "`distplot` is a deprecated function and will be removed in seaborn v0.14.0.\n",
      "\n",
      "Please adapt your code to use either `displot` (a figure-level function with\n",
      "similar flexibility) or `histplot` (an axes-level function for histograms).\n",
      "\n",
      "For a guide to updating your code to use the new functions, please see\n",
      "https://gist.github.com/mwaskom/de44147ed2974457ad6372750bbe5751\n",
      "\n",
      "  sns.distplot(df['price_per_sqft'])\n"
     ]
    },
    {
     "data": {
      "text/plain": [
       "<Axes: xlabel='price_per_sqft', ylabel='Density'>"
      ]
     },
     "execution_count": 377,
     "metadata": {},
     "output_type": "execute_result"
    },
    {
     "data": {
      "image/png": "[encoded data removed]",
      "text/plain": [
       "<Figure size 640x480 with 1 Axes>"
      ]
     },
     "metadata": {},
     "output_type": "display_data"
    }
   ],
   "source": [
    "sns.distplot(df['price_per_sqft'])"
   ]
  },
  {
   "cell_type": "code",
   "execution_count": 379,
   "id": "dac17cf7-c76f-4cb3-8330-07b763ec8ef5",
   "metadata": {},
   "outputs": [
    {
     "data": {
      "text/plain": [
       "<Axes: ylabel='price_per_sqft'>"
      ]
     },
     "execution_count": 379,
     "metadata": {},
     "output_type": "execute_result"
    },
    {
     "data": {
      "image/png": "[encoded data removed]",
      "text/plain": [
       "<Figure size 640x480 with 1 Axes>"
      ]
     },
     "metadata": {},
     "output_type": "display_data"
    }
   ],
   "source": [
    "sns.boxplot(df['price_per_sqft'])"
   ]
  },
  {
   "cell_type": "code",
   "execution_count": 381,
   "id": "6608ec7f-707b-40b5-bbd7-7694c0ab9278",
   "metadata": {},
   "outputs": [
    {
     "data": {
      "text/html": [
       "<div>\n",
       "<style scoped>\n",
       "    .dataframe tbody tr th:only-of-type {\n",
       "        vertical-align: middle;\n",
       "    }\n",
       "\n",
       "    .dataframe tbody tr th {\n",
       "        vertical-align: top;\n",
       "    }\n",
       "\n",
       "    .dataframe thead th {\n",
       "        text-align: right;\n",
       "    }\n",
       "</style>\n",
       "<table border=\"1\" class=\"dataframe\">\n",
       "  <thead>\n",
       "    <tr style=\"text-align: right;\">\n",
       "      <th></th>\n",
       "      <th>property_type</th>\n",
       "      <th>society</th>\n",
       "      <th>sector</th>\n",
       "      <th>price</th>\n",
       "      <th>price_per_sqft</th>\n",
       "      <th>area</th>\n",
       "      <th>areaWithType</th>\n",
       "      <th>bedRoom</th>\n",
       "      <th>bathroom</th>\n",
       "      <th>balcony</th>\n",
       "      <th>floorNum</th>\n",
       "      <th>facing</th>\n",
       "      <th>agePossession</th>\n",
       "      <th>super_built_up_area</th>\n",
       "      <th>built_up_area</th>\n",
       "      <th>carpet_area</th>\n",
       "      <th>study room</th>\n",
       "      <th>servant room</th>\n",
       "      <th>store room</th>\n",
       "      <th>pooja room</th>\n",
       "      <th>others</th>\n",
       "      <th>furnishing_type</th>\n",
       "      <th>luxury_score</th>\n",
       "    </tr>\n",
       "  </thead>\n",
       "  <tbody>\n",
       "    <tr>\n",
       "      <th>270</th>\n",
       "      <td>house</td>\n",
       "      <td>independent</td>\n",
       "      <td>sector 26</td>\n",
       "      <td>19.0</td>\n",
       "      <td>42222.0</td>\n",
       "      <td>4500.0</td>\n",
       "      <td>Plot area 500(418.06 sq.m.)</td>\n",
       "      <td>6</td>\n",
       "      <td>8</td>\n",
       "      <td>3+</td>\n",
       "      <td>3.0</td>\n",
       "      <td>East</td>\n",
       "      <td>Moderately Old</td>\n",
       "      <td>NaN</td>\n",
       "      <td>4500.0</td>\n",
       "      <td>NaN</td>\n",
       "      <td>1</td>\n",
       "      <td>1</td>\n",
       "      <td>1</td>\n",
       "      <td>1</td>\n",
       "      <td>0</td>\n",
       "      <td>1</td>\n",
       "      <td>103</td>\n",
       "    </tr>\n",
       "    <tr>\n",
       "      <th>387</th>\n",
       "      <td>house</td>\n",
       "      <td>independent</td>\n",
       "      <td>sector 26</td>\n",
       "      <td>20.0</td>\n",
       "      <td>44444.0</td>\n",
       "      <td>4500.0</td>\n",
       "      <td>Plot area 500(418.06 sq.m.)</td>\n",
       "      <td>5</td>\n",
       "      <td>7</td>\n",
       "      <td>3+</td>\n",
       "      <td>3.0</td>\n",
       "      <td>West</td>\n",
       "      <td>Relatively New</td>\n",
       "      <td>NaN</td>\n",
       "      <td>4500.0</td>\n",
       "      <td>NaN</td>\n",
       "      <td>0</td>\n",
       "      <td>1</td>\n",
       "      <td>0</td>\n",
       "      <td>1</td>\n",
       "      <td>0</td>\n",
       "      <td>2</td>\n",
       "      <td>97</td>\n",
       "    </tr>\n",
       "    <tr>\n",
       "      <th>453</th>\n",
       "      <td>house</td>\n",
       "      <td>independent</td>\n",
       "      <td>sector 25</td>\n",
       "      <td>13.0</td>\n",
       "      <td>45710.0</td>\n",
       "      <td>2844.0</td>\n",
       "      <td>Plot area 316(264.22 sq.m.)</td>\n",
       "      <td>6</td>\n",
       "      <td>8</td>\n",
       "      <td>3+</td>\n",
       "      <td>NaN</td>\n",
       "      <td>NaN</td>\n",
       "      <td>Relatively New</td>\n",
       "      <td>NaN</td>\n",
       "      <td>2844.0</td>\n",
       "      <td>NaN</td>\n",
       "      <td>1</td>\n",
       "      <td>1</td>\n",
       "      <td>1</td>\n",
       "      <td>1</td>\n",
       "      <td>0</td>\n",
       "      <td>2</td>\n",
       "      <td>0</td>\n",
       "    </tr>\n",
       "    <tr>\n",
       "      <th>748</th>\n",
       "      <td>house</td>\n",
       "      <td>independent</td>\n",
       "      <td>sector 28</td>\n",
       "      <td>12.0</td>\n",
       "      <td>42194.0</td>\n",
       "      <td>2844.0</td>\n",
       "      <td>Plot area 316(264.22 sq.m.)</td>\n",
       "      <td>4</td>\n",
       "      <td>5</td>\n",
       "      <td>3+</td>\n",
       "      <td>4.0</td>\n",
       "      <td>East</td>\n",
       "      <td>Relatively New</td>\n",
       "      <td>NaN</td>\n",
       "      <td>2844.0</td>\n",
       "      <td>NaN</td>\n",
       "      <td>0</td>\n",
       "      <td>1</td>\n",
       "      <td>1</td>\n",
       "      <td>1</td>\n",
       "      <td>0</td>\n",
       "      <td>1</td>\n",
       "      <td>60</td>\n",
       "    </tr>\n",
       "    <tr>\n",
       "      <th>1877</th>\n",
       "      <td>house</td>\n",
       "      <td>dlf city plots</td>\n",
       "      <td>sector 26</td>\n",
       "      <td>19.0</td>\n",
       "      <td>42054.0</td>\n",
       "      <td>4518.0</td>\n",
       "      <td>Plot area 502(419.74 sq.m.)</td>\n",
       "      <td>6</td>\n",
       "      <td>6</td>\n",
       "      <td>3</td>\n",
       "      <td>2.0</td>\n",
       "      <td>East</td>\n",
       "      <td>Relatively New</td>\n",
       "      <td>NaN</td>\n",
       "      <td>4518.0</td>\n",
       "      <td>NaN</td>\n",
       "      <td>1</td>\n",
       "      <td>1</td>\n",
       "      <td>0</td>\n",
       "      <td>0</td>\n",
       "      <td>0</td>\n",
       "      <td>1</td>\n",
       "      <td>121</td>\n",
       "    </tr>\n",
       "  </tbody>\n",
       "</table>\n",
       "</div>"
      ],
      "text/plain": [
       "     property_type         society     sector  price  price_per_sqft    area  \\\n",
       "270          house     independent  sector 26   19.0         42222.0  4500.0   \n",
       "387          house     independent  sector 26   20.0         44444.0  4500.0   \n",
       "453          house     independent  sector 25   13.0         45710.0  2844.0   \n",
       "748          house     independent  sector 28   12.0         42194.0  2844.0   \n",
       "1877         house  dlf city plots  sector 26   19.0         42054.0  4518.0   \n",
       "\n",
       "                     areaWithType  bedRoom  bathroom balcony  floorNum facing  \\\n",
       "270   Plot area 500(418.06 sq.m.)        6         8      3+       3.0   East   \n",
       "387   Plot area 500(418.06 sq.m.)        5         7      3+       3.0   West   \n",
       "453   Plot area 316(264.22 sq.m.)        6         8      3+       NaN    NaN   \n",
       "748   Plot area 316(264.22 sq.m.)        4         5      3+       4.0   East   \n",
       "1877  Plot area 502(419.74 sq.m.)        6         6       3       2.0   East   \n",
       "\n",
       "       agePossession  super_built_up_area  built_up_area  carpet_area  \\\n",
       "270   Moderately Old                  NaN         4500.0          NaN   \n",
       "387   Relatively New                  NaN         4500.0          NaN   \n",
       "453   Relatively New                  NaN         2844.0          NaN   \n",
       "748   Relatively New                  NaN         2844.0          NaN   \n",
       "1877  Relatively New                  NaN         4518.0          NaN   \n",
       "\n",
       "      study room  servant room  store room  pooja room  others  \\\n",
       "270            1             1           1           1       0   \n",
       "387            0             1           0           1       0   \n",
       "453            1             1           1           1       0   \n",
       "748            0             1           1           1       0   \n",
       "1877           1             1           0           0       0   \n",
       "\n",
       "      furnishing_type  luxury_score  \n",
       "270                 1           103  \n",
       "387                 2            97  \n",
       "453                 2             0  \n",
       "748                 1            60  \n",
       "1877                1           121  "
      ]
     },
     "execution_count": 381,
     "metadata": {},
     "output_type": "execute_result"
    }
   ],
   "source": [
    "df[df['price_per_sqft'] > 42000].head(5)"
   ]
  },
  {
   "cell_type": "code",
   "execution_count": 383,
   "id": "b305dced-e991-449d-ad51-04fb97270a84",
   "metadata": {},
   "outputs": [
    {
     "data": {
      "text/plain": [
       "250.5"
      ]
     },
     "execution_count": 383,
     "metadata": {},
     "output_type": "execute_result"
    }
   ],
   "source": [
    "x = df[df['price_per_sqft'] <= 20000]\n",
    "(x['area']/x['bedRoom']).quantile(0.05)"
   ]
  },
  {
   "cell_type": "code",
   "execution_count": 385,
   "id": "00860ba3-ef05-4698-a006-b22c43d53ac0",
   "metadata": {},
   "outputs": [
    {
     "data": {
      "text/html": [
       "<div>\n",
       "<style scoped>\n",
       "    .dataframe tbody tr th:only-of-type {\n",
       "        vertical-align: middle;\n",
       "    }\n",
       "\n",
       "    .dataframe tbody tr th {\n",
       "        vertical-align: top;\n",
       "    }\n",
       "\n",
       "    .dataframe thead th {\n",
       "        text-align: right;\n",
       "    }\n",
       "</style>\n",
       "<table border=\"1\" class=\"dataframe\">\n",
       "  <thead>\n",
       "    <tr style=\"text-align: right;\">\n",
       "      <th></th>\n",
       "      <th>property_type</th>\n",
       "      <th>society</th>\n",
       "      <th>sector</th>\n",
       "      <th>price</th>\n",
       "      <th>price_per_sqft</th>\n",
       "      <th>area</th>\n",
       "      <th>areaWithType</th>\n",
       "      <th>bedRoom</th>\n",
       "      <th>bathroom</th>\n",
       "      <th>balcony</th>\n",
       "      <th>floorNum</th>\n",
       "      <th>facing</th>\n",
       "      <th>agePossession</th>\n",
       "      <th>super_built_up_area</th>\n",
       "      <th>built_up_area</th>\n",
       "      <th>carpet_area</th>\n",
       "      <th>study room</th>\n",
       "      <th>servant room</th>\n",
       "      <th>store room</th>\n",
       "      <th>pooja room</th>\n",
       "      <th>others</th>\n",
       "      <th>furnishing_type</th>\n",
       "      <th>luxury_score</th>\n",
       "    </tr>\n",
       "  </thead>\n",
       "  <tbody>\n",
       "    <tr>\n",
       "      <th>3411</th>\n",
       "      <td>flat</td>\n",
       "      <td>tulip lemon</td>\n",
       "      <td>sector 69</td>\n",
       "      <td>0.62</td>\n",
       "      <td>12863.0</td>\n",
       "      <td>482.0</td>\n",
       "      <td>Carpet area: 482 (44.78 sq.m.)</td>\n",
       "      <td>2</td>\n",
       "      <td>2</td>\n",
       "      <td>1</td>\n",
       "      <td>4.0</td>\n",
       "      <td>North-East</td>\n",
       "      <td>Relatively New</td>\n",
       "      <td>NaN</td>\n",
       "      <td>NaN</td>\n",
       "      <td>482.0</td>\n",
       "      <td>0</td>\n",
       "      <td>0</td>\n",
       "      <td>0</td>\n",
       "      <td>0</td>\n",
       "      <td>0</td>\n",
       "      <td>1</td>\n",
       "      <td>108</td>\n",
       "    </tr>\n",
       "    <tr>\n",
       "      <th>281</th>\n",
       "      <td>house</td>\n",
       "      <td>housing board colony</td>\n",
       "      <td>sector 28</td>\n",
       "      <td>3.50</td>\n",
       "      <td>25926.0</td>\n",
       "      <td>1350.0</td>\n",
       "      <td>Plot area 150(125.42 sq.m.)</td>\n",
       "      <td>6</td>\n",
       "      <td>6</td>\n",
       "      <td>3</td>\n",
       "      <td>3.0</td>\n",
       "      <td>NaN</td>\n",
       "      <td>Relatively New</td>\n",
       "      <td>NaN</td>\n",
       "      <td>1350.0</td>\n",
       "      <td>NaN</td>\n",
       "      <td>0</td>\n",
       "      <td>0</td>\n",
       "      <td>0</td>\n",
       "      <td>0</td>\n",
       "      <td>0</td>\n",
       "      <td>0</td>\n",
       "      <td>0</td>\n",
       "    </tr>\n",
       "    <tr>\n",
       "      <th>2498</th>\n",
       "      <td>house</td>\n",
       "      <td>independent</td>\n",
       "      <td>sector 2</td>\n",
       "      <td>3.65</td>\n",
       "      <td>23443.0</td>\n",
       "      <td>1557.0</td>\n",
       "      <td>Plot area 173(144.65 sq.m.)</td>\n",
       "      <td>9</td>\n",
       "      <td>9</td>\n",
       "      <td>3+</td>\n",
       "      <td>3.0</td>\n",
       "      <td>West</td>\n",
       "      <td>New Property</td>\n",
       "      <td>NaN</td>\n",
       "      <td>1557.0</td>\n",
       "      <td>NaN</td>\n",
       "      <td>0</td>\n",
       "      <td>1</td>\n",
       "      <td>0</td>\n",
       "      <td>1</td>\n",
       "      <td>0</td>\n",
       "      <td>1</td>\n",
       "      <td>116</td>\n",
       "    </tr>\n",
       "    <tr>\n",
       "      <th>75</th>\n",
       "      <td>flat</td>\n",
       "      <td>czar mahira homes 63a</td>\n",
       "      <td>sector 63a</td>\n",
       "      <td>0.42</td>\n",
       "      <td>7407.0</td>\n",
       "      <td>567.0</td>\n",
       "      <td>Carpet area: 567 (52.68 sq.m.)</td>\n",
       "      <td>3</td>\n",
       "      <td>2</td>\n",
       "      <td>2</td>\n",
       "      <td>1.0</td>\n",
       "      <td>NaN</td>\n",
       "      <td>Undefined</td>\n",
       "      <td>NaN</td>\n",
       "      <td>NaN</td>\n",
       "      <td>567.0</td>\n",
       "      <td>0</td>\n",
       "      <td>0</td>\n",
       "      <td>0</td>\n",
       "      <td>0</td>\n",
       "      <td>0</td>\n",
       "      <td>0</td>\n",
       "      <td>0</td>\n",
       "    </tr>\n",
       "    <tr>\n",
       "      <th>1786</th>\n",
       "      <td>house</td>\n",
       "      <td>ansal</td>\n",
       "      <td>sector 43</td>\n",
       "      <td>1.85</td>\n",
       "      <td>34259.0</td>\n",
       "      <td>540.0</td>\n",
       "      <td>Plot area 60(5.57 sq.m.)</td>\n",
       "      <td>8</td>\n",
       "      <td>8</td>\n",
       "      <td>3+</td>\n",
       "      <td>5.0</td>\n",
       "      <td>North-West</td>\n",
       "      <td>Relatively New</td>\n",
       "      <td>NaN</td>\n",
       "      <td>60.0</td>\n",
       "      <td>NaN</td>\n",
       "      <td>0</td>\n",
       "      <td>0</td>\n",
       "      <td>0</td>\n",
       "      <td>0</td>\n",
       "      <td>0</td>\n",
       "      <td>0</td>\n",
       "      <td>53</td>\n",
       "    </tr>\n",
       "  </tbody>\n",
       "</table>\n",
       "</div>"
      ],
      "text/plain": [
       "     property_type                society      sector  price  price_per_sqft  \\\n",
       "3411          flat            tulip lemon   sector 69   0.62         12863.0   \n",
       "281          house   housing board colony   sector 28   3.50         25926.0   \n",
       "2498         house            independent    sector 2   3.65         23443.0   \n",
       "75            flat  czar mahira homes 63a  sector 63a   0.42          7407.0   \n",
       "1786         house                  ansal   sector 43   1.85         34259.0   \n",
       "\n",
       "        area                    areaWithType  bedRoom  bathroom balcony  \\\n",
       "3411   482.0  Carpet area: 482 (44.78 sq.m.)        2         2       1   \n",
       "281   1350.0     Plot area 150(125.42 sq.m.)        6         6       3   \n",
       "2498  1557.0     Plot area 173(144.65 sq.m.)        9         9      3+   \n",
       "75     567.0  Carpet area: 567 (52.68 sq.m.)        3         2       2   \n",
       "1786   540.0        Plot area 60(5.57 sq.m.)        8         8      3+   \n",
       "\n",
       "      floorNum      facing   agePossession  super_built_up_area  \\\n",
       "3411       4.0  North-East  Relatively New                  NaN   \n",
       "281        3.0         NaN  Relatively New                  NaN   \n",
       "2498       3.0        West    New Property                  NaN   \n",
       "75         1.0         NaN       Undefined                  NaN   \n",
       "1786       5.0  North-West  Relatively New                  NaN   \n",
       "\n",
       "      built_up_area  carpet_area  study room  servant room  store room  \\\n",
       "3411            NaN        482.0           0             0           0   \n",
       "281          1350.0          NaN           0             0           0   \n",
       "2498         1557.0          NaN           0             1           0   \n",
       "75              NaN        567.0           0             0           0   \n",
       "1786           60.0          NaN           0             0           0   \n",
       "\n",
       "      pooja room  others  furnishing_type  luxury_score  \n",
       "3411           0       0                1           108  \n",
       "281            0       0                0             0  \n",
       "2498           1       0                1           116  \n",
       "75             0       0                0             0  \n",
       "1786           0       0                0            53  "
      ]
     },
     "execution_count": 385,
     "metadata": {},
     "output_type": "execute_result"
    }
   ],
   "source": [
    "df[(df['area']/df['bedRoom'])<250].sample(5)"
   ]
  },
  {
   "cell_type": "code",
   "execution_count": 387,
   "id": "f6b3d551-bccf-4321-9d83-0efbe82e6629",
   "metadata": {},
   "outputs": [
    {
     "data": {
      "text/plain": [
       "<seaborn.axisgrid.FacetGrid at 0x148db988210>"
      ]
     },
     "execution_count": 387,
     "metadata": {},
     "output_type": "execute_result"
    },
    {
     "data": {
      "image/png": "[encoded data removed]",
      "text/plain": [
       "<Figure size 500x500 with 1 Axes>"
      ]
     },
     "metadata": {},
     "output_type": "display_data"
    }
   ],
   "source": [
    "sns.lmplot(data=df,x='area',y = 'bedRoom')"
   ]
  },
  {
   "cell_type": "code",
   "execution_count": 389,
   "id": "1643d04e-0530-403b-8ecf-f807ef3d53a4",
   "metadata": {},
   "outputs": [],
   "source": [
    "df['area_room_ratio'] = df['area']/df['bedRoom']"
   ]
  },
  {
   "cell_type": "code",
   "execution_count": 391,
   "id": "cee7d7cc-68bd-4839-9de1-871d987db78c",
   "metadata": {},
   "outputs": [
    {
     "data": {
      "text/plain": [
       "bedRoom\n",
       "2     47\n",
       "3     33\n",
       "5     28\n",
       "6     17\n",
       "4     17\n",
       "9     15\n",
       "8     12\n",
       "7      8\n",
       "10     8\n",
       "Name: count, dtype: int64"
      ]
     },
     "execution_count": 391,
     "metadata": {},
     "output_type": "execute_result"
    }
   ],
   "source": [
    "df[df['area_room_ratio']<250]['bedRoom'].value_counts()"
   ]
  },
  {
   "cell_type": "code",
   "execution_count": 393,
   "id": "79d28e0b-4bce-4bcd-be9d-7694be57b01d",
   "metadata": {},
   "outputs": [],
   "source": [
    "df = df[df['area_room_ratio']>100]"
   ]
  },
  {
   "cell_type": "code",
   "execution_count": 395,
   "id": "fb28a447-75f7-403f-83db-d242a15aaa1d",
   "metadata": {},
   "outputs": [],
   "source": [
    "outliers_df = df[(df['area_room_ratio']<250) & (df['bedRoom']>3)]"
   ]
  },
  {
   "cell_type": "code",
   "execution_count": 397,
   "id": "1a0a6462-b7e0-48ee-a493-a4d9b1db902f",
   "metadata": {},
   "outputs": [
    {
     "name": "stderr",
     "output_type": "stream",
     "text": [
      "C:\\Users\\acer\\AppData\\Local\\Temp\\ipykernel_3008\\3450078040.py:1: SettingWithCopyWarning: \n",
      "A value is trying to be set on a copy of a slice from a DataFrame.\n",
      "Try using .loc[row_indexer,col_indexer] = value instead\n",
      "\n",
      "See the caveats in the documentation: https://pandas.pydata.org/pandas-docs/stable/user_guide/indexing.html#returning-a-view-versus-a-copy\n",
      "  outliers_df['bedRoom'] = round(outliers_df['bedRoom']/outliers_df['floorNum'])\n"
     ]
    }
   ],
   "source": [
    "outliers_df['bedRoom'] = round(outliers_df['bedRoom']/outliers_df['floorNum'])"
   ]
  },
  {
   "cell_type": "code",
   "execution_count": 399,
   "id": "9412d932-aa55-4ed9-9719-58bb9c2d4e1e",
   "metadata": {},
   "outputs": [],
   "source": [
    "df.update(outliers_df)"
   ]
  },
  {
   "cell_type": "code",
   "execution_count": 401,
   "id": "d947ba73-b53a-4137-8c17-ce4e775addd5",
   "metadata": {},
   "outputs": [],
   "source": [
    "df = df[~((df['area_room_ratio']<250) & (df['bedRoom']>4))]"
   ]
  },
  {
   "cell_type": "code",
   "execution_count": 403,
   "id": "e0cd39aa-d28a-4ea8-8bdc-62aa8e9e87dd",
   "metadata": {},
   "outputs": [
    {
     "data": {
      "text/plain": [
       "<seaborn.axisgrid.FacetGrid at 0x148da2afcd0>"
      ]
     },
     "execution_count": 403,
     "metadata": {},
     "output_type": "execute_result"
    },
    {
     "data": {
      "image/png": "[encoded data removed]",
      "text/plain": [
       "<Figure size 500x500 with 1 Axes>"
      ]
     },
     "metadata": {},
     "output_type": "display_data"
    }
   ],
   "source": [
    "sns.lmplot(data=df,x='area',y='bedRoom')"
   ]
  },
  {
   "cell_type": "code",
   "execution_count": 405,
   "id": "8dbe7b9a-69e9-49d1-af6e-b071a5d433e3",
   "metadata": {},
   "outputs": [
    {
     "data": {
      "text/plain": [
       "(3556, 24)"
      ]
     },
     "execution_count": 405,
     "metadata": {},
     "output_type": "execute_result"
    }
   ],
   "source": [
    "df.shape"
   ]
  },
  {
   "cell_type": "code",
   "execution_count": 407,
   "id": "044ce443-248e-4ed7-b00d-31dfa52c32e3",
   "metadata": {},
   "outputs": [],
   "source": [
    "df.to_csv('gurugoan_properties_outlier_treated.csv',index=False)"
   ]
  },
  {
   "cell_type": "code",
   "execution_count": null,
   "id": "cad64c5c-be4a-48fa-85f9-b2fe8cecf099",
   "metadata": {},
   "outputs": [],
   "source": []
  }
 ],
 "metadata": {
  "kernelspec": {
   "display_name": "Python 3 (ipykernel)",
   "language": "python",
   "name": "python3"
  },
  "language_info": {
   "codemirror_mode": {
    "name": "ipython",
    "version": 3
   },
   "file_extension": ".py",
   "mimetype": "text/x-python",
   "name": "python",
   "nbconvert_exporter": "python",
   "pygments_lexer": "ipython3",
   "version": "3.11.9"
  }
 },
 "nbformat": 4,
 "nbformat_minor": 5
}
